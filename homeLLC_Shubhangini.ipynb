{
 "cells": [
  {
   "cell_type": "markdown",
   "id": "8d132011",
   "metadata": {},
   "source": [
    "**Find publicly available data for key supply-demand factors that influence US home prices. Then, build a data science model that explains how these factors impacted home prices over the last 20 years.**"
   ]
  },
  {
   "cell_type": "code",
   "execution_count": 1,
   "id": "0016210c",
   "metadata": {},
   "outputs": [],
   "source": [
    "import numpy as np\n",
    "import pandas as pd\n",
    "import sklearn\n",
    "import seaborn as sns \n",
    "import matplotlib.pyplot as plt\n",
    "%matplotlib inline"
   ]
  },
  {
   "cell_type": "markdown",
   "id": "ad71553c",
   "metadata": {},
   "source": [
    "I DOWNLOADED DATA FROM FRED.STLOUISFED FOR THE KEY SUPPLY-DEMAND FACTORS. \n",
    "The key supply-demand factors are-\n",
    "1. Unemployment rate (UNRATE) : https://fred.stlouisfed.org/series/UNRATE\n",
    "2. Mortgage rate (MORTGAGE30US) : https://fred.stlouisfed.org/series/MORTGAGE30US\n",
    "3. Monthly Supply of Houses in the United States (SUPPLY) : https://fred.stlouisfed.org/series/MSACSR\n",
    "4. New One Family Houses Sold (HOUSES_SOLD) - https://fred.stlouisfed.org/series/HSN1F \n",
    "5. New Privately-Owned Housing Units Authorized in Permit-Issuing Places: Total Units (PERMITS)  -        https://fred.stlouisfed.org/series/PERMIT\n",
    "6. Consumer Price Index (CPI) - https://fred.stlouisfed.org/series/CPIAUCSL\n",
    "7. Effective Federal fund rate (EFFR) - https://fred.stlouisfed.org/series/EFFR\n",
    "8. Economic growth (GDP) - https://fred.stlouisfed.org/series/GDP\n",
    "9. Population (POPULATION) - https://fred.stlouisfed.org/series/POPTHM\n",
    "10. Construction spending Residential (CONSTRUCTION_SPEND) - https://fred.stlouisfed.org/series/TLRESCONS\n",
    "\n",
    "The target variable is Home Price Index (PRICE_INDEX) from https://fred.stlouisfed.org/series/CSUSHPISA \n"
   ]
  },
  {
   "cell_type": "markdown",
   "id": "e497654a",
   "metadata": {},
   "source": [
    "# DATASET PROCESSING "
   ]
  },
  {
   "cell_type": "markdown",
   "id": "a1925965",
   "metadata": {},
   "source": [
    "Since we had to build a data science model that explains how these factors impacted home prices over the last 20 years, the data is taken from 2002-01-01 to 2021-12-01.\n",
    "We take 10 features and 1 target variable. \n",
    "There 240 observations per feature.\n",
    "\n",
    "The UNRATE, CPI, PERMIT, POPULATION, CONSTRUCTION_SPEND, HOUSES_SOLD data is in MONTHLY frequency. \n",
    "The HCAI and GDP data is in QUARTARELY frequency.\n",
    "The EFFR data is in DAILY frequency and the MORTGAGE30US data is in WEEKLY frequency.\n",
    "\n",
    "So we resampling all the features data to MONTHLY frequency."
   ]
  },
  {
   "cell_type": "code",
   "execution_count": 2,
   "id": "8625f245",
   "metadata": {},
   "outputs": [
    {
     "data": {
      "text/html": [
       "<div>\n",
       "<style scoped>\n",
       "    .dataframe tbody tr th:only-of-type {\n",
       "        vertical-align: middle;\n",
       "    }\n",
       "\n",
       "    .dataframe tbody tr th {\n",
       "        vertical-align: top;\n",
       "    }\n",
       "\n",
       "    .dataframe thead th {\n",
       "        text-align: right;\n",
       "    }\n",
       "</style>\n",
       "<table border=\"1\" class=\"dataframe\">\n",
       "  <thead>\n",
       "    <tr style=\"text-align: right;\">\n",
       "      <th></th>\n",
       "      <th>PRICE_INDEX</th>\n",
       "    </tr>\n",
       "    <tr>\n",
       "      <th>observation_date</th>\n",
       "      <th></th>\n",
       "    </tr>\n",
       "  </thead>\n",
       "  <tbody>\n",
       "    <tr>\n",
       "      <th>2002-01-31</th>\n",
       "      <td>117.142</td>\n",
       "    </tr>\n",
       "    <tr>\n",
       "      <th>2002-02-28</th>\n",
       "      <td>117.844</td>\n",
       "    </tr>\n",
       "    <tr>\n",
       "      <th>2002-03-31</th>\n",
       "      <td>118.686</td>\n",
       "    </tr>\n",
       "    <tr>\n",
       "      <th>2002-04-30</th>\n",
       "      <td>119.610</td>\n",
       "    </tr>\n",
       "    <tr>\n",
       "      <th>2002-05-31</th>\n",
       "      <td>120.723</td>\n",
       "    </tr>\n",
       "    <tr>\n",
       "      <th>...</th>\n",
       "      <td>...</td>\n",
       "    </tr>\n",
       "    <tr>\n",
       "      <th>2021-08-31</th>\n",
       "      <td>267.183</td>\n",
       "    </tr>\n",
       "    <tr>\n",
       "      <th>2021-09-30</th>\n",
       "      <td>270.225</td>\n",
       "    </tr>\n",
       "    <tr>\n",
       "      <th>2021-10-31</th>\n",
       "      <td>272.976</td>\n",
       "    </tr>\n",
       "    <tr>\n",
       "      <th>2021-11-30</th>\n",
       "      <td>276.189</td>\n",
       "    </tr>\n",
       "    <tr>\n",
       "      <th>2021-12-31</th>\n",
       "      <td>279.801</td>\n",
       "    </tr>\n",
       "  </tbody>\n",
       "</table>\n",
       "<p>240 rows × 1 columns</p>\n",
       "</div>"
      ],
      "text/plain": [
       "                  PRICE_INDEX\n",
       "observation_date             \n",
       "2002-01-31            117.142\n",
       "2002-02-28            117.844\n",
       "2002-03-31            118.686\n",
       "2002-04-30            119.610\n",
       "2002-05-31            120.723\n",
       "...                       ...\n",
       "2021-08-31            267.183\n",
       "2021-09-30            270.225\n",
       "2021-10-31            272.976\n",
       "2021-11-30            276.189\n",
       "2021-12-31            279.801\n",
       "\n",
       "[240 rows x 1 columns]"
      ]
     },
     "execution_count": 2,
     "metadata": {},
     "output_type": "execute_result"
    }
   ],
   "source": [
    "# TARGET VARIABLE -- HOME PRICE INDEX\n",
    "# loading the excel file\n",
    "target_df = pd.read_excel('CSUSHPISA.xls', skiprows = 10)\n",
    "# setting observation_date as index in the dataframe\n",
    "target_df.set_index('observation_date', inplace = True)\n",
    "# changing data type of observation_date to datetime\n",
    "target_df.index = pd.to_datetime(target_df.index)\n",
    "target_df=target_df.resample('1M').mean() #resampling data to monthly freq\n",
    "target_df.rename(columns = {'CSUSHPISA':'PRICE_INDEX'}, inplace = True) \n",
    "target_df"
   ]
  },
  {
   "cell_type": "code",
   "execution_count": 3,
   "id": "c99d4409",
   "metadata": {},
   "outputs": [
    {
     "data": {
      "text/html": [
       "<div>\n",
       "<style scoped>\n",
       "    .dataframe tbody tr th:only-of-type {\n",
       "        vertical-align: middle;\n",
       "    }\n",
       "\n",
       "    .dataframe tbody tr th {\n",
       "        vertical-align: top;\n",
       "    }\n",
       "\n",
       "    .dataframe thead th {\n",
       "        text-align: right;\n",
       "    }\n",
       "</style>\n",
       "<table border=\"1\" class=\"dataframe\">\n",
       "  <thead>\n",
       "    <tr style=\"text-align: right;\">\n",
       "      <th></th>\n",
       "      <th>EFFR</th>\n",
       "    </tr>\n",
       "    <tr>\n",
       "      <th>observation_date</th>\n",
       "      <th></th>\n",
       "    </tr>\n",
       "  </thead>\n",
       "  <tbody>\n",
       "    <tr>\n",
       "      <th>2002-01-31</th>\n",
       "      <td>1.671364</td>\n",
       "    </tr>\n",
       "    <tr>\n",
       "      <th>2002-02-28</th>\n",
       "      <td>1.745500</td>\n",
       "    </tr>\n",
       "    <tr>\n",
       "      <th>2002-03-31</th>\n",
       "      <td>1.726190</td>\n",
       "    </tr>\n",
       "    <tr>\n",
       "      <th>2002-04-30</th>\n",
       "      <td>1.758636</td>\n",
       "    </tr>\n",
       "    <tr>\n",
       "      <th>2002-05-31</th>\n",
       "      <td>1.682609</td>\n",
       "    </tr>\n",
       "    <tr>\n",
       "      <th>...</th>\n",
       "      <td>...</td>\n",
       "    </tr>\n",
       "    <tr>\n",
       "      <th>2021-08-31</th>\n",
       "      <td>0.093182</td>\n",
       "    </tr>\n",
       "    <tr>\n",
       "      <th>2021-09-30</th>\n",
       "      <td>0.075455</td>\n",
       "    </tr>\n",
       "    <tr>\n",
       "      <th>2021-10-31</th>\n",
       "      <td>0.075714</td>\n",
       "    </tr>\n",
       "    <tr>\n",
       "      <th>2021-11-30</th>\n",
       "      <td>0.072273</td>\n",
       "    </tr>\n",
       "    <tr>\n",
       "      <th>2021-12-31</th>\n",
       "      <td>0.079565</td>\n",
       "    </tr>\n",
       "  </tbody>\n",
       "</table>\n",
       "<p>240 rows × 1 columns</p>\n",
       "</div>"
      ],
      "text/plain": [
       "                      EFFR\n",
       "observation_date          \n",
       "2002-01-31        1.671364\n",
       "2002-02-28        1.745500\n",
       "2002-03-31        1.726190\n",
       "2002-04-30        1.758636\n",
       "2002-05-31        1.682609\n",
       "...                    ...\n",
       "2021-08-31        0.093182\n",
       "2021-09-30        0.075455\n",
       "2021-10-31        0.075714\n",
       "2021-11-30        0.072273\n",
       "2021-12-31        0.079565\n",
       "\n",
       "[240 rows x 1 columns]"
      ]
     },
     "execution_count": 3,
     "metadata": {},
     "output_type": "execute_result"
    }
   ],
   "source": [
    "# EFFECTIVE FEDERAL FUNDS RATE --\n",
    "effr_df=pd.read_excel('EFFR.xls', skiprows = 10)\n",
    "effr_df.set_index('observation_date', inplace=True)\n",
    "effr_df.index = pd.to_datetime(effr_df.index)\n",
    "effr_df=effr_df.resample('1M').mean()\n",
    "effr_df"
   ]
  },
  {
   "cell_type": "code",
   "execution_count": 4,
   "id": "5126a31a",
   "metadata": {},
   "outputs": [
    {
     "data": {
      "text/html": [
       "<div>\n",
       "<style scoped>\n",
       "    .dataframe tbody tr th:only-of-type {\n",
       "        vertical-align: middle;\n",
       "    }\n",
       "\n",
       "    .dataframe tbody tr th {\n",
       "        vertical-align: top;\n",
       "    }\n",
       "\n",
       "    .dataframe thead th {\n",
       "        text-align: right;\n",
       "    }\n",
       "</style>\n",
       "<table border=\"1\" class=\"dataframe\">\n",
       "  <thead>\n",
       "    <tr style=\"text-align: right;\">\n",
       "      <th></th>\n",
       "      <th>GDP</th>\n",
       "    </tr>\n",
       "    <tr>\n",
       "      <th>observation_date</th>\n",
       "      <th></th>\n",
       "    </tr>\n",
       "  </thead>\n",
       "  <tbody>\n",
       "    <tr>\n",
       "      <th>2002-01-31</th>\n",
       "      <td>10783.500</td>\n",
       "    </tr>\n",
       "    <tr>\n",
       "      <th>2002-02-28</th>\n",
       "      <td>10783.500</td>\n",
       "    </tr>\n",
       "    <tr>\n",
       "      <th>2002-03-31</th>\n",
       "      <td>10783.500</td>\n",
       "    </tr>\n",
       "    <tr>\n",
       "      <th>2002-04-30</th>\n",
       "      <td>10887.460</td>\n",
       "    </tr>\n",
       "    <tr>\n",
       "      <th>2002-05-31</th>\n",
       "      <td>10887.460</td>\n",
       "    </tr>\n",
       "    <tr>\n",
       "      <th>...</th>\n",
       "      <td>...</td>\n",
       "    </tr>\n",
       "    <tr>\n",
       "      <th>2021-08-31</th>\n",
       "      <td>23202.344</td>\n",
       "    </tr>\n",
       "    <tr>\n",
       "      <th>2021-09-30</th>\n",
       "      <td>23202.344</td>\n",
       "    </tr>\n",
       "    <tr>\n",
       "      <th>2021-10-31</th>\n",
       "      <td>24008.472</td>\n",
       "    </tr>\n",
       "    <tr>\n",
       "      <th>2021-11-30</th>\n",
       "      <td>24008.472</td>\n",
       "    </tr>\n",
       "    <tr>\n",
       "      <th>2021-12-31</th>\n",
       "      <td>24008.472</td>\n",
       "    </tr>\n",
       "  </tbody>\n",
       "</table>\n",
       "<p>240 rows × 1 columns</p>\n",
       "</div>"
      ],
      "text/plain": [
       "                        GDP\n",
       "observation_date           \n",
       "2002-01-31        10783.500\n",
       "2002-02-28        10783.500\n",
       "2002-03-31        10783.500\n",
       "2002-04-30        10887.460\n",
       "2002-05-31        10887.460\n",
       "...                     ...\n",
       "2021-08-31        23202.344\n",
       "2021-09-30        23202.344\n",
       "2021-10-31        24008.472\n",
       "2021-11-30        24008.472\n",
       "2021-12-31        24008.472\n",
       "\n",
       "[240 rows x 1 columns]"
      ]
     },
     "execution_count": 4,
     "metadata": {},
     "output_type": "execute_result"
    }
   ],
   "source": [
    "# GROSS DOMESTIC PRODUCT -\n",
    "gdp_df = pd.read_excel('GDP.xls', skiprows = 10)\n",
    "# since there were two missing observations at the end of the data on converting to monthly frequency,\n",
    "# a small dataframe for the missing values has been created and concatenated.\n",
    "gdp_enddate = pd.Series(pd.date_range(\"2021-11-30\", freq=\"M\", periods=2),dtype='datetime64[ns]',name='observation_date')\n",
    "gdp_endgdp = pd.Series([np.nan,np.nan],dtype='float64',name='GDP')\n",
    "gdp_dfend = pd.concat([gdp_enddate, gdp_endgdp],axis=1)\n",
    "gdp_df = pd.concat([gdp_df, gdp_dfend])\n",
    "gdp_df.set_index('observation_date', inplace=True)\n",
    "gdp_df.index = pd.to_datetime(gdp_df.index)\n",
    "# propogating the last observed non-null values forward\n",
    "gdp_df = gdp_df.resample('1M').fillna(method='ffill')\n",
    "gdp_df = gdp_df.fillna(method='ffill')\n",
    "gdp_df"
   ]
  },
  {
   "cell_type": "code",
   "execution_count": 5,
   "id": "96c4a070",
   "metadata": {},
   "outputs": [
    {
     "data": {
      "text/html": [
       "<div>\n",
       "<style scoped>\n",
       "    .dataframe tbody tr th:only-of-type {\n",
       "        vertical-align: middle;\n",
       "    }\n",
       "\n",
       "    .dataframe tbody tr th {\n",
       "        vertical-align: top;\n",
       "    }\n",
       "\n",
       "    .dataframe thead th {\n",
       "        text-align: right;\n",
       "    }\n",
       "</style>\n",
       "<table border=\"1\" class=\"dataframe\">\n",
       "  <thead>\n",
       "    <tr style=\"text-align: right;\">\n",
       "      <th></th>\n",
       "      <th>HOUSES_SOLD</th>\n",
       "    </tr>\n",
       "    <tr>\n",
       "      <th>observation_date</th>\n",
       "      <th></th>\n",
       "    </tr>\n",
       "  </thead>\n",
       "  <tbody>\n",
       "    <tr>\n",
       "      <th>2002-01-31</th>\n",
       "      <td>880.0</td>\n",
       "    </tr>\n",
       "    <tr>\n",
       "      <th>2002-02-28</th>\n",
       "      <td>948.0</td>\n",
       "    </tr>\n",
       "    <tr>\n",
       "      <th>2002-03-31</th>\n",
       "      <td>923.0</td>\n",
       "    </tr>\n",
       "    <tr>\n",
       "      <th>2002-04-30</th>\n",
       "      <td>936.0</td>\n",
       "    </tr>\n",
       "    <tr>\n",
       "      <th>2002-05-31</th>\n",
       "      <td>978.0</td>\n",
       "    </tr>\n",
       "    <tr>\n",
       "      <th>...</th>\n",
       "      <td>...</td>\n",
       "    </tr>\n",
       "    <tr>\n",
       "      <th>2021-08-31</th>\n",
       "      <td>668.0</td>\n",
       "    </tr>\n",
       "    <tr>\n",
       "      <th>2021-09-30</th>\n",
       "      <td>725.0</td>\n",
       "    </tr>\n",
       "    <tr>\n",
       "      <th>2021-10-31</th>\n",
       "      <td>667.0</td>\n",
       "    </tr>\n",
       "    <tr>\n",
       "      <th>2021-11-30</th>\n",
       "      <td>749.0</td>\n",
       "    </tr>\n",
       "    <tr>\n",
       "      <th>2021-12-31</th>\n",
       "      <td>839.0</td>\n",
       "    </tr>\n",
       "  </tbody>\n",
       "</table>\n",
       "<p>240 rows × 1 columns</p>\n",
       "</div>"
      ],
      "text/plain": [
       "                  HOUSES_SOLD\n",
       "observation_date             \n",
       "2002-01-31              880.0\n",
       "2002-02-28              948.0\n",
       "2002-03-31              923.0\n",
       "2002-04-30              936.0\n",
       "2002-05-31              978.0\n",
       "...                       ...\n",
       "2021-08-31              668.0\n",
       "2021-09-30              725.0\n",
       "2021-10-31              667.0\n",
       "2021-11-30              749.0\n",
       "2021-12-31              839.0\n",
       "\n",
       "[240 rows x 1 columns]"
      ]
     },
     "execution_count": 5,
     "metadata": {},
     "output_type": "execute_result"
    }
   ],
   "source": [
    "# NEW ONE FAMILY HOUSES SOLD --\n",
    "hsn1f_df = pd.read_excel('HSN1F.xls', skiprows = 10)\n",
    "hsn1f_df.set_index('observation_date', inplace = True)\n",
    "hsn1f_df.index = pd.to_datetime(hsn1f_df.index)\n",
    "hsn1f_df = hsn1f_df.resample('1M').mean()\n",
    "hsn1f_df.rename(columns = {'HSN1F':'HOUSES_SOLD'}, inplace = True)\n",
    "hsn1f_df"
   ]
  },
  {
   "cell_type": "code",
   "execution_count": 6,
   "id": "4c7ee466",
   "metadata": {},
   "outputs": [
    {
     "data": {
      "text/html": [
       "<div>\n",
       "<style scoped>\n",
       "    .dataframe tbody tr th:only-of-type {\n",
       "        vertical-align: middle;\n",
       "    }\n",
       "\n",
       "    .dataframe tbody tr th {\n",
       "        vertical-align: top;\n",
       "    }\n",
       "\n",
       "    .dataframe thead th {\n",
       "        text-align: right;\n",
       "    }\n",
       "</style>\n",
       "<table border=\"1\" class=\"dataframe\">\n",
       "  <thead>\n",
       "    <tr style=\"text-align: right;\">\n",
       "      <th></th>\n",
       "      <th>MORTGAGE30US</th>\n",
       "    </tr>\n",
       "    <tr>\n",
       "      <th>observation_date</th>\n",
       "      <th></th>\n",
       "    </tr>\n",
       "  </thead>\n",
       "  <tbody>\n",
       "    <tr>\n",
       "      <th>2002-01-31</th>\n",
       "      <td>6.9975</td>\n",
       "    </tr>\n",
       "    <tr>\n",
       "      <th>2002-02-28</th>\n",
       "      <td>6.8925</td>\n",
       "    </tr>\n",
       "    <tr>\n",
       "      <th>2002-03-31</th>\n",
       "      <td>7.0140</td>\n",
       "    </tr>\n",
       "    <tr>\n",
       "      <th>2002-04-30</th>\n",
       "      <td>6.9850</td>\n",
       "    </tr>\n",
       "    <tr>\n",
       "      <th>2002-05-31</th>\n",
       "      <td>6.8060</td>\n",
       "    </tr>\n",
       "    <tr>\n",
       "      <th>...</th>\n",
       "      <td>...</td>\n",
       "    </tr>\n",
       "    <tr>\n",
       "      <th>2021-08-31</th>\n",
       "      <td>2.8425</td>\n",
       "    </tr>\n",
       "    <tr>\n",
       "      <th>2021-09-30</th>\n",
       "      <td>2.9000</td>\n",
       "    </tr>\n",
       "    <tr>\n",
       "      <th>2021-10-31</th>\n",
       "      <td>3.0675</td>\n",
       "    </tr>\n",
       "    <tr>\n",
       "      <th>2021-11-30</th>\n",
       "      <td>3.0675</td>\n",
       "    </tr>\n",
       "    <tr>\n",
       "      <th>2021-12-31</th>\n",
       "      <td>3.0980</td>\n",
       "    </tr>\n",
       "  </tbody>\n",
       "</table>\n",
       "<p>240 rows × 1 columns</p>\n",
       "</div>"
      ],
      "text/plain": [
       "                  MORTGAGE30US\n",
       "observation_date              \n",
       "2002-01-31              6.9975\n",
       "2002-02-28              6.8925\n",
       "2002-03-31              7.0140\n",
       "2002-04-30              6.9850\n",
       "2002-05-31              6.8060\n",
       "...                        ...\n",
       "2021-08-31              2.8425\n",
       "2021-09-30              2.9000\n",
       "2021-10-31              3.0675\n",
       "2021-11-30              3.0675\n",
       "2021-12-31              3.0980\n",
       "\n",
       "[240 rows x 1 columns]"
      ]
     },
     "execution_count": 6,
     "metadata": {},
     "output_type": "execute_result"
    }
   ],
   "source": [
    "# MORTGAGE RATE --\n",
    "mort_df = pd.read_excel('MORTGAGE30US.xls', skiprows = 10)\n",
    "mort_df.set_index('observation_date', inplace=True)\n",
    "mort_df.index = pd.to_datetime(mort_df.index)\n",
    "mort_df = mort_df.resample('1M').mean()\n",
    "mort_df"
   ]
  },
  {
   "cell_type": "code",
   "execution_count": 7,
   "id": "379cc45d",
   "metadata": {},
   "outputs": [
    {
     "data": {
      "text/html": [
       "<div>\n",
       "<style scoped>\n",
       "    .dataframe tbody tr th:only-of-type {\n",
       "        vertical-align: middle;\n",
       "    }\n",
       "\n",
       "    .dataframe tbody tr th {\n",
       "        vertical-align: top;\n",
       "    }\n",
       "\n",
       "    .dataframe thead th {\n",
       "        text-align: right;\n",
       "    }\n",
       "</style>\n",
       "<table border=\"1\" class=\"dataframe\">\n",
       "  <thead>\n",
       "    <tr style=\"text-align: right;\">\n",
       "      <th></th>\n",
       "      <th>SUPPLY</th>\n",
       "    </tr>\n",
       "    <tr>\n",
       "      <th>observation_date</th>\n",
       "      <th></th>\n",
       "    </tr>\n",
       "  </thead>\n",
       "  <tbody>\n",
       "    <tr>\n",
       "      <th>2002-01-31</th>\n",
       "      <td>4.2</td>\n",
       "    </tr>\n",
       "    <tr>\n",
       "      <th>2002-02-28</th>\n",
       "      <td>4.0</td>\n",
       "    </tr>\n",
       "    <tr>\n",
       "      <th>2002-03-31</th>\n",
       "      <td>4.1</td>\n",
       "    </tr>\n",
       "    <tr>\n",
       "      <th>2002-04-30</th>\n",
       "      <td>4.3</td>\n",
       "    </tr>\n",
       "    <tr>\n",
       "      <th>2002-05-31</th>\n",
       "      <td>4.0</td>\n",
       "    </tr>\n",
       "    <tr>\n",
       "      <th>...</th>\n",
       "      <td>...</td>\n",
       "    </tr>\n",
       "    <tr>\n",
       "      <th>2021-08-31</th>\n",
       "      <td>6.8</td>\n",
       "    </tr>\n",
       "    <tr>\n",
       "      <th>2021-09-30</th>\n",
       "      <td>6.3</td>\n",
       "    </tr>\n",
       "    <tr>\n",
       "      <th>2021-10-31</th>\n",
       "      <td>7.0</td>\n",
       "    </tr>\n",
       "    <tr>\n",
       "      <th>2021-11-30</th>\n",
       "      <td>6.3</td>\n",
       "    </tr>\n",
       "    <tr>\n",
       "      <th>2021-12-31</th>\n",
       "      <td>5.6</td>\n",
       "    </tr>\n",
       "  </tbody>\n",
       "</table>\n",
       "<p>240 rows × 1 columns</p>\n",
       "</div>"
      ],
      "text/plain": [
       "                  SUPPLY\n",
       "observation_date        \n",
       "2002-01-31           4.2\n",
       "2002-02-28           4.0\n",
       "2002-03-31           4.1\n",
       "2002-04-30           4.3\n",
       "2002-05-31           4.0\n",
       "...                  ...\n",
       "2021-08-31           6.8\n",
       "2021-09-30           6.3\n",
       "2021-10-31           7.0\n",
       "2021-11-30           6.3\n",
       "2021-12-31           5.6\n",
       "\n",
       "[240 rows x 1 columns]"
      ]
     },
     "execution_count": 7,
     "metadata": {},
     "output_type": "execute_result"
    }
   ],
   "source": [
    "# MONTHLY SUPPLY OF HOUSES IN THE USA\n",
    "msacr_df = pd.read_excel('MSACSR.xls', skiprows = 10)\n",
    "msacr_df.set_index('observation_date', inplace=True)\n",
    "msacr_df.index = pd.to_datetime(msacr_df.index)\n",
    "msacr_df = msacr_df.resample('1M').mean()\n",
    "msacr_df.rename(columns = {'MSACSR':'SUPPLY'}, inplace = True)\n",
    "msacr_df"
   ]
  },
  {
   "cell_type": "code",
   "execution_count": 8,
   "id": "46683e8d",
   "metadata": {},
   "outputs": [
    {
     "data": {
      "text/html": [
       "<div>\n",
       "<style scoped>\n",
       "    .dataframe tbody tr th:only-of-type {\n",
       "        vertical-align: middle;\n",
       "    }\n",
       "\n",
       "    .dataframe tbody tr th {\n",
       "        vertical-align: top;\n",
       "    }\n",
       "\n",
       "    .dataframe thead th {\n",
       "        text-align: right;\n",
       "    }\n",
       "</style>\n",
       "<table border=\"1\" class=\"dataframe\">\n",
       "  <thead>\n",
       "    <tr style=\"text-align: right;\">\n",
       "      <th></th>\n",
       "      <th>PERMIT</th>\n",
       "    </tr>\n",
       "    <tr>\n",
       "      <th>observation_date</th>\n",
       "      <th></th>\n",
       "    </tr>\n",
       "  </thead>\n",
       "  <tbody>\n",
       "    <tr>\n",
       "      <th>2002-01-31</th>\n",
       "      <td>1665.0</td>\n",
       "    </tr>\n",
       "    <tr>\n",
       "      <th>2002-02-28</th>\n",
       "      <td>1787.0</td>\n",
       "    </tr>\n",
       "    <tr>\n",
       "      <th>2002-03-31</th>\n",
       "      <td>1691.0</td>\n",
       "    </tr>\n",
       "    <tr>\n",
       "      <th>2002-04-30</th>\n",
       "      <td>1669.0</td>\n",
       "    </tr>\n",
       "    <tr>\n",
       "      <th>2002-05-31</th>\n",
       "      <td>1716.0</td>\n",
       "    </tr>\n",
       "    <tr>\n",
       "      <th>...</th>\n",
       "      <td>...</td>\n",
       "    </tr>\n",
       "    <tr>\n",
       "      <th>2021-08-31</th>\n",
       "      <td>1721.0</td>\n",
       "    </tr>\n",
       "    <tr>\n",
       "      <th>2021-09-30</th>\n",
       "      <td>1586.0</td>\n",
       "    </tr>\n",
       "    <tr>\n",
       "      <th>2021-10-31</th>\n",
       "      <td>1653.0</td>\n",
       "    </tr>\n",
       "    <tr>\n",
       "      <th>2021-11-30</th>\n",
       "      <td>1717.0</td>\n",
       "    </tr>\n",
       "    <tr>\n",
       "      <th>2021-12-31</th>\n",
       "      <td>1885.0</td>\n",
       "    </tr>\n",
       "  </tbody>\n",
       "</table>\n",
       "<p>240 rows × 1 columns</p>\n",
       "</div>"
      ],
      "text/plain": [
       "                  PERMIT\n",
       "observation_date        \n",
       "2002-01-31        1665.0\n",
       "2002-02-28        1787.0\n",
       "2002-03-31        1691.0\n",
       "2002-04-30        1669.0\n",
       "2002-05-31        1716.0\n",
       "...                  ...\n",
       "2021-08-31        1721.0\n",
       "2021-09-30        1586.0\n",
       "2021-10-31        1653.0\n",
       "2021-11-30        1717.0\n",
       "2021-12-31        1885.0\n",
       "\n",
       "[240 rows x 1 columns]"
      ]
     },
     "execution_count": 8,
     "metadata": {},
     "output_type": "execute_result"
    }
   ],
   "source": [
    "# NEW PRIVATELY - OWNED HOUSING UNITS AUTHORIZED IN PERMIT ISSUSING PLACES --\n",
    "permit_df = pd.read_excel('PERMIT.xls', skiprows = 10)\n",
    "permit_df.set_index('observation_date', inplace=True)\n",
    "permit_df.index = pd.to_datetime(permit_df.index)\n",
    "permit_df = permit_df.resample('1M').mean()\n",
    "permit_df"
   ]
  },
  {
   "cell_type": "code",
   "execution_count": 9,
   "id": "1f1f580f",
   "metadata": {},
   "outputs": [
    {
     "data": {
      "text/html": [
       "<div>\n",
       "<style scoped>\n",
       "    .dataframe tbody tr th:only-of-type {\n",
       "        vertical-align: middle;\n",
       "    }\n",
       "\n",
       "    .dataframe tbody tr th {\n",
       "        vertical-align: top;\n",
       "    }\n",
       "\n",
       "    .dataframe thead th {\n",
       "        text-align: right;\n",
       "    }\n",
       "</style>\n",
       "<table border=\"1\" class=\"dataframe\">\n",
       "  <thead>\n",
       "    <tr style=\"text-align: right;\">\n",
       "      <th></th>\n",
       "      <th>POPULATION</th>\n",
       "    </tr>\n",
       "    <tr>\n",
       "      <th>observation_date</th>\n",
       "      <th></th>\n",
       "    </tr>\n",
       "  </thead>\n",
       "  <tbody>\n",
       "    <tr>\n",
       "      <th>2002-01-31</th>\n",
       "      <td>286739.0</td>\n",
       "    </tr>\n",
       "    <tr>\n",
       "      <th>2002-02-28</th>\n",
       "      <td>286935.0</td>\n",
       "    </tr>\n",
       "    <tr>\n",
       "      <th>2002-03-31</th>\n",
       "      <td>287131.0</td>\n",
       "    </tr>\n",
       "    <tr>\n",
       "      <th>2002-04-30</th>\n",
       "      <td>287343.0</td>\n",
       "    </tr>\n",
       "    <tr>\n",
       "      <th>2002-05-31</th>\n",
       "      <td>287571.0</td>\n",
       "    </tr>\n",
       "    <tr>\n",
       "      <th>...</th>\n",
       "      <td>...</td>\n",
       "    </tr>\n",
       "    <tr>\n",
       "      <th>2021-08-31</th>\n",
       "      <td>332295.0</td>\n",
       "    </tr>\n",
       "    <tr>\n",
       "      <th>2021-09-30</th>\n",
       "      <td>332403.0</td>\n",
       "    </tr>\n",
       "    <tr>\n",
       "      <th>2021-10-31</th>\n",
       "      <td>332513.0</td>\n",
       "    </tr>\n",
       "    <tr>\n",
       "      <th>2021-11-30</th>\n",
       "      <td>332598.0</td>\n",
       "    </tr>\n",
       "    <tr>\n",
       "      <th>2021-12-31</th>\n",
       "      <td>332640.0</td>\n",
       "    </tr>\n",
       "  </tbody>\n",
       "</table>\n",
       "<p>240 rows × 1 columns</p>\n",
       "</div>"
      ],
      "text/plain": [
       "                  POPULATION\n",
       "observation_date            \n",
       "2002-01-31          286739.0\n",
       "2002-02-28          286935.0\n",
       "2002-03-31          287131.0\n",
       "2002-04-30          287343.0\n",
       "2002-05-31          287571.0\n",
       "...                      ...\n",
       "2021-08-31          332295.0\n",
       "2021-09-30          332403.0\n",
       "2021-10-31          332513.0\n",
       "2021-11-30          332598.0\n",
       "2021-12-31          332640.0\n",
       "\n",
       "[240 rows x 1 columns]"
      ]
     },
     "execution_count": 9,
     "metadata": {},
     "output_type": "execute_result"
    }
   ],
   "source": [
    "# POPULATION IN USA --\n",
    "pop_df = pd.read_excel('POPTHM.xls', skiprows = 10)\n",
    "pop_df.set_index('observation_date', inplace=True)\n",
    "pop_df.index = pd.to_datetime(pop_df.index)\n",
    "pop_df = pop_df.resample('1M').mean()\n",
    "pop_df.rename(columns = {'POPTHM':'POPULATION'}, inplace = True)\n",
    "pop_df"
   ]
  },
  {
   "cell_type": "code",
   "execution_count": 10,
   "id": "87297311",
   "metadata": {},
   "outputs": [
    {
     "data": {
      "text/html": [
       "<div>\n",
       "<style scoped>\n",
       "    .dataframe tbody tr th:only-of-type {\n",
       "        vertical-align: middle;\n",
       "    }\n",
       "\n",
       "    .dataframe tbody tr th {\n",
       "        vertical-align: top;\n",
       "    }\n",
       "\n",
       "    .dataframe thead th {\n",
       "        text-align: right;\n",
       "    }\n",
       "</style>\n",
       "<table border=\"1\" class=\"dataframe\">\n",
       "  <thead>\n",
       "    <tr style=\"text-align: right;\">\n",
       "      <th></th>\n",
       "      <th>CONSTRUCTION_SPEND</th>\n",
       "    </tr>\n",
       "    <tr>\n",
       "      <th>observation_date</th>\n",
       "      <th></th>\n",
       "    </tr>\n",
       "  </thead>\n",
       "  <tbody>\n",
       "    <tr>\n",
       "      <th>2002-01-31</th>\n",
       "      <td>382979.0</td>\n",
       "    </tr>\n",
       "    <tr>\n",
       "      <th>2002-02-28</th>\n",
       "      <td>391434.0</td>\n",
       "    </tr>\n",
       "    <tr>\n",
       "      <th>2002-03-31</th>\n",
       "      <td>390942.0</td>\n",
       "    </tr>\n",
       "    <tr>\n",
       "      <th>2002-04-30</th>\n",
       "      <td>404255.0</td>\n",
       "    </tr>\n",
       "    <tr>\n",
       "      <th>2002-05-31</th>\n",
       "      <td>399164.0</td>\n",
       "    </tr>\n",
       "    <tr>\n",
       "      <th>...</th>\n",
       "      <td>...</td>\n",
       "    </tr>\n",
       "    <tr>\n",
       "      <th>2021-08-31</th>\n",
       "      <td>789620.0</td>\n",
       "    </tr>\n",
       "    <tr>\n",
       "      <th>2021-09-30</th>\n",
       "      <td>800118.0</td>\n",
       "    </tr>\n",
       "    <tr>\n",
       "      <th>2021-10-31</th>\n",
       "      <td>804575.0</td>\n",
       "    </tr>\n",
       "    <tr>\n",
       "      <th>2021-11-30</th>\n",
       "      <td>810487.0</td>\n",
       "    </tr>\n",
       "    <tr>\n",
       "      <th>2021-12-31</th>\n",
       "      <td>827621.0</td>\n",
       "    </tr>\n",
       "  </tbody>\n",
       "</table>\n",
       "<p>240 rows × 1 columns</p>\n",
       "</div>"
      ],
      "text/plain": [
       "                  CONSTRUCTION_SPEND\n",
       "observation_date                    \n",
       "2002-01-31                  382979.0\n",
       "2002-02-28                  391434.0\n",
       "2002-03-31                  390942.0\n",
       "2002-04-30                  404255.0\n",
       "2002-05-31                  399164.0\n",
       "...                              ...\n",
       "2021-08-31                  789620.0\n",
       "2021-09-30                  800118.0\n",
       "2021-10-31                  804575.0\n",
       "2021-11-30                  810487.0\n",
       "2021-12-31                  827621.0\n",
       "\n",
       "[240 rows x 1 columns]"
      ]
     },
     "execution_count": 10,
     "metadata": {},
     "output_type": "execute_result"
    }
   ],
   "source": [
    "# CONSTRUCTION SPENDING (RESIDENTIAL) --\n",
    "cons_df = pd.read_excel('TLRESCONS.xls', skiprows = 10)\n",
    "cons_df.set_index('observation_date', inplace=True)\n",
    "cons_df.index = pd.to_datetime(cons_df.index)\n",
    "cons_df = cons_df.resample('1M').mean()\n",
    "cons_df.rename(columns = {'TLRESCONS':'CONSTRUCTION_SPEND'}, inplace = True)\n",
    "cons_df"
   ]
  },
  {
   "cell_type": "code",
   "execution_count": 11,
   "id": "cb28c0b1",
   "metadata": {},
   "outputs": [
    {
     "data": {
      "text/html": [
       "<div>\n",
       "<style scoped>\n",
       "    .dataframe tbody tr th:only-of-type {\n",
       "        vertical-align: middle;\n",
       "    }\n",
       "\n",
       "    .dataframe tbody tr th {\n",
       "        vertical-align: top;\n",
       "    }\n",
       "\n",
       "    .dataframe thead th {\n",
       "        text-align: right;\n",
       "    }\n",
       "</style>\n",
       "<table border=\"1\" class=\"dataframe\">\n",
       "  <thead>\n",
       "    <tr style=\"text-align: right;\">\n",
       "      <th></th>\n",
       "      <th>UNRATE</th>\n",
       "    </tr>\n",
       "    <tr>\n",
       "      <th>observation_date</th>\n",
       "      <th></th>\n",
       "    </tr>\n",
       "  </thead>\n",
       "  <tbody>\n",
       "    <tr>\n",
       "      <th>2002-01-31</th>\n",
       "      <td>5.7</td>\n",
       "    </tr>\n",
       "    <tr>\n",
       "      <th>2002-02-28</th>\n",
       "      <td>5.7</td>\n",
       "    </tr>\n",
       "    <tr>\n",
       "      <th>2002-03-31</th>\n",
       "      <td>5.7</td>\n",
       "    </tr>\n",
       "    <tr>\n",
       "      <th>2002-04-30</th>\n",
       "      <td>5.9</td>\n",
       "    </tr>\n",
       "    <tr>\n",
       "      <th>2002-05-31</th>\n",
       "      <td>5.8</td>\n",
       "    </tr>\n",
       "    <tr>\n",
       "      <th>...</th>\n",
       "      <td>...</td>\n",
       "    </tr>\n",
       "    <tr>\n",
       "      <th>2021-08-31</th>\n",
       "      <td>5.2</td>\n",
       "    </tr>\n",
       "    <tr>\n",
       "      <th>2021-09-30</th>\n",
       "      <td>4.7</td>\n",
       "    </tr>\n",
       "    <tr>\n",
       "      <th>2021-10-31</th>\n",
       "      <td>4.6</td>\n",
       "    </tr>\n",
       "    <tr>\n",
       "      <th>2021-11-30</th>\n",
       "      <td>4.2</td>\n",
       "    </tr>\n",
       "    <tr>\n",
       "      <th>2021-12-31</th>\n",
       "      <td>3.9</td>\n",
       "    </tr>\n",
       "  </tbody>\n",
       "</table>\n",
       "<p>240 rows × 1 columns</p>\n",
       "</div>"
      ],
      "text/plain": [
       "                  UNRATE\n",
       "observation_date        \n",
       "2002-01-31           5.7\n",
       "2002-02-28           5.7\n",
       "2002-03-31           5.7\n",
       "2002-04-30           5.9\n",
       "2002-05-31           5.8\n",
       "...                  ...\n",
       "2021-08-31           5.2\n",
       "2021-09-30           4.7\n",
       "2021-10-31           4.6\n",
       "2021-11-30           4.2\n",
       "2021-12-31           3.9\n",
       "\n",
       "[240 rows x 1 columns]"
      ]
     },
     "execution_count": 11,
     "metadata": {},
     "output_type": "execute_result"
    }
   ],
   "source": [
    "# UNEMPLOYEMENT RATE --\n",
    "unrate_df = pd.read_excel('UNRATE.xls', skiprows = 10)\n",
    "unrate_df.set_index('observation_date', inplace=True)\n",
    "unrate_df.index = pd.to_datetime(unrate_df.index)\n",
    "unrate_df = unrate_df.resample('1M').mean()\n",
    "unrate_df"
   ]
  },
  {
   "cell_type": "code",
   "execution_count": 12,
   "id": "88971e77",
   "metadata": {},
   "outputs": [
    {
     "data": {
      "text/html": [
       "<div>\n",
       "<style scoped>\n",
       "    .dataframe tbody tr th:only-of-type {\n",
       "        vertical-align: middle;\n",
       "    }\n",
       "\n",
       "    .dataframe tbody tr th {\n",
       "        vertical-align: top;\n",
       "    }\n",
       "\n",
       "    .dataframe thead th {\n",
       "        text-align: right;\n",
       "    }\n",
       "</style>\n",
       "<table border=\"1\" class=\"dataframe\">\n",
       "  <thead>\n",
       "    <tr style=\"text-align: right;\">\n",
       "      <th></th>\n",
       "      <th>CPI</th>\n",
       "    </tr>\n",
       "    <tr>\n",
       "      <th>observation_date</th>\n",
       "      <th></th>\n",
       "    </tr>\n",
       "  </thead>\n",
       "  <tbody>\n",
       "    <tr>\n",
       "      <th>2002-01-31</th>\n",
       "      <td>177.700</td>\n",
       "    </tr>\n",
       "    <tr>\n",
       "      <th>2002-02-28</th>\n",
       "      <td>178.000</td>\n",
       "    </tr>\n",
       "    <tr>\n",
       "      <th>2002-03-31</th>\n",
       "      <td>178.500</td>\n",
       "    </tr>\n",
       "    <tr>\n",
       "      <th>2002-04-30</th>\n",
       "      <td>179.300</td>\n",
       "    </tr>\n",
       "    <tr>\n",
       "      <th>2002-05-31</th>\n",
       "      <td>179.500</td>\n",
       "    </tr>\n",
       "    <tr>\n",
       "      <th>...</th>\n",
       "      <td>...</td>\n",
       "    </tr>\n",
       "    <tr>\n",
       "      <th>2021-08-31</th>\n",
       "      <td>273.092</td>\n",
       "    </tr>\n",
       "    <tr>\n",
       "      <th>2021-09-30</th>\n",
       "      <td>274.214</td>\n",
       "    </tr>\n",
       "    <tr>\n",
       "      <th>2021-10-31</th>\n",
       "      <td>276.590</td>\n",
       "    </tr>\n",
       "    <tr>\n",
       "      <th>2021-11-30</th>\n",
       "      <td>278.524</td>\n",
       "    </tr>\n",
       "    <tr>\n",
       "      <th>2021-12-31</th>\n",
       "      <td>280.126</td>\n",
       "    </tr>\n",
       "  </tbody>\n",
       "</table>\n",
       "<p>240 rows × 1 columns</p>\n",
       "</div>"
      ],
      "text/plain": [
       "                      CPI\n",
       "observation_date         \n",
       "2002-01-31        177.700\n",
       "2002-02-28        178.000\n",
       "2002-03-31        178.500\n",
       "2002-04-30        179.300\n",
       "2002-05-31        179.500\n",
       "...                   ...\n",
       "2021-08-31        273.092\n",
       "2021-09-30        274.214\n",
       "2021-10-31        276.590\n",
       "2021-11-30        278.524\n",
       "2021-12-31        280.126\n",
       "\n",
       "[240 rows x 1 columns]"
      ]
     },
     "execution_count": 12,
     "metadata": {},
     "output_type": "execute_result"
    }
   ],
   "source": [
    "# CONSUMER PRICE INDEX\n",
    "cpi_df = pd.read_excel('CPIAUCSL.xls', skiprows = 10)\n",
    "cpi_df.set_index('observation_date', inplace=True)\n",
    "cpi_df.index = pd.to_datetime(cpi_df.index)\n",
    "cpi_df=cpi_df.resample('1M').mean()\n",
    "cpi_df.rename(columns = {'CPIAUCSL':'CPI'}, inplace = True)\n",
    "cpi_df"
   ]
  },
  {
   "cell_type": "code",
   "execution_count": 13,
   "id": "f9f9c1c2",
   "metadata": {},
   "outputs": [
    {
     "data": {
      "text/html": [
       "<div>\n",
       "<style scoped>\n",
       "    .dataframe tbody tr th:only-of-type {\n",
       "        vertical-align: middle;\n",
       "    }\n",
       "\n",
       "    .dataframe tbody tr th {\n",
       "        vertical-align: top;\n",
       "    }\n",
       "\n",
       "    .dataframe thead th {\n",
       "        text-align: right;\n",
       "    }\n",
       "</style>\n",
       "<table border=\"1\" class=\"dataframe\">\n",
       "  <thead>\n",
       "    <tr style=\"text-align: right;\">\n",
       "      <th></th>\n",
       "      <th>EFFR</th>\n",
       "      <th>GDP</th>\n",
       "      <th>HOUSES_SOLD</th>\n",
       "      <th>MORTGAGE30US</th>\n",
       "      <th>SUPPLY</th>\n",
       "      <th>PERMIT</th>\n",
       "      <th>POPULATION</th>\n",
       "      <th>CONSTRUCTION_SPEND</th>\n",
       "      <th>UNRATE</th>\n",
       "      <th>CPI</th>\n",
       "    </tr>\n",
       "    <tr>\n",
       "      <th>observation_date</th>\n",
       "      <th></th>\n",
       "      <th></th>\n",
       "      <th></th>\n",
       "      <th></th>\n",
       "      <th></th>\n",
       "      <th></th>\n",
       "      <th></th>\n",
       "      <th></th>\n",
       "      <th></th>\n",
       "      <th></th>\n",
       "    </tr>\n",
       "  </thead>\n",
       "  <tbody>\n",
       "    <tr>\n",
       "      <th>2002-01-31</th>\n",
       "      <td>1.671364</td>\n",
       "      <td>10783.500</td>\n",
       "      <td>880.0</td>\n",
       "      <td>6.9975</td>\n",
       "      <td>4.2</td>\n",
       "      <td>1665.0</td>\n",
       "      <td>286739.0</td>\n",
       "      <td>382979.0</td>\n",
       "      <td>5.7</td>\n",
       "      <td>177.700</td>\n",
       "    </tr>\n",
       "    <tr>\n",
       "      <th>2002-02-28</th>\n",
       "      <td>1.745500</td>\n",
       "      <td>10783.500</td>\n",
       "      <td>948.0</td>\n",
       "      <td>6.8925</td>\n",
       "      <td>4.0</td>\n",
       "      <td>1787.0</td>\n",
       "      <td>286935.0</td>\n",
       "      <td>391434.0</td>\n",
       "      <td>5.7</td>\n",
       "      <td>178.000</td>\n",
       "    </tr>\n",
       "    <tr>\n",
       "      <th>2002-03-31</th>\n",
       "      <td>1.726190</td>\n",
       "      <td>10783.500</td>\n",
       "      <td>923.0</td>\n",
       "      <td>7.0140</td>\n",
       "      <td>4.1</td>\n",
       "      <td>1691.0</td>\n",
       "      <td>287131.0</td>\n",
       "      <td>390942.0</td>\n",
       "      <td>5.7</td>\n",
       "      <td>178.500</td>\n",
       "    </tr>\n",
       "    <tr>\n",
       "      <th>2002-04-30</th>\n",
       "      <td>1.758636</td>\n",
       "      <td>10887.460</td>\n",
       "      <td>936.0</td>\n",
       "      <td>6.9850</td>\n",
       "      <td>4.3</td>\n",
       "      <td>1669.0</td>\n",
       "      <td>287343.0</td>\n",
       "      <td>404255.0</td>\n",
       "      <td>5.9</td>\n",
       "      <td>179.300</td>\n",
       "    </tr>\n",
       "    <tr>\n",
       "      <th>2002-05-31</th>\n",
       "      <td>1.682609</td>\n",
       "      <td>10887.460</td>\n",
       "      <td>978.0</td>\n",
       "      <td>6.8060</td>\n",
       "      <td>4.0</td>\n",
       "      <td>1716.0</td>\n",
       "      <td>287571.0</td>\n",
       "      <td>399164.0</td>\n",
       "      <td>5.8</td>\n",
       "      <td>179.500</td>\n",
       "    </tr>\n",
       "    <tr>\n",
       "      <th>...</th>\n",
       "      <td>...</td>\n",
       "      <td>...</td>\n",
       "      <td>...</td>\n",
       "      <td>...</td>\n",
       "      <td>...</td>\n",
       "      <td>...</td>\n",
       "      <td>...</td>\n",
       "      <td>...</td>\n",
       "      <td>...</td>\n",
       "      <td>...</td>\n",
       "    </tr>\n",
       "    <tr>\n",
       "      <th>2021-08-31</th>\n",
       "      <td>0.093182</td>\n",
       "      <td>23202.344</td>\n",
       "      <td>668.0</td>\n",
       "      <td>2.8425</td>\n",
       "      <td>6.8</td>\n",
       "      <td>1721.0</td>\n",
       "      <td>332295.0</td>\n",
       "      <td>789620.0</td>\n",
       "      <td>5.2</td>\n",
       "      <td>273.092</td>\n",
       "    </tr>\n",
       "    <tr>\n",
       "      <th>2021-09-30</th>\n",
       "      <td>0.075455</td>\n",
       "      <td>23202.344</td>\n",
       "      <td>725.0</td>\n",
       "      <td>2.9000</td>\n",
       "      <td>6.3</td>\n",
       "      <td>1586.0</td>\n",
       "      <td>332403.0</td>\n",
       "      <td>800118.0</td>\n",
       "      <td>4.7</td>\n",
       "      <td>274.214</td>\n",
       "    </tr>\n",
       "    <tr>\n",
       "      <th>2021-10-31</th>\n",
       "      <td>0.075714</td>\n",
       "      <td>24008.472</td>\n",
       "      <td>667.0</td>\n",
       "      <td>3.0675</td>\n",
       "      <td>7.0</td>\n",
       "      <td>1653.0</td>\n",
       "      <td>332513.0</td>\n",
       "      <td>804575.0</td>\n",
       "      <td>4.6</td>\n",
       "      <td>276.590</td>\n",
       "    </tr>\n",
       "    <tr>\n",
       "      <th>2021-11-30</th>\n",
       "      <td>0.072273</td>\n",
       "      <td>24008.472</td>\n",
       "      <td>749.0</td>\n",
       "      <td>3.0675</td>\n",
       "      <td>6.3</td>\n",
       "      <td>1717.0</td>\n",
       "      <td>332598.0</td>\n",
       "      <td>810487.0</td>\n",
       "      <td>4.2</td>\n",
       "      <td>278.524</td>\n",
       "    </tr>\n",
       "    <tr>\n",
       "      <th>2021-12-31</th>\n",
       "      <td>0.079565</td>\n",
       "      <td>24008.472</td>\n",
       "      <td>839.0</td>\n",
       "      <td>3.0980</td>\n",
       "      <td>5.6</td>\n",
       "      <td>1885.0</td>\n",
       "      <td>332640.0</td>\n",
       "      <td>827621.0</td>\n",
       "      <td>3.9</td>\n",
       "      <td>280.126</td>\n",
       "    </tr>\n",
       "  </tbody>\n",
       "</table>\n",
       "<p>240 rows × 10 columns</p>\n",
       "</div>"
      ],
      "text/plain": [
       "                      EFFR        GDP  HOUSES_SOLD  MORTGAGE30US  SUPPLY  \\\n",
       "observation_date                                                           \n",
       "2002-01-31        1.671364  10783.500        880.0        6.9975     4.2   \n",
       "2002-02-28        1.745500  10783.500        948.0        6.8925     4.0   \n",
       "2002-03-31        1.726190  10783.500        923.0        7.0140     4.1   \n",
       "2002-04-30        1.758636  10887.460        936.0        6.9850     4.3   \n",
       "2002-05-31        1.682609  10887.460        978.0        6.8060     4.0   \n",
       "...                    ...        ...          ...           ...     ...   \n",
       "2021-08-31        0.093182  23202.344        668.0        2.8425     6.8   \n",
       "2021-09-30        0.075455  23202.344        725.0        2.9000     6.3   \n",
       "2021-10-31        0.075714  24008.472        667.0        3.0675     7.0   \n",
       "2021-11-30        0.072273  24008.472        749.0        3.0675     6.3   \n",
       "2021-12-31        0.079565  24008.472        839.0        3.0980     5.6   \n",
       "\n",
       "                  PERMIT  POPULATION  CONSTRUCTION_SPEND  UNRATE      CPI  \n",
       "observation_date                                                           \n",
       "2002-01-31        1665.0    286739.0            382979.0     5.7  177.700  \n",
       "2002-02-28        1787.0    286935.0            391434.0     5.7  178.000  \n",
       "2002-03-31        1691.0    287131.0            390942.0     5.7  178.500  \n",
       "2002-04-30        1669.0    287343.0            404255.0     5.9  179.300  \n",
       "2002-05-31        1716.0    287571.0            399164.0     5.8  179.500  \n",
       "...                  ...         ...                 ...     ...      ...  \n",
       "2021-08-31        1721.0    332295.0            789620.0     5.2  273.092  \n",
       "2021-09-30        1586.0    332403.0            800118.0     4.7  274.214  \n",
       "2021-10-31        1653.0    332513.0            804575.0     4.6  276.590  \n",
       "2021-11-30        1717.0    332598.0            810487.0     4.2  278.524  \n",
       "2021-12-31        1885.0    332640.0            827621.0     3.9  280.126  \n",
       "\n",
       "[240 rows x 10 columns]"
      ]
     },
     "execution_count": 13,
     "metadata": {},
     "output_type": "execute_result"
    }
   ],
   "source": [
    "# the individual dataframes for the features is in concatenated into one features_df dataframe.\n",
    "features_df=pd.concat([effr_df, gdp_df, hsn1f_df, mort_df, msacr_df, permit_df, pop_df, cons_df, unrate_df, cpi_df],axis=1)\n",
    "features_df"
   ]
  },
  {
   "cell_type": "code",
   "execution_count": 14,
   "id": "b1c95735",
   "metadata": {},
   "outputs": [
    {
     "data": {
      "text/html": [
       "<div>\n",
       "<style scoped>\n",
       "    .dataframe tbody tr th:only-of-type {\n",
       "        vertical-align: middle;\n",
       "    }\n",
       "\n",
       "    .dataframe tbody tr th {\n",
       "        vertical-align: top;\n",
       "    }\n",
       "\n",
       "    .dataframe thead th {\n",
       "        text-align: right;\n",
       "    }\n",
       "</style>\n",
       "<table border=\"1\" class=\"dataframe\">\n",
       "  <thead>\n",
       "    <tr style=\"text-align: right;\">\n",
       "      <th></th>\n",
       "      <th>EFFR</th>\n",
       "      <th>GDP</th>\n",
       "      <th>HOUSES_SOLD</th>\n",
       "      <th>MORTGAGE30US</th>\n",
       "      <th>SUPPLY</th>\n",
       "      <th>PERMIT</th>\n",
       "      <th>POPULATION</th>\n",
       "      <th>CONSTRUCTION_SPEND</th>\n",
       "      <th>UNRATE</th>\n",
       "      <th>CPI</th>\n",
       "      <th>PRICE_INDEX</th>\n",
       "    </tr>\n",
       "    <tr>\n",
       "      <th>observation_date</th>\n",
       "      <th></th>\n",
       "      <th></th>\n",
       "      <th></th>\n",
       "      <th></th>\n",
       "      <th></th>\n",
       "      <th></th>\n",
       "      <th></th>\n",
       "      <th></th>\n",
       "      <th></th>\n",
       "      <th></th>\n",
       "      <th></th>\n",
       "    </tr>\n",
       "  </thead>\n",
       "  <tbody>\n",
       "    <tr>\n",
       "      <th>2002-01-31</th>\n",
       "      <td>1.671364</td>\n",
       "      <td>10783.500</td>\n",
       "      <td>880.0</td>\n",
       "      <td>6.9975</td>\n",
       "      <td>4.2</td>\n",
       "      <td>1665.0</td>\n",
       "      <td>286739.0</td>\n",
       "      <td>382979.0</td>\n",
       "      <td>5.7</td>\n",
       "      <td>177.700</td>\n",
       "      <td>117.142</td>\n",
       "    </tr>\n",
       "    <tr>\n",
       "      <th>2002-02-28</th>\n",
       "      <td>1.745500</td>\n",
       "      <td>10783.500</td>\n",
       "      <td>948.0</td>\n",
       "      <td>6.8925</td>\n",
       "      <td>4.0</td>\n",
       "      <td>1787.0</td>\n",
       "      <td>286935.0</td>\n",
       "      <td>391434.0</td>\n",
       "      <td>5.7</td>\n",
       "      <td>178.000</td>\n",
       "      <td>117.844</td>\n",
       "    </tr>\n",
       "    <tr>\n",
       "      <th>2002-03-31</th>\n",
       "      <td>1.726190</td>\n",
       "      <td>10783.500</td>\n",
       "      <td>923.0</td>\n",
       "      <td>7.0140</td>\n",
       "      <td>4.1</td>\n",
       "      <td>1691.0</td>\n",
       "      <td>287131.0</td>\n",
       "      <td>390942.0</td>\n",
       "      <td>5.7</td>\n",
       "      <td>178.500</td>\n",
       "      <td>118.686</td>\n",
       "    </tr>\n",
       "    <tr>\n",
       "      <th>2002-04-30</th>\n",
       "      <td>1.758636</td>\n",
       "      <td>10887.460</td>\n",
       "      <td>936.0</td>\n",
       "      <td>6.9850</td>\n",
       "      <td>4.3</td>\n",
       "      <td>1669.0</td>\n",
       "      <td>287343.0</td>\n",
       "      <td>404255.0</td>\n",
       "      <td>5.9</td>\n",
       "      <td>179.300</td>\n",
       "      <td>119.610</td>\n",
       "    </tr>\n",
       "    <tr>\n",
       "      <th>2002-05-31</th>\n",
       "      <td>1.682609</td>\n",
       "      <td>10887.460</td>\n",
       "      <td>978.0</td>\n",
       "      <td>6.8060</td>\n",
       "      <td>4.0</td>\n",
       "      <td>1716.0</td>\n",
       "      <td>287571.0</td>\n",
       "      <td>399164.0</td>\n",
       "      <td>5.8</td>\n",
       "      <td>179.500</td>\n",
       "      <td>120.723</td>\n",
       "    </tr>\n",
       "    <tr>\n",
       "      <th>...</th>\n",
       "      <td>...</td>\n",
       "      <td>...</td>\n",
       "      <td>...</td>\n",
       "      <td>...</td>\n",
       "      <td>...</td>\n",
       "      <td>...</td>\n",
       "      <td>...</td>\n",
       "      <td>...</td>\n",
       "      <td>...</td>\n",
       "      <td>...</td>\n",
       "      <td>...</td>\n",
       "    </tr>\n",
       "    <tr>\n",
       "      <th>2021-08-31</th>\n",
       "      <td>0.093182</td>\n",
       "      <td>23202.344</td>\n",
       "      <td>668.0</td>\n",
       "      <td>2.8425</td>\n",
       "      <td>6.8</td>\n",
       "      <td>1721.0</td>\n",
       "      <td>332295.0</td>\n",
       "      <td>789620.0</td>\n",
       "      <td>5.2</td>\n",
       "      <td>273.092</td>\n",
       "      <td>267.183</td>\n",
       "    </tr>\n",
       "    <tr>\n",
       "      <th>2021-09-30</th>\n",
       "      <td>0.075455</td>\n",
       "      <td>23202.344</td>\n",
       "      <td>725.0</td>\n",
       "      <td>2.9000</td>\n",
       "      <td>6.3</td>\n",
       "      <td>1586.0</td>\n",
       "      <td>332403.0</td>\n",
       "      <td>800118.0</td>\n",
       "      <td>4.7</td>\n",
       "      <td>274.214</td>\n",
       "      <td>270.225</td>\n",
       "    </tr>\n",
       "    <tr>\n",
       "      <th>2021-10-31</th>\n",
       "      <td>0.075714</td>\n",
       "      <td>24008.472</td>\n",
       "      <td>667.0</td>\n",
       "      <td>3.0675</td>\n",
       "      <td>7.0</td>\n",
       "      <td>1653.0</td>\n",
       "      <td>332513.0</td>\n",
       "      <td>804575.0</td>\n",
       "      <td>4.6</td>\n",
       "      <td>276.590</td>\n",
       "      <td>272.976</td>\n",
       "    </tr>\n",
       "    <tr>\n",
       "      <th>2021-11-30</th>\n",
       "      <td>0.072273</td>\n",
       "      <td>24008.472</td>\n",
       "      <td>749.0</td>\n",
       "      <td>3.0675</td>\n",
       "      <td>6.3</td>\n",
       "      <td>1717.0</td>\n",
       "      <td>332598.0</td>\n",
       "      <td>810487.0</td>\n",
       "      <td>4.2</td>\n",
       "      <td>278.524</td>\n",
       "      <td>276.189</td>\n",
       "    </tr>\n",
       "    <tr>\n",
       "      <th>2021-12-31</th>\n",
       "      <td>0.079565</td>\n",
       "      <td>24008.472</td>\n",
       "      <td>839.0</td>\n",
       "      <td>3.0980</td>\n",
       "      <td>5.6</td>\n",
       "      <td>1885.0</td>\n",
       "      <td>332640.0</td>\n",
       "      <td>827621.0</td>\n",
       "      <td>3.9</td>\n",
       "      <td>280.126</td>\n",
       "      <td>279.801</td>\n",
       "    </tr>\n",
       "  </tbody>\n",
       "</table>\n",
       "<p>240 rows × 11 columns</p>\n",
       "</div>"
      ],
      "text/plain": [
       "                      EFFR        GDP  HOUSES_SOLD  MORTGAGE30US  SUPPLY  \\\n",
       "observation_date                                                           \n",
       "2002-01-31        1.671364  10783.500        880.0        6.9975     4.2   \n",
       "2002-02-28        1.745500  10783.500        948.0        6.8925     4.0   \n",
       "2002-03-31        1.726190  10783.500        923.0        7.0140     4.1   \n",
       "2002-04-30        1.758636  10887.460        936.0        6.9850     4.3   \n",
       "2002-05-31        1.682609  10887.460        978.0        6.8060     4.0   \n",
       "...                    ...        ...          ...           ...     ...   \n",
       "2021-08-31        0.093182  23202.344        668.0        2.8425     6.8   \n",
       "2021-09-30        0.075455  23202.344        725.0        2.9000     6.3   \n",
       "2021-10-31        0.075714  24008.472        667.0        3.0675     7.0   \n",
       "2021-11-30        0.072273  24008.472        749.0        3.0675     6.3   \n",
       "2021-12-31        0.079565  24008.472        839.0        3.0980     5.6   \n",
       "\n",
       "                  PERMIT  POPULATION  CONSTRUCTION_SPEND  UNRATE      CPI  \\\n",
       "observation_date                                                            \n",
       "2002-01-31        1665.0    286739.0            382979.0     5.7  177.700   \n",
       "2002-02-28        1787.0    286935.0            391434.0     5.7  178.000   \n",
       "2002-03-31        1691.0    287131.0            390942.0     5.7  178.500   \n",
       "2002-04-30        1669.0    287343.0            404255.0     5.9  179.300   \n",
       "2002-05-31        1716.0    287571.0            399164.0     5.8  179.500   \n",
       "...                  ...         ...                 ...     ...      ...   \n",
       "2021-08-31        1721.0    332295.0            789620.0     5.2  273.092   \n",
       "2021-09-30        1586.0    332403.0            800118.0     4.7  274.214   \n",
       "2021-10-31        1653.0    332513.0            804575.0     4.6  276.590   \n",
       "2021-11-30        1717.0    332598.0            810487.0     4.2  278.524   \n",
       "2021-12-31        1885.0    332640.0            827621.0     3.9  280.126   \n",
       "\n",
       "                  PRICE_INDEX  \n",
       "observation_date               \n",
       "2002-01-31            117.142  \n",
       "2002-02-28            117.844  \n",
       "2002-03-31            118.686  \n",
       "2002-04-30            119.610  \n",
       "2002-05-31            120.723  \n",
       "...                       ...  \n",
       "2021-08-31            267.183  \n",
       "2021-09-30            270.225  \n",
       "2021-10-31            272.976  \n",
       "2021-11-30            276.189  \n",
       "2021-12-31            279.801  \n",
       "\n",
       "[240 rows x 11 columns]"
      ]
     },
     "execution_count": 14,
     "metadata": {},
     "output_type": "execute_result"
    }
   ],
   "source": [
    "# combining target variable PRICE_INDEX with the features\n",
    "data = pd.concat([features_df, target_df], axis = 1)\n",
    "data"
   ]
  },
  {
   "cell_type": "markdown",
   "id": "574ee826",
   "metadata": {},
   "source": [
    "# EXPLORATORY DATA ANALYSIS "
   ]
  },
  {
   "cell_type": "code",
   "execution_count": 15,
   "id": "04b350fb",
   "metadata": {
    "scrolled": false
   },
   "outputs": [
    {
     "data": {
      "text/plain": [
       "EFFR                  0\n",
       "GDP                   0\n",
       "HOUSES_SOLD           0\n",
       "MORTGAGE30US          0\n",
       "SUPPLY                0\n",
       "PERMIT                0\n",
       "POPULATION            0\n",
       "CONSTRUCTION_SPEND    0\n",
       "UNRATE                0\n",
       "CPI                   0\n",
       "PRICE_INDEX           0\n",
       "dtype: int64"
      ]
     },
     "execution_count": 15,
     "metadata": {},
     "output_type": "execute_result"
    }
   ],
   "source": [
    "# CHECKING FOR MISSING VALUES IN THE DATASET\n",
    "data.isna().sum(axis='rows')"
   ]
  },
  {
   "cell_type": "code",
   "execution_count": 16,
   "id": "664373bf",
   "metadata": {},
   "outputs": [
    {
     "name": "stdout",
     "output_type": "stream",
     "text": [
      "<class 'pandas.core.frame.DataFrame'>\n",
      "DatetimeIndex: 240 entries, 2002-01-31 to 2021-12-31\n",
      "Freq: M\n",
      "Data columns (total 11 columns):\n",
      " #   Column              Non-Null Count  Dtype  \n",
      "---  ------              --------------  -----  \n",
      " 0   EFFR                240 non-null    float64\n",
      " 1   GDP                 240 non-null    float64\n",
      " 2   HOUSES_SOLD         240 non-null    float64\n",
      " 3   MORTGAGE30US        240 non-null    float64\n",
      " 4   SUPPLY              240 non-null    float64\n",
      " 5   PERMIT              240 non-null    float64\n",
      " 6   POPULATION          240 non-null    float64\n",
      " 7   CONSTRUCTION_SPEND  240 non-null    float64\n",
      " 8   UNRATE              240 non-null    float64\n",
      " 9   CPI                 240 non-null    float64\n",
      " 10  PRICE_INDEX         240 non-null    float64\n",
      "dtypes: float64(11)\n",
      "memory usage: 30.6 KB\n",
      "None\n"
     ]
    }
   ],
   "source": [
    "print(data.info())"
   ]
  },
  {
   "cell_type": "markdown",
   "id": "8f5d42b2",
   "metadata": {},
   "source": [
    "There are no missing or categorical values in our dataset.\n",
    "Next, we create a heatmap to check collinearity between the features and target in the data."
   ]
  },
  {
   "cell_type": "markdown",
   "id": "d24c87a4",
   "metadata": {},
   "source": [
    "# CORRELATION"
   ]
  },
  {
   "cell_type": "code",
   "execution_count": 17,
   "id": "003b9ef8",
   "metadata": {},
   "outputs": [
    {
     "data": {
      "image/png": "[encoded data removed]",
      "text/plain": [
       "<Figure size 576x864 with 2 Axes>"
      ]
     },
     "metadata": {
      "needs_background": "light"
     },
     "output_type": "display_data"
    }
   ],
   "source": [
    "plt.figure(figsize=(8, 12))\n",
    "heatmap = sns.heatmap(data.corr()[['PRICE_INDEX']].sort_values(by='PRICE_INDEX', ascending=False), vmin=-1, vmax=1, annot=True, cmap='BrBG')\n",
    "heatmap.set_title('Features Correlating with HOME PRICE INDEX', fontdict={'fontsize':18}, pad=16);"
   ]
  },
  {
   "cell_type": "markdown",
   "id": "203da4ca",
   "metadata": {},
   "source": [
    "There is high correlation between (=0.82) between GDP and PRICE_INDEX. And negative correlation between PRICE_INDEX and MORTGAGE30US."
   ]
  },
  {
   "cell_type": "code",
   "execution_count": 18,
   "id": "a0b8c371",
   "metadata": {
    "scrolled": false
   },
   "outputs": [
    {
     "data": {
      "text/plain": [
       "<AxesSubplot:>"
      ]
     },
     "execution_count": 18,
     "metadata": {},
     "output_type": "execute_result"
    },
    {
     "data": {
      "image/png": "[encoded data removed]",
      "text/plain": [
       "<Figure size 1008x504 with 2 Axes>"
      ]
     },
     "metadata": {
      "needs_background": "light"
     },
     "output_type": "display_data"
    }
   ],
   "source": [
    "# CHECKING CORRELATION BETWEEN FEATURES \n",
    "data_corr=data.corr()\n",
    "plt.figure(figsize=(14,7))\n",
    "sns.heatmap(data_corr, annot = True)"
   ]
  },
  {
   "cell_type": "markdown",
   "id": "df0768d2",
   "metadata": {},
   "source": [
    "From the heatmap, we see that the CPI, POPULATION is highly correlated with GDP. And PERMIT is highly correlated with HOUSES_SOLD.\n",
    "I chose a thershold of 0.9 and dropped CPI, POPULATION and PERMIT.  "
   ]
  },
  {
   "cell_type": "code",
   "execution_count": 19,
   "id": "4153e64f",
   "metadata": {
    "scrolled": false
   },
   "outputs": [
    {
     "name": "stdout",
     "output_type": "stream",
     "text": [
      "Index(['EFFR', 'GDP', 'HOUSES_SOLD', 'MORTGAGE30US', 'SUPPLY',\n",
      "       'CONSTRUCTION_SPEND', 'UNRATE', 'PRICE_INDEX'],\n",
      "      dtype='object')\n"
     ]
    }
   ],
   "source": [
    "threshold = 0.9\n",
    "columns = np.full((data_corr.shape[0],), True, dtype=bool)\n",
    "for i in range(data_corr.shape[0]):\n",
    "    for j in range(i+1, data_corr.shape[0]):\n",
    "        if data_corr.iloc[i,j] >= threshold:\n",
    "            if columns[j]:\n",
    "                columns[j] = False\n",
    "selected_columns = data.columns[columns]\n",
    "print(selected_columns)\n",
    "data = data[selected_columns]"
   ]
  },
  {
   "cell_type": "markdown",
   "id": "dea0e908",
   "metadata": {},
   "source": [
    "# SKEWNESS "
   ]
  },
  {
   "cell_type": "code",
   "execution_count": 20,
   "id": "a9facb45",
   "metadata": {
    "scrolled": true
   },
   "outputs": [
    {
     "data": {
      "text/plain": [
       "['EFFR', 'SUPPLY', 'UNRATE']"
      ]
     },
     "execution_count": 20,
     "metadata": {},
     "output_type": "execute_result"
    }
   ],
   "source": [
    "# SKEWNESS \n",
    "skewed_list = []\n",
    "for i in data:\n",
    "    if abs(data[i].skew()) > 1:\n",
    "        skewed_list.append(i)\n",
    "skewed_list"
   ]
  },
  {
   "cell_type": "code",
   "execution_count": 21,
   "id": "a90a092c",
   "metadata": {},
   "outputs": [
    {
     "data": {
      "text/plain": [
       "EFFR                  1.366661\n",
       "GDP                   0.236308\n",
       "HOUSES_SOLD           0.586496\n",
       "MORTGAGE30US          0.200521\n",
       "SUPPLY                1.211121\n",
       "CONSTRUCTION_SPEND    0.235550\n",
       "UNRATE                1.086206\n",
       "PRICE_INDEX           0.923303\n",
       "dtype: float64"
      ]
     },
     "execution_count": 21,
     "metadata": {},
     "output_type": "execute_result"
    }
   ],
   "source": [
    "data.skew()"
   ]
  },
  {
   "cell_type": "markdown",
   "id": "b28f9ca0",
   "metadata": {},
   "source": [
    "The features which have skewness of greater than 1 are applied log1p transformation to reduce skewness.\n",
    "After log1p, the skewness of all the factors became less than 0.7"
   ]
  },
  {
   "cell_type": "code",
   "execution_count": 22,
   "id": "c9b8b6ea",
   "metadata": {},
   "outputs": [
    {
     "name": "stderr",
     "output_type": "stream",
     "text": [
      "C:\\Users\\hp\\anaconda3\\lib\\site-packages\\pandas\\core\\frame.py:3641: SettingWithCopyWarning: \n",
      "A value is trying to be set on a copy of a slice from a DataFrame.\n",
      "Try using .loc[row_indexer,col_indexer] = value instead\n",
      "\n",
      "See the caveats in the documentation: https://pandas.pydata.org/pandas-docs/stable/user_guide/indexing.html#returning-a-view-versus-a-copy\n",
      "  self[k1] = value[k2]\n"
     ]
    },
    {
     "data": {
      "text/plain": [
       "EFFR                  0.656394\n",
       "GDP                   0.236308\n",
       "HOUSES_SOLD           0.586496\n",
       "MORTGAGE30US          0.200521\n",
       "SUPPLY                0.674109\n",
       "CONSTRUCTION_SPEND    0.235550\n",
       "UNRATE                0.528821\n",
       "PRICE_INDEX           0.923303\n",
       "dtype: float64"
      ]
     },
     "execution_count": 22,
     "metadata": {},
     "output_type": "execute_result"
    }
   ],
   "source": [
    "# APPLYING BOX-COX TRANSFORMATION TO REDUCE SKEWNESS OF THE FEATURES\n",
    "#from scipy.special import boxcox1p\n",
    "data[skewed_list] = data[skewed_list].apply(lambda i: np.log1p(i))\n",
    "data.skew()"
   ]
  },
  {
   "cell_type": "code",
   "execution_count": 23,
   "id": "f29cb134",
   "metadata": {},
   "outputs": [],
   "source": [
    "cols = ['EFFR', 'GDP', 'HOUSES_SOLD', 'MORTGAGE30US', 'SUPPLY', 'CONSTRUCTION_SPEND', 'UNRATE']"
   ]
  },
  {
   "cell_type": "markdown",
   "id": "017cd22d",
   "metadata": {},
   "source": [
    "# TRAINING AND TEST SET"
   ]
  },
  {
   "cell_type": "code",
   "execution_count": 24,
   "id": "a6e736af",
   "metadata": {
    "scrolled": true
   },
   "outputs": [
    {
     "name": "stdout",
     "output_type": "stream",
     "text": [
      "(168, 7)\n",
      "(168, 1)\n",
      "(72, 7)\n",
      "(72, 1)\n"
     ]
    },
    {
     "data": {
      "text/plain": [
       "(None, None)"
      ]
     },
     "execution_count": 24,
     "metadata": {},
     "output_type": "execute_result"
    }
   ],
   "source": [
    "from sklearn.model_selection import train_test_split\n",
    "X = data.iloc[:,:-1]\n",
    "y = data['PRICE_INDEX']\n",
    "y = y.to_frame()\n",
    "\n",
    "# Split the data into 70% training set and 30% test set\n",
    "X_train, X_test, y_train, y_test = train_test_split(X, y, test_size=0.3)\n",
    "train_data = pd.concat([X_train, y_train])\n",
    "print(X_train.shape), print(y_train.shape)\n",
    "print(X_test.shape), print(y_test.shape)\n",
    "\n",
    "# now we have 168 observations in X_train set and 72 observations in X_test."
   ]
  },
  {
   "cell_type": "markdown",
   "id": "904b998e",
   "metadata": {},
   "source": [
    "# SCALING"
   ]
  },
  {
   "cell_type": "code",
   "execution_count": 25,
   "id": "a1e8f9c5",
   "metadata": {},
   "outputs": [],
   "source": [
    "# I used standard scaler to transform our data into a distribution with mean value of 0 \n",
    "#and standard deviation 1.\n",
    "from sklearn.preprocessing import StandardScaler\n",
    "sc_X = StandardScaler()\n",
    "X_train = sc_X.fit_transform(X_train)\n",
    "X_test = sc_X.transform(X_test)"
   ]
  },
  {
   "cell_type": "markdown",
   "id": "06818782",
   "metadata": {},
   "source": [
    "# MODEL SELECTION"
   ]
  },
  {
   "cell_type": "code",
   "execution_count": 26,
   "id": "b16a4836",
   "metadata": {},
   "outputs": [],
   "source": [
    "from sklearn.neighbors import KNeighborsRegressor\n",
    "from xgboost import XGBRegressor\n",
    "from sklearn.linear_model import ElasticNet\n",
    "from sklearn.ensemble import RandomForestRegressor,  GradientBoostingRegressor\n",
    "from sklearn.model_selection import KFold, cross_val_score, train_test_split\n",
    "from sklearn.metrics import mean_squared_error\n",
    "import xgboost as xgb\n",
    "xgb.set_config(verbosity=0)\n",
    "import lightgbm as lgb\n",
    "\n",
    "from numpy import mean\n",
    "from numpy import absolute\n",
    "from numpy import sqrt\n",
    "import warnings\n",
    "warnings.filterwarnings('ignore')"
   ]
  },
  {
   "cell_type": "markdown",
   "id": "5856d3d8",
   "metadata": {},
   "source": [
    "I decided to use K-fold cross validation technique with 10 folds as we had a small dataset.\n",
    "The scoring criteria I chose is Root Mean Squared Error (RMSE)."
   ]
  },
  {
   "cell_type": "code",
   "execution_count": 27,
   "id": "e2ac2606",
   "metadata": {},
   "outputs": [],
   "source": [
    "# I defined a function that implements cv fold and returns rmse \n",
    "def score_cv(model):\n",
    "    kf = KFold(n_splits = 10, shuffle=True, random_state = 1)\n",
    "    rmse= np.sqrt(-cross_val_score(model, X_train, y_train, scoring=\"neg_mean_squared_error\", cv = kf))\n",
    "    return(rmse)"
   ]
  },
  {
   "cell_type": "markdown",
   "id": "df22fdb3",
   "metadata": {},
   "source": [
    "Since this was a regression problem, I used mostly ensemble learning methods. \n",
    "\n",
    "A Bagging algorithm - Random Forest.\n",
    "\n",
    "Boosting algorithms - Gradient Boosting, Light Gradient Boosting and XG Boosting.\n",
    "\n",
    "I also used ElasticNet Regression Algorithm which is a hybrid of Lasso and Ridge regression techniques."
   ]
  },
  {
   "cell_type": "code",
   "execution_count": 28,
   "id": "81fbd6bd",
   "metadata": {},
   "outputs": [],
   "source": [
    "# ELASTIC NET REGRESSION\n",
    "model_ENet = ElasticNet(alpha = 0.0005, l1_ratio = 0.9, random_state = 1)\n",
    "\n",
    "# GRADIENT BOOSTING REGRESSION\n",
    "model_GBM = GradientBoostingRegressor(n_estimators = 1000, learning_rate = 0.05, max_depth = 5, random_state = 42)\n",
    "\n",
    "#  REGRESSION\n",
    "model_XGB = xgb.XGBRegressor(learning_rate = 0.05, max_depth = 4, min_child_weight = 1, n_estimators = 1000, random_state = 1, nthreads=-1, booster = 'gbtree')\n",
    "\n",
    "# LIGHT GRADIENT BOOSTING MACHINE\n",
    "model_LGB = lgb.LGBMRegressor(objective = 'regression',num_leaves = 10, learning_rate = 0.05, n_estimators = 1000, random_state = 1)\n",
    "\n",
    "# K-NEAREST NEIGHBOUR\n",
    "model_knn = KNeighborsRegressor(n_neighbors = 3)\n",
    "\n",
    "# RANDOM FOREST REGRESSION\n",
    "model_rf = RandomForestRegressor(n_estimators = 300, random_state = 1, n_jobs = -1, max_features = 'auto', max_depth = 60)"
   ]
  },
  {
   "cell_type": "code",
   "execution_count": 29,
   "id": "98920503",
   "metadata": {
    "scrolled": false
   },
   "outputs": [
    {
     "name": "stdout",
     "output_type": "stream",
     "text": [
      "ElasticNet score: 3.9036\n",
      "\n",
      "Gradient Boosting score: 2.5880\n",
      "\n",
      "Xgboost score: 2.9803\n",
      "\n",
      "LGBM score: 4.5412\n",
      "\n",
      "KNN score: 3.2579\n",
      "\n",
      "Random Forest Regressor score: 2.8505\n",
      "\n"
     ]
    }
   ],
   "source": [
    "# calling the function to calculate rmse score on X_train and y_train for each model\n",
    "score = score_cv(model_ENet)\n",
    "print(\"ElasticNet score: {:.4f}\\n\".format(score.mean()))\n",
    "\n",
    "score = score_cv(model_GBM)\n",
    "print(\"Gradient Boosting score: {:.4f}\\n\".format(score.mean()))\n",
    "\n",
    "score = score_cv(model_XGB)\n",
    "print(\"Xgboost score: {:.4f}\\n\".format(score.mean()))\n",
    "\n",
    "score = score_cv(model_LGB)\n",
    "print(\"LGBM score: {:.4f}\\n\" .format(score.mean()))\n",
    "\n",
    "score = score_cv(model_knn)\n",
    "print(\"KNN score: {:.4f}\\n\" .format(score.mean()))\n",
    "\n",
    "score = score_cv(model_rf)\n",
    "print(\"Random Forest Regressor score: {:.4f}\\n\" .format(score.mean()))"
   ]
  },
  {
   "cell_type": "markdown",
   "id": "7aef678f",
   "metadata": {},
   "source": [
    "From the RMSE scores on K-fold validation, I decided to proceed with Gradient Boosting, Random Forest and XGBoost for further evaluation on test set."
   ]
  },
  {
   "cell_type": "code",
   "execution_count": 30,
   "id": "408aa507",
   "metadata": {},
   "outputs": [
    {
     "name": "stdout",
     "output_type": "stream",
     "text": [
      "Root Mean Squared Error on test set for GBM: 2.2936556855974946\n"
     ]
    }
   ],
   "source": [
    "# FITTING Gradient Boosting model ON TRAIN SET\n",
    "model_GBM.fit(X_train, y_train)\n",
    "y_train_pred_gbm = model_GBM.predict(X_train)\n",
    "y_train_pred_gbm = y_train_pred_gbm.reshape(168,1)\n",
    "y_test_pred_gbm = model_GBM.predict(X_test)\n",
    "y_test_pred_gbm = y_test_pred_gbm.reshape(72,1)\n",
    "\n",
    "print('Root Mean Squared Error on test set for GBM:', np.sqrt(mean_squared_error(y_test, y_test_pred_gbm)))"
   ]
  },
  {
   "cell_type": "code",
   "execution_count": 31,
   "id": "e97c638c",
   "metadata": {},
   "outputs": [
    {
     "name": "stdout",
     "output_type": "stream",
     "text": [
      "Root Mean Squared Error on test set for XGB: 2.264708554067826\n"
     ]
    }
   ],
   "source": [
    "# FITTING XG Boosting MODEL ON TRAIN SET\n",
    "model_XGB.fit(X_train, y_train)\n",
    "y_train_pred_xgb = model_XGB.predict(X_train)\n",
    "y_train_pred_xgb = y_train_pred_xgb.reshape(168,1)\n",
    "y_test_pred_xgb = model_XGB.predict(X_test)\n",
    "y_test_pred_xgb = y_test_pred_xgb.reshape(72,1)\n",
    "\n",
    "print('Root Mean Squared Error on test set for XGB:', np.sqrt(mean_squared_error(y_test, y_test_pred_xgb)))"
   ]
  },
  {
   "cell_type": "code",
   "execution_count": 32,
   "id": "a56fea56",
   "metadata": {},
   "outputs": [
    {
     "name": "stdout",
     "output_type": "stream",
     "text": [
      "Root Mean Squared Error on test set for rf: 2.203205696590807\n"
     ]
    }
   ],
   "source": [
    "# FITTING Random Forest MODEL ON TRAIN SET\n",
    "model_rf.fit(X_train, y_train)\n",
    "y_train_pred_rf = model_rf.predict(X_train)\n",
    "y_train_pred_rf = y_train_pred_rf.reshape(168,1)\n",
    "y_test_pred_rf = model_rf.predict(X_test)\n",
    "y_test_pred_rf = y_test_pred_rf.reshape(72,1)\n",
    "\n",
    "print('Root Mean Squared Error on test set for rf:', np.sqrt(mean_squared_error(y_test, y_test_pred_rf)))"
   ]
  },
  {
   "cell_type": "markdown",
   "id": "466a4822",
   "metadata": {},
   "source": [
    "The models perform well on test set too. There is little variation between valid RMSE and test RMSE."
   ]
  },
  {
   "cell_type": "markdown",
   "id": "68daeb6b",
   "metadata": {},
   "source": [
    "The **Random Forest Model** has been chosen as the best fitting model on this dataset keeping in mind the RMSE score of both the test set and valid set."
   ]
  },
  {
   "cell_type": "markdown",
   "id": "baeec3fc",
   "metadata": {},
   "source": [
    "# FEATURE IMPORTANCE"
   ]
  },
  {
   "cell_type": "code",
   "execution_count": 33,
   "id": "a417c301",
   "metadata": {},
   "outputs": [
    {
     "data": {
      "image/png": "[encoded data removed]",
      "text/plain": [
       "<Figure size 698.976x432 with 1 Axes>"
      ]
     },
     "metadata": {
      "needs_background": "light"
     },
     "output_type": "display_data"
    }
   ],
   "source": [
    "# feature importance in GBM model\n",
    "plt.figure(figsize=(6 * 1.618, 6))\n",
    "index = np.arange(len(cols))\n",
    "bar_width = 0.35\n",
    "plt.bar(index, model_GBM.feature_importances_, alpha=0.5)\n",
    "plt.xlabel('features')\n",
    "plt.ylabel('importance')\n",
    "plt.title('Feature importance')\n",
    "plt.xticks(index + bar_width, cols)\n",
    "plt.tight_layout()\n",
    "plt.show()"
   ]
  },
  {
   "cell_type": "code",
   "execution_count": 34,
   "id": "083f517a",
   "metadata": {},
   "outputs": [
    {
     "data": {
      "image/png": "[encoded data removed]",
      "text/plain": [
       "<Figure size 698.976x432 with 1 Axes>"
      ]
     },
     "metadata": {
      "needs_background": "light"
     },
     "output_type": "display_data"
    }
   ],
   "source": [
    "# feature importance in Random Forest model\n",
    "plt.figure(figsize=(6 * 1.618, 6))\n",
    "index = np.arange(len(cols))\n",
    "bar_width = 0.35\n",
    "plt.bar(index, model_rf.feature_importances_, color='red', alpha=0.5)\n",
    "plt.xlabel('features')\n",
    "plt.ylabel('importance')\n",
    "plt.title('Feature importance')\n",
    "plt.xticks(index + bar_width, cols)\n",
    "plt.tight_layout()\n",
    "plt.show()"
   ]
  },
  {
   "cell_type": "code",
   "execution_count": 35,
   "id": "676c9ae2",
   "metadata": {
    "scrolled": false
   },
   "outputs": [
    {
     "data": {
      "image/png": "[encoded data removed]",
      "text/plain": [
       "<Figure size 698.976x432 with 1 Axes>"
      ]
     },
     "metadata": {
      "needs_background": "light"
     },
     "output_type": "display_data"
    }
   ],
   "source": [
    "# feature importance in XG Boosting  model\n",
    "plt.figure(figsize=(6 * 1.618, 6))\n",
    "index = np.arange(len(cols))\n",
    "bar_width = 0.35\n",
    "plt.bar(index, model_XGB.feature_importances_, color='green', alpha=0.5)\n",
    "plt.xlabel('features')\n",
    "plt.ylabel('importance')\n",
    "plt.title('Feature importance')\n",
    "plt.xticks(index + bar_width, cols)\n",
    "plt.tight_layout()\n",
    "plt.show()"
   ]
  },
  {
   "cell_type": "markdown",
   "id": "59cb0eb5",
   "metadata": {},
   "source": [
    "The feature importance graph shows that :\n",
    "1. **GDP (GROSS DOMESTIC PRODUCT)** is the most important feature in all the three models.\n",
    "\n",
    "2. The second most important feature is **UNRATE (UNEMPLOYEMENT RATE)**.\n",
    "\n",
    "3. In XGBoost, **MORTGAGE30US (MORTGAGE RATE)** is the third most important feature. While in            Random Forest and Gradient Boosting Machine, **CONSTRUCTION_SPEND** is the third most important        feature.\n",
    "\n",
    "4. Rest, **SUPPLY OF HOUSES**, **EFFR** and **HOUSES_SOLD** follow respectively.\n",
    "       \n",
    "\n"
   ]
  },
  {
   "cell_type": "markdown",
   "id": "2146767d",
   "metadata": {},
   "source": [
    "# PLOTTING RESIDUALS AND PREDICTIONS :"
   ]
  },
  {
   "cell_type": "code",
   "execution_count": 36,
   "id": "0ac44dd6",
   "metadata": {
    "scrolled": false
   },
   "outputs": [
    {
     "data": {
      "image/png": "[encoded data removed]",
      "text/plain": [
       "<Figure size 432x288 with 1 Axes>"
      ]
     },
     "metadata": {
      "needs_background": "light"
     },
     "output_type": "display_data"
    },
    {
     "data": {
      "image/png": "[encoded data removed]",
      "text/plain": [
       "<Figure size 432x288 with 1 Axes>"
      ]
     },
     "metadata": {
      "needs_background": "light"
     },
     "output_type": "display_data"
    }
   ],
   "source": [
    "# Plotting residuals of RF model\n",
    "plt.scatter(y_train_pred_rf, y_train_pred_rf - y_train, c = \"blue\", marker = \"s\", label = \"Training data\")\n",
    "plt.scatter(y_test_pred_rf, y_test_pred_rf - y_test, c = \"lightgreen\", marker = \"s\", label = \"Validation data\")\n",
    "plt.title(\"Random Forest Regressor\")\n",
    "plt.xlabel(\"Predicted values\")\n",
    "plt.ylabel(\"Residuals\")\n",
    "plt.legend(loc = \"upper left\")\n",
    "plt.hlines(y = 0, xmin = 10.5, xmax = 13.5, color = \"red\")\n",
    "plt.show()\n",
    "\n",
    "# Plotting predictions of RF model\n",
    "plt.scatter(y_train_pred_rf, y_train, c = \"blue\", marker = \"s\", label = \"Training data\")\n",
    "plt.scatter(y_test_pred_rf, y_test, c = \"lightgreen\", marker = \"s\", label = \"Validation data\")\n",
    "plt.title(\"Random Forest Regressor\")\n",
    "plt.xlabel(\"Predicted values\")\n",
    "plt.ylabel(\"Real values\")\n",
    "plt.legend(loc = \"upper left\")\n",
    "plt.plot([10.5, 13.5], [10.5, 13.5], c = \"red\")\n",
    "plt.show()  \n"
   ]
  },
  {
   "cell_type": "markdown",
   "id": "5dd730e8",
   "metadata": {},
   "source": [
    "# REFERENCES FOR FACTORS-\n",
    "https://www.reddit.com/r/datasets/comments/bn4z93/housing_related_data/\n",
    "https://www.reddit.com/r/econmonitor/comments/dqlvwy/topic_megathread_data_sources_using_fred/\n"
   ]
  },
  {
   "cell_type": "code",
   "execution_count": 37,
   "id": "0d3186bb",
   "metadata": {},
   "outputs": [],
   "source": [
    "#DISCARDED CODE --"
   ]
  },
  {
   "cell_type": "code",
   "execution_count": 38,
   "id": "f77b5af1",
   "metadata": {},
   "outputs": [
    {
     "data": {
      "text/plain": [
       "'\\n# KNN \\nknn_reg = KNeighborsRegressor(n_neighbors = 3)\\nknn_reg.fit(X_train, y_train)\\npred_knn = knn_reg.predict(X_test)\\n#acc_knn = accuracy_score(y_test, pred_knn)\\nrmse = np.sqrt(mean_squared_error(y_test, pred_knn))\\nprint(\"RMSE: %f\" % (rmse))\\n'"
      ]
     },
     "execution_count": 38,
     "metadata": {},
     "output_type": "execute_result"
    }
   ],
   "source": [
    "\"\"\"\n",
    "# KNN \n",
    "knn_reg = KNeighborsRegressor(n_neighbors = 3)\n",
    "knn_reg.fit(X_train, y_train)\n",
    "pred_knn = knn_reg.predict(X_test)\n",
    "#acc_knn = accuracy_score(y_test, pred_knn)\n",
    "rmse = np.sqrt(mean_squared_error(y_test, pred_knn))\n",
    "print(\"RMSE: %f\" % (rmse))\n",
    "\"\"\""
   ]
  },
  {
   "cell_type": "code",
   "execution_count": 39,
   "id": "0996c687",
   "metadata": {},
   "outputs": [
    {
     "data": {
      "text/plain": [
       "'\\n# LINEAR REGRESSION \\nlinreg = LinearRegression()\\nlinreg.fit(X_train, y_train)\\npred_linreg = linreg.predict(X_test)\\n#print(regr.score(X_test, y_test))\\nrmse_linreg = np.sqrt(mean_squared_error(y_test, pred_linreg))\\nprint(\"RMSE: %f\" % (rmse_linreg))\\n'"
      ]
     },
     "execution_count": 39,
     "metadata": {},
     "output_type": "execute_result"
    }
   ],
   "source": [
    "\"\"\"\n",
    "# LINEAR REGRESSION \n",
    "linreg = LinearRegression()\n",
    "linreg.fit(X_train, y_train)\n",
    "pred_linreg = linreg.predict(X_test)\n",
    "#print(regr.score(X_test, y_test))\n",
    "rmse_linreg = np.sqrt(mean_squared_error(y_test, pred_linreg))\n",
    "print(\"RMSE: %f\" % (rmse_linreg))\n",
    "\"\"\""
   ]
  },
  {
   "cell_type": "code",
   "execution_count": 40,
   "id": "79751165",
   "metadata": {},
   "outputs": [
    {
     "data": {
      "text/plain": [
       "'\\n#define cross-validation method to use\\ncv = KFold(n_splits=10, random_state=1, shuffle=True) \\n\\n#build multiple linear regression model\\nmodel = LinearRegression()\\n\\n#use LOOCV to evaluate model\\nscores = cross_val_score(model, X, y, scoring=\\'neg_mean_squared_error\\', cv=cv, n_jobs=-1)\\n\\nrmse=sqrt(mean(absolute(scores)))\\n#rmse = np.sqrt(mean_squared_error(y_test, preds))\\nprint(\"RMSE: %f\" % (rmse))\\n'"
      ]
     },
     "execution_count": 40,
     "metadata": {},
     "output_type": "execute_result"
    }
   ],
   "source": [
    "\"\"\"\n",
    "#define cross-validation method to use\n",
    "cv = KFold(n_splits=10, random_state=1, shuffle=True) \n",
    "\n",
    "#build multiple linear regression model\n",
    "model = LinearRegression()\n",
    "\n",
    "#use LOOCV to evaluate model\n",
    "scores = cross_val_score(model, X, y, scoring='neg_mean_squared_error', cv=cv, n_jobs=-1)\n",
    "\n",
    "rmse=sqrt(mean(absolute(scores)))\n",
    "#rmse = np.sqrt(mean_squared_error(y_test, preds))\n",
    "print(\"RMSE: %f\" % (rmse))\n",
    "\"\"\""
   ]
  },
  {
   "cell_type": "code",
   "execution_count": 41,
   "id": "27e71549",
   "metadata": {
    "scrolled": true
   },
   "outputs": [
    {
     "data": {
      "text/plain": [
       "'\\n# XG-BOOST REGRESSOR\\nimport xgboost as xg\\nxgb_r = xg.XGBRegressor(objective =\\'reg:squarederror\\', n_estimators = 1000, seed = 123, learning_rate=0.1)\\nxgb_r.fit(X_train, y_train)\\npred_xgb = xgb_r.predict(X_test)\\nrmse = np.sqrt(mean_squared_error(y_test, pred_xgb))\\nprint(\"RMSE : % f\" %(rmse))\\n'"
      ]
     },
     "execution_count": 41,
     "metadata": {},
     "output_type": "execute_result"
    }
   ],
   "source": [
    "\"\"\"\n",
    "# XG-BOOST REGRESSOR\n",
    "import xgboost as xg\n",
    "xgb_r = xg.XGBRegressor(objective ='reg:squarederror', n_estimators = 1000, seed = 123, learning_rate=0.1)\n",
    "xgb_r.fit(X_train, y_train)\n",
    "pred_xgb = xgb_r.predict(X_test)\n",
    "rmse = np.sqrt(mean_squared_error(y_test, pred_xgb))\n",
    "print(\"RMSE : % f\" %(rmse))\n",
    "\"\"\""
   ]
  },
  {
   "cell_type": "code",
   "execution_count": 42,
   "id": "4dd9da3c",
   "metadata": {},
   "outputs": [
    {
     "data": {
      "text/plain": [
       "'\\n#define cross-validation method to use\\ncv = KFold(n_splits=10, random_state=1, shuffle=True) \\n\\n#build multiple linear regression model\\nmodel = xg.XGBRegressor(objective =\\'reg:squarederror\\', n_estimators = 1000, seed = 123, learning_rate=0.1)\\n\\n#use LOOCV to evaluate model\\nscores = cross_val_score(model, X, y, scoring=\\'neg_mean_squared_error\\', cv=cv, n_jobs=-1)\\n\\nrmse=sqrt(mean(absolute(scores)))\\n#rmse = np.sqrt(mean_squared_error(y_test, preds))\\nprint(\"RMSE: %f\" % (rmse))\\n'"
      ]
     },
     "execution_count": 42,
     "metadata": {},
     "output_type": "execute_result"
    }
   ],
   "source": [
    "\"\"\"\n",
    "#define cross-validation method to use\n",
    "cv = KFold(n_splits=10, random_state=1, shuffle=True) \n",
    "\n",
    "#build multiple linear regression model\n",
    "model = xg.XGBRegressor(objective ='reg:squarederror', n_estimators = 1000, seed = 123, learning_rate=0.1)\n",
    "\n",
    "#use LOOCV to evaluate model\n",
    "scores = cross_val_score(model, X, y, scoring='neg_mean_squared_error', cv=cv, n_jobs=-1)\n",
    "\n",
    "rmse=sqrt(mean(absolute(scores)))\n",
    "#rmse = np.sqrt(mean_squared_error(y_test, preds))\n",
    "print(\"RMSE: %f\" % (rmse))\n",
    "\"\"\""
   ]
  },
  {
   "cell_type": "code",
   "execution_count": 43,
   "id": "4b6f0d01",
   "metadata": {},
   "outputs": [
    {
     "data": {
      "text/plain": [
       "'\\nscores = []\\nbest_svr = SVR(kernel=\\'rbf\\')\\ncv = KFold(n_splits=10, random_state=42, shuffle=True)\\nfor train_index, test_index in cv.split(X):\\n    print(\"Train Index: \", train_index, \"\\n\")\\n    print(\"Test Index: \", test_index)\\n\\n    X_train, X_test, y_train, y_test = X[train_index], X[test_index], y[train_index], y[test_index]\\n    best_svr.fit(X_train, y_train)\\n    scores.append(best_svr.score(X_test, y_test))\\n\\nSVR_regressor = SVR(kernel=\\'poly\\')\\nSVR_regressor.fit(X_train,y_train.values.ravel())\\n#5 Predicting a new result\\ny_pred = SVR_regressor.predict(X_test)\\nprint(\\'Root Mean Squared Error:\\', np.sqrt(mean_squared_error(y_test, y_pred)))\\n'"
      ]
     },
     "execution_count": 43,
     "metadata": {},
     "output_type": "execute_result"
    }
   ],
   "source": [
    "\"\"\"\n",
    "scores = []\n",
    "best_svr = SVR(kernel='rbf')\n",
    "cv = KFold(n_splits=10, random_state=42, shuffle=True)\n",
    "for train_index, test_index in cv.split(X):\n",
    "    print(\"Train Index: \", train_index, \"\\n\")\n",
    "    print(\"Test Index: \", test_index)\n",
    "\n",
    "    X_train, X_test, y_train, y_test = X[train_index], X[test_index], y[train_index], y[test_index]\n",
    "    best_svr.fit(X_train, y_train)\n",
    "    scores.append(best_svr.score(X_test, y_test))\n",
    "\n",
    "SVR_regressor = SVR(kernel='poly')\n",
    "SVR_regressor.fit(X_train,y_train.values.ravel())\n",
    "#5 Predicting a new result\n",
    "y_pred = SVR_regressor.predict(X_test)\n",
    "print('Root Mean Squared Error:', np.sqrt(mean_squared_error(y_test, y_pred)))\n",
    "\"\"\""
   ]
  }
 ],
 "metadata": {
  "kernelspec": {
   "display_name": "Python 3 (ipykernel)",
   "language": "python",
   "name": "python3"
  },
  "language_info": {
   "codemirror_mode": {
    "name": "ipython",
    "version": 3
   },
   "file_extension": ".py",
   "mimetype": "text/x-python",
   "name": "python",
   "nbconvert_exporter": "python",
   "pygments_lexer": "ipython3",
   "version": "3.9.7"
  }
 },
 "nbformat": 4,
 "nbformat_minor": 5
}
