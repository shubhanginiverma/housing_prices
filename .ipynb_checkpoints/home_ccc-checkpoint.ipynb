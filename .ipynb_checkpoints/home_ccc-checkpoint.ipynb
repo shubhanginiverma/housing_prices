{
 "cells": [
  {
   "cell_type": "code",
   "execution_count": 1,
   "id": "0016210c",
   "metadata": {},
   "outputs": [],
   "source": [
    "import numpy as np\n",
    "import pandas as pd\n",
    "import sklearn"
   ]
  },
  {
   "cell_type": "code",
   "execution_count": 2,
   "id": "8625f245",
   "metadata": {},
   "outputs": [
    {
     "name": "stdout",
     "output_type": "stream",
     "text": [
      "    observation_date  CSUSHPISA\n",
      "0         2002-01-01    117.142\n",
      "1         2002-02-01    117.844\n",
      "2         2002-03-01    118.686\n",
      "3         2002-04-01    119.610\n",
      "4         2002-05-01    120.723\n",
      "..               ...        ...\n",
      "235       2021-08-01    267.183\n",
      "236       2021-09-01    270.225\n",
      "237       2021-10-01    272.976\n",
      "238       2021-11-01    276.189\n",
      "239       2021-12-01    279.801\n",
      "\n",
      "[240 rows x 2 columns]\n"
     ]
    }
   ],
   "source": [
    "target_df = pd.read_excel('CSUSHPISA.xls', skiprows = 10)\n",
    "print(target_df)"
   ]
  },
  {
   "cell_type": "code",
   "execution_count": 3,
   "id": "c99d4409",
   "metadata": {},
   "outputs": [],
   "source": [
    "target_df.set_index('observation_date', inplace=True)\n",
    "target_df.index = pd.to_datetime(target_df.index)"
   ]
  },
  {
   "cell_type": "code",
   "execution_count": 4,
   "id": "5126a31a",
   "metadata": {},
   "outputs": [],
   "source": [
    "target_df=target_df.resample('1M').mean()"
   ]
  },
  {
   "cell_type": "code",
   "execution_count": 5,
   "id": "96c4a070",
   "metadata": {},
   "outputs": [
    {
     "name": "stdout",
     "output_type": "stream",
     "text": [
      "     observation_date  EFFR\n",
      "0          2002-01-02  1.92\n",
      "1          2002-01-03  1.72\n",
      "2          2002-01-04  1.61\n",
      "3          2002-01-07  1.61\n",
      "4          2002-01-08  1.61\n",
      "...               ...   ...\n",
      "5213       2021-12-27  0.08\n",
      "5214       2021-12-28  0.08\n",
      "5215       2021-12-29  0.08\n",
      "5216       2021-12-30  0.08\n",
      "5217       2021-12-31  0.07\n",
      "\n",
      "[5218 rows x 2 columns]\n"
     ]
    }
   ],
   "source": [
    "effr_df=pd.read_excel('EFFR.xls', skiprows = 10)\n",
    "print(effr_df)"
   ]
  },
  {
   "cell_type": "code",
   "execution_count": 6,
   "id": "4c7ee466",
   "metadata": {},
   "outputs": [],
   "source": [
    "#print(effr_df.columns)#['observation_date'])\n",
    "effr_df.set_index('observation_date', inplace=True)\n",
    "effr_df.index = pd.to_datetime(effr_df.index)\n",
    "effr_df=effr_df.resample('1M').mean()"
   ]
  },
  {
   "cell_type": "code",
   "execution_count": 7,
   "id": "379cc45d",
   "metadata": {},
   "outputs": [
    {
     "name": "stdout",
     "output_type": "stream",
     "text": [
      "                      EFFR\n",
      "observation_date          \n",
      "2002-01-31        1.671364\n",
      "2002-02-28        1.745500\n",
      "2002-03-31        1.726190\n",
      "2002-04-30        1.758636\n",
      "2002-05-31        1.682609\n",
      "...                    ...\n",
      "2021-08-31        0.093182\n",
      "2021-09-30        0.075455\n",
      "2021-10-31        0.075714\n",
      "2021-11-30        0.072273\n",
      "2021-12-31        0.079565\n",
      "\n",
      "[240 rows x 1 columns]\n"
     ]
    }
   ],
   "source": [
    "print(effr_df)"
   ]
  },
  {
   "cell_type": "code",
   "execution_count": 8,
   "id": "46683e8d",
   "metadata": {},
   "outputs": [
    {
     "name": "stdout",
     "output_type": "stream",
     "text": [
      "   observation_date        GDP\n",
      "0        2002-01-01  10783.500\n",
      "1        2002-04-01  10887.460\n",
      "2        2002-07-01  10984.040\n",
      "3        2002-10-01  11061.433\n",
      "4        2003-01-01  11174.129\n",
      "..              ...        ...\n",
      "75       2020-10-01  21477.597\n",
      "76       2021-01-01  22038.226\n",
      "77       2021-04-01  22740.959\n",
      "78       2021-07-01  23202.344\n",
      "79       2021-10-01  24008.472\n",
      "\n",
      "[80 rows x 2 columns]\n"
     ]
    }
   ],
   "source": [
    "gdp_df=pd.read_excel('GDP.xls', skiprows = 10)\n",
    "print(gdp_df)"
   ]
  },
  {
   "cell_type": "code",
   "execution_count": 9,
   "id": "1f1f580f",
   "metadata": {},
   "outputs": [
    {
     "name": "stdout",
     "output_type": "stream",
     "text": [
      "0   2021-11-30\n",
      "1   2021-12-31\n",
      "Name: observation_date, dtype: datetime64[ns]\n"
     ]
    }
   ],
   "source": [
    "gdp_enddate=pd.Series(pd.date_range(\"2021-11-30\", freq=\"M\", periods=2),dtype='datetime64[ns]',name='observation_date')\n",
    "print(gdp_enddate)"
   ]
  },
  {
   "cell_type": "code",
   "execution_count": 10,
   "id": "87297311",
   "metadata": {},
   "outputs": [
    {
     "name": "stdout",
     "output_type": "stream",
     "text": [
      "0   NaN\n",
      "1   NaN\n",
      "Name: GDP, dtype: float64\n"
     ]
    }
   ],
   "source": [
    "gdp_endgdp=pd.Series([np.nan,np.nan],dtype='float64',name='GDP')\n",
    "print(gdp_endgdp)"
   ]
  },
  {
   "cell_type": "code",
   "execution_count": 11,
   "id": "cb28c0b1",
   "metadata": {},
   "outputs": [
    {
     "name": "stdout",
     "output_type": "stream",
     "text": [
      "  observation_date  GDP\n",
      "0       2021-11-30  NaN\n",
      "1       2021-12-31  NaN\n"
     ]
    }
   ],
   "source": [
    "gdp_dfend=pd.concat([gdp_enddate, gdp_endgdp],axis=1)\n",
    "print(gdp_dfend)"
   ]
  },
  {
   "cell_type": "code",
   "execution_count": 12,
   "id": "8c7a4f59",
   "metadata": {},
   "outputs": [
    {
     "name": "stdout",
     "output_type": "stream",
     "text": [
      "   observation_date        GDP\n",
      "0        2002-01-01  10783.500\n",
      "1        2002-04-01  10887.460\n",
      "2        2002-07-01  10984.040\n",
      "3        2002-10-01  11061.433\n",
      "4        2003-01-01  11174.129\n",
      "..              ...        ...\n",
      "77       2021-04-01  22740.959\n",
      "78       2021-07-01  23202.344\n",
      "79       2021-10-01  24008.472\n",
      "0        2021-11-30        NaN\n",
      "1        2021-12-31        NaN\n",
      "\n",
      "[82 rows x 2 columns]\n"
     ]
    }
   ],
   "source": [
    "gdp_df=pd.concat([gdp_df, gdp_dfend])\n",
    "print(gdp_df)"
   ]
  },
  {
   "cell_type": "code",
   "execution_count": 13,
   "id": "f9f9c1c2",
   "metadata": {},
   "outputs": [],
   "source": [
    "gdp_df.set_index('observation_date', inplace=True)\n",
    "gdp_df.index = pd.to_datetime(gdp_df.index)"
   ]
  },
  {
   "cell_type": "code",
   "execution_count": 14,
   "id": "b1c95735",
   "metadata": {},
   "outputs": [],
   "source": [
    "gdp_df=gdp_df.resample('1M').fillna(method='ffill')"
   ]
  },
  {
   "cell_type": "code",
   "execution_count": 15,
   "id": "04b350fb",
   "metadata": {},
   "outputs": [],
   "source": [
    "gdp_df=gdp_df.fillna(method='ffill')"
   ]
  },
  {
   "cell_type": "code",
   "execution_count": 16,
   "id": "a0b8c371",
   "metadata": {},
   "outputs": [
    {
     "name": "stdout",
     "output_type": "stream",
     "text": [
      "                        GDP\n",
      "observation_date           \n",
      "2002-01-31        10783.500\n",
      "2002-02-28        10783.500\n",
      "2002-03-31        10783.500\n",
      "2002-04-30        10887.460\n",
      "2002-05-31        10887.460\n",
      "...                     ...\n",
      "2021-08-31        23202.344\n",
      "2021-09-30        23202.344\n",
      "2021-10-31        24008.472\n",
      "2021-11-30        24008.472\n",
      "2021-12-31        24008.472\n",
      "\n",
      "[240 rows x 1 columns]\n"
     ]
    }
   ],
   "source": [
    "print(gdp_df)"
   ]
  },
  {
   "cell_type": "code",
   "execution_count": 17,
   "id": "4153e64f",
   "metadata": {},
   "outputs": [
    {
     "name": "stdout",
     "output_type": "stream",
     "text": [
      "    observation_date  HSN1F\n",
      "0         2002-01-01    880\n",
      "1         2002-02-01    948\n",
      "2         2002-03-01    923\n",
      "3         2002-04-01    936\n",
      "4         2002-05-01    978\n",
      "..               ...    ...\n",
      "235       2021-08-01    668\n",
      "236       2021-09-01    725\n",
      "237       2021-10-01    667\n",
      "238       2021-11-01    749\n",
      "239       2021-12-01    839\n",
      "\n",
      "[240 rows x 2 columns]\n"
     ]
    }
   ],
   "source": [
    "hsn1f_df=pd.read_excel('HSN1F.xls', skiprows = 10)\n",
    "print(hsn1f_df)"
   ]
  },
  {
   "cell_type": "code",
   "execution_count": 18,
   "id": "a9facb45",
   "metadata": {},
   "outputs": [],
   "source": [
    "hsn1f_df.set_index('observation_date', inplace=True)\n",
    "hsn1f_df.index = pd.to_datetime(hsn1f_df.index)"
   ]
  },
  {
   "cell_type": "code",
   "execution_count": 19,
   "id": "a1e8f9c5",
   "metadata": {},
   "outputs": [],
   "source": [
    "hsn1f_df=hsn1f_df.resample('1M').mean()"
   ]
  },
  {
   "cell_type": "code",
   "execution_count": 20,
   "id": "4e9c1c78",
   "metadata": {},
   "outputs": [
    {
     "name": "stdout",
     "output_type": "stream",
     "text": [
      "                  HSN1F\n",
      "observation_date       \n",
      "2002-01-31        880.0\n",
      "2002-02-28        948.0\n",
      "2002-03-31        923.0\n",
      "2002-04-30        936.0\n",
      "2002-05-31        978.0\n",
      "...                 ...\n",
      "2021-08-31        668.0\n",
      "2021-09-30        725.0\n",
      "2021-10-31        667.0\n",
      "2021-11-30        749.0\n",
      "2021-12-31        839.0\n",
      "\n",
      "[240 rows x 1 columns]\n"
     ]
    }
   ],
   "source": [
    "print(hsn1f_df)"
   ]
  },
  {
   "cell_type": "code",
   "execution_count": 21,
   "id": "b16a4836",
   "metadata": {},
   "outputs": [
    {
     "name": "stdout",
     "output_type": "stream",
     "text": [
      "     observation_date  MORTGAGE30US\n",
      "0          2002-01-04          7.14\n",
      "1          2002-01-11          7.06\n",
      "2          2002-01-18          6.83\n",
      "3          2002-01-25          6.96\n",
      "4          2002-02-01          7.02\n",
      "...               ...           ...\n",
      "1039       2021-12-02          3.11\n",
      "1040       2021-12-09          3.10\n",
      "1041       2021-12-16          3.12\n",
      "1042       2021-12-23          3.05\n",
      "1043       2021-12-30          3.11\n",
      "\n",
      "[1044 rows x 2 columns]\n"
     ]
    }
   ],
   "source": [
    "mort_df=pd.read_excel('MORTGAGE30US.xls', skiprows = 10)\n",
    "print(mort_df)"
   ]
  },
  {
   "cell_type": "code",
   "execution_count": 22,
   "id": "f77b5af1",
   "metadata": {},
   "outputs": [],
   "source": [
    "mort_df.set_index('observation_date', inplace=True)\n",
    "mort_df.index = pd.to_datetime(mort_df.index)"
   ]
  },
  {
   "cell_type": "code",
   "execution_count": 23,
   "id": "0996c687",
   "metadata": {},
   "outputs": [],
   "source": [
    "mort_df=mort_df.resample('1M').mean()"
   ]
  },
  {
   "cell_type": "code",
   "execution_count": 24,
   "id": "fade1d1c",
   "metadata": {},
   "outputs": [
    {
     "name": "stdout",
     "output_type": "stream",
     "text": [
      "                  MORTGAGE30US\n",
      "observation_date              \n",
      "2002-01-31              6.9975\n",
      "2002-02-28              6.8925\n",
      "2002-03-31              7.0140\n",
      "2002-04-30              6.9850\n",
      "2002-05-31              6.8060\n",
      "...                        ...\n",
      "2021-08-31              2.8425\n",
      "2021-09-30              2.9000\n",
      "2021-10-31              3.0675\n",
      "2021-11-30              3.0675\n",
      "2021-12-31              3.0980\n",
      "\n",
      "[240 rows x 1 columns]\n"
     ]
    }
   ],
   "source": [
    "print(mort_df)"
   ]
  },
  {
   "cell_type": "code",
   "execution_count": 25,
   "id": "4bd5cac1",
   "metadata": {},
   "outputs": [
    {
     "name": "stdout",
     "output_type": "stream",
     "text": [
      "    observation_date  MSACSR\n",
      "0         2002-01-01     4.2\n",
      "1         2002-02-01     4.0\n",
      "2         2002-03-01     4.1\n",
      "3         2002-04-01     4.3\n",
      "4         2002-05-01     4.0\n",
      "..               ...     ...\n",
      "235       2021-08-01     6.8\n",
      "236       2021-09-01     6.3\n",
      "237       2021-10-01     7.0\n",
      "238       2021-11-01     6.3\n",
      "239       2021-12-01     5.6\n",
      "\n",
      "[240 rows x 2 columns]\n"
     ]
    }
   ],
   "source": [
    "msacr_df=pd.read_excel('MSACSR.xls', skiprows = 10)\n",
    "print(msacr_df)"
   ]
  },
  {
   "cell_type": "code",
   "execution_count": 26,
   "id": "27e71549",
   "metadata": {},
   "outputs": [],
   "source": [
    "msacr_df.set_index('observation_date', inplace=True)\n",
    "msacr_df.index = pd.to_datetime(msacr_df.index)"
   ]
  },
  {
   "cell_type": "code",
   "execution_count": 27,
   "id": "4b6f0d01",
   "metadata": {},
   "outputs": [],
   "source": [
    "msacr_df=msacr_df.resample('1M').mean()"
   ]
  },
  {
   "cell_type": "code",
   "execution_count": 28,
   "id": "8f6b4278",
   "metadata": {},
   "outputs": [
    {
     "name": "stdout",
     "output_type": "stream",
     "text": [
      "                  MSACSR\n",
      "observation_date        \n",
      "2002-01-31           4.2\n",
      "2002-02-28           4.0\n",
      "2002-03-31           4.1\n",
      "2002-04-30           4.3\n",
      "2002-05-31           4.0\n",
      "...                  ...\n",
      "2021-08-31           6.8\n",
      "2021-09-30           6.3\n",
      "2021-10-31           7.0\n",
      "2021-11-30           6.3\n",
      "2021-12-31           5.6\n",
      "\n",
      "[240 rows x 1 columns]\n"
     ]
    }
   ],
   "source": [
    "print(msacr_df)"
   ]
  },
  {
   "cell_type": "code",
   "execution_count": 29,
   "id": "f24b2c87",
   "metadata": {},
   "outputs": [
    {
     "name": "stdout",
     "output_type": "stream",
     "text": [
      "    observation_date  PERMIT\n",
      "0         2002-01-01    1665\n",
      "1         2002-02-01    1787\n",
      "2         2002-03-01    1691\n",
      "3         2002-04-01    1669\n",
      "4         2002-05-01    1716\n",
      "..               ...     ...\n",
      "235       2021-08-01    1721\n",
      "236       2021-09-01    1586\n",
      "237       2021-10-01    1653\n",
      "238       2021-11-01    1717\n",
      "239       2021-12-01    1885\n",
      "\n",
      "[240 rows x 2 columns]\n"
     ]
    }
   ],
   "source": [
    "permit_df=pd.read_excel('PERMIT.xls', skiprows = 10)\n",
    "print(permit_df)"
   ]
  },
  {
   "cell_type": "code",
   "execution_count": 30,
   "id": "d7ccfec4",
   "metadata": {},
   "outputs": [],
   "source": [
    "permit_df.set_index('observation_date', inplace=True)\n",
    "permit_df.index = pd.to_datetime(permit_df.index)"
   ]
  },
  {
   "cell_type": "code",
   "execution_count": 31,
   "id": "74dc7b1f",
   "metadata": {},
   "outputs": [],
   "source": [
    "permit_df=permit_df.resample('1M').mean()"
   ]
  },
  {
   "cell_type": "code",
   "execution_count": 32,
   "id": "9df56506",
   "metadata": {},
   "outputs": [
    {
     "name": "stdout",
     "output_type": "stream",
     "text": [
      "                  PERMIT\n",
      "observation_date        \n",
      "2002-01-31        1665.0\n",
      "2002-02-28        1787.0\n",
      "2002-03-31        1691.0\n",
      "2002-04-30        1669.0\n",
      "2002-05-31        1716.0\n",
      "...                  ...\n",
      "2021-08-31        1721.0\n",
      "2021-09-30        1586.0\n",
      "2021-10-31        1653.0\n",
      "2021-11-30        1717.0\n",
      "2021-12-31        1885.0\n",
      "\n",
      "[240 rows x 1 columns]\n"
     ]
    }
   ],
   "source": [
    "print(permit_df)"
   ]
  },
  {
   "cell_type": "code",
   "execution_count": 33,
   "id": "57dfe11e",
   "metadata": {},
   "outputs": [
    {
     "name": "stdout",
     "output_type": "stream",
     "text": [
      "    observation_date  POPTHM\n",
      "0         2002-01-01  286739\n",
      "1         2002-02-01  286935\n",
      "2         2002-03-01  287131\n",
      "3         2002-04-01  287343\n",
      "4         2002-05-01  287571\n",
      "..               ...     ...\n",
      "235       2021-08-01  332295\n",
      "236       2021-09-01  332403\n",
      "237       2021-10-01  332513\n",
      "238       2021-11-01  332598\n",
      "239       2021-12-01  332640\n",
      "\n",
      "[240 rows x 2 columns]\n"
     ]
    }
   ],
   "source": [
    "pop_df=pd.read_excel('POPTHM.xls', skiprows = 10)\n",
    "print(pop_df)"
   ]
  },
  {
   "cell_type": "code",
   "execution_count": 34,
   "id": "c61aad67",
   "metadata": {},
   "outputs": [],
   "source": [
    "pop_df.set_index('observation_date', inplace=True)\n",
    "pop_df.index = pd.to_datetime(pop_df.index)"
   ]
  },
  {
   "cell_type": "code",
   "execution_count": 35,
   "id": "b84c255f",
   "metadata": {},
   "outputs": [],
   "source": [
    "pop_df=pop_df.resample('1M').mean()"
   ]
  },
  {
   "cell_type": "code",
   "execution_count": 36,
   "id": "9f4344cc",
   "metadata": {},
   "outputs": [
    {
     "name": "stdout",
     "output_type": "stream",
     "text": [
      "                    POPTHM\n",
      "observation_date          \n",
      "2002-01-31        286739.0\n",
      "2002-02-28        286935.0\n",
      "2002-03-31        287131.0\n",
      "2002-04-30        287343.0\n",
      "2002-05-31        287571.0\n",
      "...                    ...\n",
      "2021-08-31        332295.0\n",
      "2021-09-30        332403.0\n",
      "2021-10-31        332513.0\n",
      "2021-11-30        332598.0\n",
      "2021-12-31        332640.0\n",
      "\n",
      "[240 rows x 1 columns]\n"
     ]
    }
   ],
   "source": [
    "print(pop_df)"
   ]
  },
  {
   "cell_type": "code",
   "execution_count": 37,
   "id": "4a0d7b28",
   "metadata": {},
   "outputs": [
    {
     "name": "stdout",
     "output_type": "stream",
     "text": [
      "    observation_date  TLRESCONS\n",
      "0         2002-01-01     382979\n",
      "1         2002-02-01     391434\n",
      "2         2002-03-01     390942\n",
      "3         2002-04-01     404255\n",
      "4         2002-05-01     399164\n",
      "..               ...        ...\n",
      "235       2021-08-01     789620\n",
      "236       2021-09-01     800118\n",
      "237       2021-10-01     804575\n",
      "238       2021-11-01     810487\n",
      "239       2021-12-01     827621\n",
      "\n",
      "[240 rows x 2 columns]\n"
     ]
    }
   ],
   "source": [
    "cons_df=pd.read_excel('TLRESCONS.xls', skiprows = 10)\n",
    "print(cons_df)"
   ]
  },
  {
   "cell_type": "code",
   "execution_count": 38,
   "id": "2bb75d46",
   "metadata": {},
   "outputs": [],
   "source": [
    "cons_df.set_index('observation_date', inplace=True)\n",
    "cons_df.index = pd.to_datetime(cons_df.index)"
   ]
  },
  {
   "cell_type": "code",
   "execution_count": 39,
   "id": "2e38783f",
   "metadata": {},
   "outputs": [],
   "source": [
    "cons_df=cons_df.resample('1M').mean()"
   ]
  },
  {
   "cell_type": "code",
   "execution_count": 40,
   "id": "f1048eaa",
   "metadata": {},
   "outputs": [
    {
     "name": "stdout",
     "output_type": "stream",
     "text": [
      "                  TLRESCONS\n",
      "observation_date           \n",
      "2002-01-31         382979.0\n",
      "2002-02-28         391434.0\n",
      "2002-03-31         390942.0\n",
      "2002-04-30         404255.0\n",
      "2002-05-31         399164.0\n",
      "...                     ...\n",
      "2021-08-31         789620.0\n",
      "2021-09-30         800118.0\n",
      "2021-10-31         804575.0\n",
      "2021-11-30         810487.0\n",
      "2021-12-31         827621.0\n",
      "\n",
      "[240 rows x 1 columns]\n"
     ]
    }
   ],
   "source": [
    "print(cons_df)"
   ]
  },
  {
   "cell_type": "code",
   "execution_count": 41,
   "id": "cb9d4fd9",
   "metadata": {},
   "outputs": [
    {
     "name": "stdout",
     "output_type": "stream",
     "text": [
      "    observation_date  UNRATE\n",
      "0         2002-01-01     5.7\n",
      "1         2002-02-01     5.7\n",
      "2         2002-03-01     5.7\n",
      "3         2002-04-01     5.9\n",
      "4         2002-05-01     5.8\n",
      "..               ...     ...\n",
      "235       2021-08-01     5.2\n",
      "236       2021-09-01     4.7\n",
      "237       2021-10-01     4.6\n",
      "238       2021-11-01     4.2\n",
      "239       2021-12-01     3.9\n",
      "\n",
      "[240 rows x 2 columns]\n"
     ]
    }
   ],
   "source": [
    "unrate_df=pd.read_excel('UNRATE.xls', skiprows = 10)\n",
    "print(unrate_df)"
   ]
  },
  {
   "cell_type": "code",
   "execution_count": 42,
   "id": "38e9b579",
   "metadata": {},
   "outputs": [],
   "source": [
    "unrate_df.set_index('observation_date', inplace=True)\n",
    "unrate_df.index = pd.to_datetime(unrate_df.index)"
   ]
  },
  {
   "cell_type": "code",
   "execution_count": 43,
   "id": "2c5228b1",
   "metadata": {},
   "outputs": [],
   "source": [
    "unrate_df=unrate_df.resample('1M').mean()"
   ]
  },
  {
   "cell_type": "code",
   "execution_count": 44,
   "id": "b5ed6327",
   "metadata": {},
   "outputs": [
    {
     "name": "stdout",
     "output_type": "stream",
     "text": [
      "                  UNRATE\n",
      "observation_date        \n",
      "2002-01-31           5.7\n",
      "2002-02-28           5.7\n",
      "2002-03-31           5.7\n",
      "2002-04-30           5.9\n",
      "2002-05-31           5.8\n",
      "...                  ...\n",
      "2021-08-31           5.2\n",
      "2021-09-30           4.7\n",
      "2021-10-31           4.6\n",
      "2021-11-30           4.2\n",
      "2021-12-31           3.9\n",
      "\n",
      "[240 rows x 1 columns]\n"
     ]
    }
   ],
   "source": [
    "print(unrate_df)"
   ]
  },
  {
   "cell_type": "code",
   "execution_count": 45,
   "id": "f164aa9f",
   "metadata": {},
   "outputs": [
    {
     "name": "stdout",
     "output_type": "stream",
     "text": [
      "       Year Total\\nRisk\n",
      "0      2002   12.210572\n",
      "1      2002   12.334477\n",
      "2      2002   12.162916\n",
      "3      2002   12.013804\n",
      "4      2003   12.258474\n",
      "..      ...         ...\n",
      "74     2020    4.989182\n",
      "75     2020    5.081624\n",
      "76  2021 Q1    5.124921\n",
      "77  2021 Q2    5.144927\n",
      "78  2021 Q3    5.169036\n",
      "\n",
      "[79 rows x 2 columns]\n"
     ]
    }
   ],
   "source": [
    "hcai_df = pd.read_excel('HCAI.xlsx', sheet_name = 0, skiprows = 3 , usecols = \"A,D\") #take only columns we need\n",
    "hcai_df.drop(hcai_df.index[0:16],inplace=True)#inplace changes the dataframe the function is applied to and returns None so don't reassign.\n",
    "#dropping years and quarters before the 20 year period. .index returns list of row indices\n",
    "#print(hcai_df.shape[0])#getting new total number of rows\n",
    "new_idx=[i for i in range(0,hcai_df.shape[0]+1)]#list of new row index numbers\n",
    "#hcai_df=hcai_df.reindex(new_idx)\n",
    "hcai_df.rename(index = lambda x: x - 16,inplace=True)#rename the row indices so they start from 0 instead of the offset 16 which happened on dropping the first 15 entries\n",
    "print(hcai_df)"
   ]
  },
  {
   "cell_type": "code",
   "execution_count": null,
   "id": "16b73d0f",
   "metadata": {},
   "outputs": [],
   "source": []
  }
 ],
 "metadata": {
  "kernelspec": {
   "display_name": "Python 3 (ipykernel)",
   "language": "python",
   "name": "python3"
  },
  "language_info": {
   "codemirror_mode": {
    "name": "ipython",
    "version": 3
   },
   "file_extension": ".py",
   "mimetype": "text/x-python",
   "name": "python",
   "nbconvert_exporter": "python",
   "pygments_lexer": "ipython3",
   "version": "3.9.7"
  }
 },
 "nbformat": 4,
 "nbformat_minor": 5
}
