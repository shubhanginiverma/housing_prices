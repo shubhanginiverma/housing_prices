{
 "cells": [
  {
   "cell_type": "code",
   "execution_count": 1,
   "id": "0016210c",
   "metadata": {},
   "outputs": [],
   "source": [
    "import numpy as np\n",
    "import pandas as pd\n",
    "import sklearn"
   ]
  },
  {
   "cell_type": "code",
   "execution_count": 66,
   "id": "cbbf0135",
   "metadata": {},
   "outputs": [],
   "source": [
    "import seaborn as sns"
   ]
  },
  {
   "cell_type": "code",
   "execution_count": 2,
   "id": "8625f245",
   "metadata": {},
   "outputs": [
    {
     "name": "stdout",
     "output_type": "stream",
     "text": [
      "    observation_date  CSUSHPISA\n",
      "0         2002-01-01    117.142\n",
      "1         2002-02-01    117.844\n",
      "2         2002-03-01    118.686\n",
      "3         2002-04-01    119.610\n",
      "4         2002-05-01    120.723\n",
      "..               ...        ...\n",
      "235       2021-08-01    267.183\n",
      "236       2021-09-01    270.225\n",
      "237       2021-10-01    272.976\n",
      "238       2021-11-01    276.189\n",
      "239       2021-12-01    279.801\n",
      "\n",
      "[240 rows x 2 columns]\n"
     ]
    }
   ],
   "source": [
    "target_df=pd.read_excel('CSUSHPISA.xls', skiprows = 10)\n",
    "print(target_df)"
   ]
  },
  {
   "cell_type": "code",
   "execution_count": 3,
   "id": "13e9f22f",
   "metadata": {},
   "outputs": [],
   "source": [
    "target_df.set_index('observation_date', inplace=True)\n",
    "target_df.index = pd.to_datetime(target_df.index)"
   ]
  },
  {
   "cell_type": "code",
   "execution_count": 4,
   "id": "08563d14",
   "metadata": {},
   "outputs": [],
   "source": [
    "target_df=target_df.resample('1M').mean()"
   ]
  },
  {
   "cell_type": "code",
   "execution_count": 5,
   "id": "96c4a070",
   "metadata": {},
   "outputs": [
    {
     "name": "stdout",
     "output_type": "stream",
     "text": [
      "     observation_date  EFFR\n",
      "0          2002-01-02  1.92\n",
      "1          2002-01-03  1.72\n",
      "2          2002-01-04  1.61\n",
      "3          2002-01-07  1.61\n",
      "4          2002-01-08  1.61\n",
      "...               ...   ...\n",
      "5213       2021-12-27  0.08\n",
      "5214       2021-12-28  0.08\n",
      "5215       2021-12-29  0.08\n",
      "5216       2021-12-30  0.08\n",
      "5217       2021-12-31  0.07\n",
      "\n",
      "[5218 rows x 2 columns]\n"
     ]
    }
   ],
   "source": [
    "effr_df=pd.read_excel('EFFR.xls', skiprows = 10)\n",
    "print(effr_df)"
   ]
  },
  {
   "cell_type": "code",
   "execution_count": 6,
   "id": "b515fb5c",
   "metadata": {},
   "outputs": [],
   "source": [
    "#print(effr_df.columns)#['observation_date'])\n",
    "effr_df.set_index('observation_date', inplace=True)\n",
    "effr_df.index = pd.to_datetime(effr_df.index)\n",
    "effr_df=effr_df.resample('1M').mean()"
   ]
  },
  {
   "cell_type": "code",
   "execution_count": 7,
   "id": "06d7be24",
   "metadata": {},
   "outputs": [
    {
     "name": "stdout",
     "output_type": "stream",
     "text": [
      "                      EFFR\n",
      "observation_date          \n",
      "2002-01-31        1.671364\n",
      "2002-02-28        1.745500\n",
      "2002-03-31        1.726190\n",
      "2002-04-30        1.758636\n",
      "2002-05-31        1.682609\n",
      "...                    ...\n",
      "2021-08-31        0.093182\n",
      "2021-09-30        0.075455\n",
      "2021-10-31        0.075714\n",
      "2021-11-30        0.072273\n",
      "2021-12-31        0.079565\n",
      "\n",
      "[240 rows x 1 columns]\n"
     ]
    }
   ],
   "source": [
    "print(effr_df)"
   ]
  },
  {
   "cell_type": "code",
   "execution_count": 8,
   "id": "46683e8d",
   "metadata": {},
   "outputs": [
    {
     "name": "stdout",
     "output_type": "stream",
     "text": [
      "   observation_date        GDP\n",
      "0        2002-01-01  10783.500\n",
      "1        2002-04-01  10887.460\n",
      "2        2002-07-01  10984.040\n",
      "3        2002-10-01  11061.433\n",
      "4        2003-01-01  11174.129\n",
      "..              ...        ...\n",
      "75       2020-10-01  21477.597\n",
      "76       2021-01-01  22038.226\n",
      "77       2021-04-01  22740.959\n",
      "78       2021-07-01  23202.344\n",
      "79       2021-10-01  24008.472\n",
      "\n",
      "[80 rows x 2 columns]\n"
     ]
    }
   ],
   "source": [
    "gdp_df=pd.read_excel('GDP.xls', skiprows = 10)\n",
    "print(gdp_df)"
   ]
  },
  {
   "cell_type": "code",
   "execution_count": 9,
   "id": "43c7e47c",
   "metadata": {},
   "outputs": [
    {
     "name": "stdout",
     "output_type": "stream",
     "text": [
      "0   2021-11-30\n",
      "1   2021-12-31\n",
      "Name: observation_date, dtype: datetime64[ns]\n"
     ]
    }
   ],
   "source": [
    "gdp_enddate=pd.Series(pd.date_range(\"2021-11-30\", freq=\"M\", periods=2),dtype='datetime64[ns]',name='observation_date')\n",
    "print(gdp_enddate)"
   ]
  },
  {
   "cell_type": "code",
   "execution_count": 10,
   "id": "9723ad90",
   "metadata": {},
   "outputs": [
    {
     "name": "stdout",
     "output_type": "stream",
     "text": [
      "0   NaN\n",
      "1   NaN\n",
      "Name: GDP, dtype: float64\n"
     ]
    }
   ],
   "source": [
    "gdp_endgdp=pd.Series([np.nan,np.nan],dtype='float64',name='GDP')\n",
    "print(gdp_endgdp)"
   ]
  },
  {
   "cell_type": "code",
   "execution_count": 11,
   "id": "e5663da7",
   "metadata": {},
   "outputs": [
    {
     "name": "stdout",
     "output_type": "stream",
     "text": [
      "  observation_date  GDP\n",
      "0       2021-11-30  NaN\n",
      "1       2021-12-31  NaN\n"
     ]
    }
   ],
   "source": [
    "gdp_dfend=pd.concat([gdp_enddate, gdp_endgdp],axis=1)\n",
    "print(gdp_dfend)"
   ]
  },
  {
   "cell_type": "code",
   "execution_count": 12,
   "id": "4128846b",
   "metadata": {},
   "outputs": [
    {
     "name": "stdout",
     "output_type": "stream",
     "text": [
      "   observation_date        GDP\n",
      "0        2002-01-01  10783.500\n",
      "1        2002-04-01  10887.460\n",
      "2        2002-07-01  10984.040\n",
      "3        2002-10-01  11061.433\n",
      "4        2003-01-01  11174.129\n",
      "..              ...        ...\n",
      "77       2021-04-01  22740.959\n",
      "78       2021-07-01  23202.344\n",
      "79       2021-10-01  24008.472\n",
      "0        2021-11-30        NaN\n",
      "1        2021-12-31        NaN\n",
      "\n",
      "[82 rows x 2 columns]\n"
     ]
    }
   ],
   "source": [
    "gdp_df=pd.concat([gdp_df, gdp_dfend])\n",
    "print(gdp_df)"
   ]
  },
  {
   "cell_type": "code",
   "execution_count": 13,
   "id": "ac1235cf",
   "metadata": {},
   "outputs": [],
   "source": [
    "gdp_df.set_index('observation_date', inplace=True)\n",
    "gdp_df.index = pd.to_datetime(gdp_df.index)"
   ]
  },
  {
   "cell_type": "code",
   "execution_count": 14,
   "id": "1f58c045",
   "metadata": {},
   "outputs": [],
   "source": [
    "gdp_df=gdp_df.resample('1M').fillna(method='ffill')"
   ]
  },
  {
   "cell_type": "code",
   "execution_count": 15,
   "id": "a26d3d54",
   "metadata": {},
   "outputs": [],
   "source": [
    "gdp_df=gdp_df.fillna(method='ffill')"
   ]
  },
  {
   "cell_type": "code",
   "execution_count": 16,
   "id": "d798783e",
   "metadata": {},
   "outputs": [
    {
     "name": "stdout",
     "output_type": "stream",
     "text": [
      "                        GDP\n",
      "observation_date           \n",
      "2002-01-31        10783.500\n",
      "2002-02-28        10783.500\n",
      "2002-03-31        10783.500\n",
      "2002-04-30        10887.460\n",
      "2002-05-31        10887.460\n",
      "...                     ...\n",
      "2021-08-31        23202.344\n",
      "2021-09-30        23202.344\n",
      "2021-10-31        24008.472\n",
      "2021-11-30        24008.472\n",
      "2021-12-31        24008.472\n",
      "\n",
      "[240 rows x 1 columns]\n"
     ]
    }
   ],
   "source": [
    "print(gdp_df)"
   ]
  },
  {
   "cell_type": "code",
   "execution_count": 17,
   "id": "4153e64f",
   "metadata": {},
   "outputs": [
    {
     "name": "stdout",
     "output_type": "stream",
     "text": [
      "    observation_date  HSN1F\n",
      "0         2002-01-01    880\n",
      "1         2002-02-01    948\n",
      "2         2002-03-01    923\n",
      "3         2002-04-01    936\n",
      "4         2002-05-01    978\n",
      "..               ...    ...\n",
      "235       2021-08-01    668\n",
      "236       2021-09-01    725\n",
      "237       2021-10-01    667\n",
      "238       2021-11-01    749\n",
      "239       2021-12-01    839\n",
      "\n",
      "[240 rows x 2 columns]\n"
     ]
    }
   ],
   "source": [
    "hsn1f_df=pd.read_excel('HSN1F.xls', skiprows = 10)\n",
    "print(hsn1f_df)"
   ]
  },
  {
   "cell_type": "code",
   "execution_count": 18,
   "id": "001d22e3",
   "metadata": {},
   "outputs": [],
   "source": [
    "hsn1f_df.set_index('observation_date', inplace=True)\n",
    "hsn1f_df.index = pd.to_datetime(hsn1f_df.index)"
   ]
  },
  {
   "cell_type": "code",
   "execution_count": 19,
   "id": "28a1fe8c",
   "metadata": {},
   "outputs": [],
   "source": [
    "hsn1f_df=hsn1f_df.resample('1M').mean()"
   ]
  },
  {
   "cell_type": "code",
   "execution_count": 20,
   "id": "c22b0869",
   "metadata": {},
   "outputs": [
    {
     "name": "stdout",
     "output_type": "stream",
     "text": [
      "                  HSN1F\n",
      "observation_date       \n",
      "2002-01-31        880.0\n",
      "2002-02-28        948.0\n",
      "2002-03-31        923.0\n",
      "2002-04-30        936.0\n",
      "2002-05-31        978.0\n",
      "...                 ...\n",
      "2021-08-31        668.0\n",
      "2021-09-30        725.0\n",
      "2021-10-31        667.0\n",
      "2021-11-30        749.0\n",
      "2021-12-31        839.0\n",
      "\n",
      "[240 rows x 1 columns]\n"
     ]
    }
   ],
   "source": [
    "print(hsn1f_df)"
   ]
  },
  {
   "cell_type": "code",
   "execution_count": 21,
   "id": "b16a4836",
   "metadata": {},
   "outputs": [
    {
     "name": "stdout",
     "output_type": "stream",
     "text": [
      "     observation_date  MORTGAGE30US\n",
      "0          2002-01-04          7.14\n",
      "1          2002-01-11          7.06\n",
      "2          2002-01-18          6.83\n",
      "3          2002-01-25          6.96\n",
      "4          2002-02-01          7.02\n",
      "...               ...           ...\n",
      "1039       2021-12-02          3.11\n",
      "1040       2021-12-09          3.10\n",
      "1041       2021-12-16          3.12\n",
      "1042       2021-12-23          3.05\n",
      "1043       2021-12-30          3.11\n",
      "\n",
      "[1044 rows x 2 columns]\n"
     ]
    }
   ],
   "source": [
    "mort_df=pd.read_excel('MORTGAGE30US.xls', skiprows = 10)\n",
    "print(mort_df)"
   ]
  },
  {
   "cell_type": "code",
   "execution_count": 22,
   "id": "134ed22e",
   "metadata": {},
   "outputs": [],
   "source": [
    "mort_df.set_index('observation_date', inplace=True)\n",
    "mort_df.index = pd.to_datetime(mort_df.index)"
   ]
  },
  {
   "cell_type": "code",
   "execution_count": 23,
   "id": "09969511",
   "metadata": {},
   "outputs": [],
   "source": [
    "mort_df=mort_df.resample('1M').mean()"
   ]
  },
  {
   "cell_type": "code",
   "execution_count": 24,
   "id": "651a4120",
   "metadata": {},
   "outputs": [
    {
     "name": "stdout",
     "output_type": "stream",
     "text": [
      "                  MORTGAGE30US\n",
      "observation_date              \n",
      "2002-01-31              6.9975\n",
      "2002-02-28              6.8925\n",
      "2002-03-31              7.0140\n",
      "2002-04-30              6.9850\n",
      "2002-05-31              6.8060\n",
      "...                        ...\n",
      "2021-08-31              2.8425\n",
      "2021-09-30              2.9000\n",
      "2021-10-31              3.0675\n",
      "2021-11-30              3.0675\n",
      "2021-12-31              3.0980\n",
      "\n",
      "[240 rows x 1 columns]\n"
     ]
    }
   ],
   "source": [
    "print(mort_df)"
   ]
  },
  {
   "cell_type": "code",
   "execution_count": 25,
   "id": "4bd5cac1",
   "metadata": {},
   "outputs": [
    {
     "name": "stdout",
     "output_type": "stream",
     "text": [
      "    observation_date  MSACSR\n",
      "0         2002-01-01     4.2\n",
      "1         2002-02-01     4.0\n",
      "2         2002-03-01     4.1\n",
      "3         2002-04-01     4.3\n",
      "4         2002-05-01     4.0\n",
      "..               ...     ...\n",
      "235       2021-08-01     6.8\n",
      "236       2021-09-01     6.3\n",
      "237       2021-10-01     7.0\n",
      "238       2021-11-01     6.3\n",
      "239       2021-12-01     5.6\n",
      "\n",
      "[240 rows x 2 columns]\n"
     ]
    }
   ],
   "source": [
    "msacr_df=pd.read_excel('MSACSR.xls', skiprows = 10)\n",
    "print(msacr_df)"
   ]
  },
  {
   "cell_type": "code",
   "execution_count": 26,
   "id": "5769c788",
   "metadata": {},
   "outputs": [],
   "source": [
    "msacr_df.set_index('observation_date', inplace=True)\n",
    "msacr_df.index = pd.to_datetime(msacr_df.index)"
   ]
  },
  {
   "cell_type": "code",
   "execution_count": 27,
   "id": "6dee0665",
   "metadata": {},
   "outputs": [],
   "source": [
    "msacr_df=msacr_df.resample('1M').mean()"
   ]
  },
  {
   "cell_type": "code",
   "execution_count": 28,
   "id": "ff8110cb",
   "metadata": {},
   "outputs": [
    {
     "name": "stdout",
     "output_type": "stream",
     "text": [
      "                  MSACSR\n",
      "observation_date        \n",
      "2002-01-31           4.2\n",
      "2002-02-28           4.0\n",
      "2002-03-31           4.1\n",
      "2002-04-30           4.3\n",
      "2002-05-31           4.0\n",
      "...                  ...\n",
      "2021-08-31           6.8\n",
      "2021-09-30           6.3\n",
      "2021-10-31           7.0\n",
      "2021-11-30           6.3\n",
      "2021-12-31           5.6\n",
      "\n",
      "[240 rows x 1 columns]\n"
     ]
    }
   ],
   "source": [
    "print(msacr_df)"
   ]
  },
  {
   "cell_type": "code",
   "execution_count": 29,
   "id": "f24b2c87",
   "metadata": {},
   "outputs": [
    {
     "name": "stdout",
     "output_type": "stream",
     "text": [
      "    observation_date  PERMIT\n",
      "0         2002-01-01    1665\n",
      "1         2002-02-01    1787\n",
      "2         2002-03-01    1691\n",
      "3         2002-04-01    1669\n",
      "4         2002-05-01    1716\n",
      "..               ...     ...\n",
      "235       2021-08-01    1721\n",
      "236       2021-09-01    1586\n",
      "237       2021-10-01    1653\n",
      "238       2021-11-01    1717\n",
      "239       2021-12-01    1885\n",
      "\n",
      "[240 rows x 2 columns]\n"
     ]
    }
   ],
   "source": [
    "permit_df=pd.read_excel('PERMIT.xls', skiprows = 10)\n",
    "print(permit_df)"
   ]
  },
  {
   "cell_type": "code",
   "execution_count": 30,
   "id": "84e41df7",
   "metadata": {},
   "outputs": [],
   "source": [
    "permit_df.set_index('observation_date', inplace=True)\n",
    "permit_df.index = pd.to_datetime(permit_df.index)"
   ]
  },
  {
   "cell_type": "code",
   "execution_count": 31,
   "id": "9a1e7e96",
   "metadata": {},
   "outputs": [],
   "source": [
    "permit_df=permit_df.resample('1M').mean()"
   ]
  },
  {
   "cell_type": "code",
   "execution_count": 32,
   "id": "d32b6c09",
   "metadata": {},
   "outputs": [
    {
     "name": "stdout",
     "output_type": "stream",
     "text": [
      "                  PERMIT\n",
      "observation_date        \n",
      "2002-01-31        1665.0\n",
      "2002-02-28        1787.0\n",
      "2002-03-31        1691.0\n",
      "2002-04-30        1669.0\n",
      "2002-05-31        1716.0\n",
      "...                  ...\n",
      "2021-08-31        1721.0\n",
      "2021-09-30        1586.0\n",
      "2021-10-31        1653.0\n",
      "2021-11-30        1717.0\n",
      "2021-12-31        1885.0\n",
      "\n",
      "[240 rows x 1 columns]\n"
     ]
    }
   ],
   "source": [
    "print(permit_df)"
   ]
  },
  {
   "cell_type": "code",
   "execution_count": 33,
   "id": "57dfe11e",
   "metadata": {},
   "outputs": [
    {
     "name": "stdout",
     "output_type": "stream",
     "text": [
      "    observation_date  POPTHM\n",
      "0         2002-01-01  286739\n",
      "1         2002-02-01  286935\n",
      "2         2002-03-01  287131\n",
      "3         2002-04-01  287343\n",
      "4         2002-05-01  287571\n",
      "..               ...     ...\n",
      "235       2021-08-01  332295\n",
      "236       2021-09-01  332403\n",
      "237       2021-10-01  332513\n",
      "238       2021-11-01  332598\n",
      "239       2021-12-01  332640\n",
      "\n",
      "[240 rows x 2 columns]\n"
     ]
    }
   ],
   "source": [
    "pop_df=pd.read_excel('POPTHM.xls', skiprows = 10)\n",
    "print(pop_df)"
   ]
  },
  {
   "cell_type": "code",
   "execution_count": 34,
   "id": "25a6be32",
   "metadata": {},
   "outputs": [],
   "source": [
    "pop_df.set_index('observation_date', inplace=True)\n",
    "pop_df.index = pd.to_datetime(pop_df.index)"
   ]
  },
  {
   "cell_type": "code",
   "execution_count": 35,
   "id": "d5245cad",
   "metadata": {},
   "outputs": [],
   "source": [
    "pop_df=pop_df.resample('1M').mean()"
   ]
  },
  {
   "cell_type": "code",
   "execution_count": 36,
   "id": "55524ede",
   "metadata": {},
   "outputs": [
    {
     "name": "stdout",
     "output_type": "stream",
     "text": [
      "                    POPTHM\n",
      "observation_date          \n",
      "2002-01-31        286739.0\n",
      "2002-02-28        286935.0\n",
      "2002-03-31        287131.0\n",
      "2002-04-30        287343.0\n",
      "2002-05-31        287571.0\n",
      "...                    ...\n",
      "2021-08-31        332295.0\n",
      "2021-09-30        332403.0\n",
      "2021-10-31        332513.0\n",
      "2021-11-30        332598.0\n",
      "2021-12-31        332640.0\n",
      "\n",
      "[240 rows x 1 columns]\n"
     ]
    }
   ],
   "source": [
    "print(pop_df)"
   ]
  },
  {
   "cell_type": "code",
   "execution_count": 37,
   "id": "4a0d7b28",
   "metadata": {},
   "outputs": [
    {
     "name": "stdout",
     "output_type": "stream",
     "text": [
      "    observation_date  TLRESCONS\n",
      "0         2002-01-01     382979\n",
      "1         2002-02-01     391434\n",
      "2         2002-03-01     390942\n",
      "3         2002-04-01     404255\n",
      "4         2002-05-01     399164\n",
      "..               ...        ...\n",
      "235       2021-08-01     789620\n",
      "236       2021-09-01     800118\n",
      "237       2021-10-01     804575\n",
      "238       2021-11-01     810487\n",
      "239       2021-12-01     827621\n",
      "\n",
      "[240 rows x 2 columns]\n"
     ]
    }
   ],
   "source": [
    "cons_df=pd.read_excel('TLRESCONS.xls', skiprows = 10)\n",
    "print(cons_df)"
   ]
  },
  {
   "cell_type": "code",
   "execution_count": 38,
   "id": "8e00e4f3",
   "metadata": {},
   "outputs": [],
   "source": [
    "cons_df.set_index('observation_date', inplace=True)\n",
    "cons_df.index = pd.to_datetime(cons_df.index)"
   ]
  },
  {
   "cell_type": "code",
   "execution_count": 39,
   "id": "6d7b4bef",
   "metadata": {},
   "outputs": [],
   "source": [
    "cons_df=cons_df.resample('1M').mean()"
   ]
  },
  {
   "cell_type": "code",
   "execution_count": 40,
   "id": "e7554467",
   "metadata": {},
   "outputs": [
    {
     "name": "stdout",
     "output_type": "stream",
     "text": [
      "                  TLRESCONS\n",
      "observation_date           \n",
      "2002-01-31         382979.0\n",
      "2002-02-28         391434.0\n",
      "2002-03-31         390942.0\n",
      "2002-04-30         404255.0\n",
      "2002-05-31         399164.0\n",
      "...                     ...\n",
      "2021-08-31         789620.0\n",
      "2021-09-30         800118.0\n",
      "2021-10-31         804575.0\n",
      "2021-11-30         810487.0\n",
      "2021-12-31         827621.0\n",
      "\n",
      "[240 rows x 1 columns]\n"
     ]
    }
   ],
   "source": [
    "print(cons_df)"
   ]
  },
  {
   "cell_type": "code",
   "execution_count": 41,
   "id": "cb9d4fd9",
   "metadata": {},
   "outputs": [
    {
     "name": "stdout",
     "output_type": "stream",
     "text": [
      "    observation_date  UNRATE\n",
      "0         2002-01-01     5.7\n",
      "1         2002-02-01     5.7\n",
      "2         2002-03-01     5.7\n",
      "3         2002-04-01     5.9\n",
      "4         2002-05-01     5.8\n",
      "..               ...     ...\n",
      "235       2021-08-01     5.2\n",
      "236       2021-09-01     4.7\n",
      "237       2021-10-01     4.6\n",
      "238       2021-11-01     4.2\n",
      "239       2021-12-01     3.9\n",
      "\n",
      "[240 rows x 2 columns]\n"
     ]
    }
   ],
   "source": [
    "unrate_df=pd.read_excel('UNRATE.xls', skiprows = 10)\n",
    "print(unrate_df)"
   ]
  },
  {
   "cell_type": "code",
   "execution_count": 42,
   "id": "f74e8c06",
   "metadata": {},
   "outputs": [],
   "source": [
    "unrate_df.set_index('observation_date', inplace=True)\n",
    "unrate_df.index = pd.to_datetime(unrate_df.index)"
   ]
  },
  {
   "cell_type": "code",
   "execution_count": 43,
   "id": "57e83311",
   "metadata": {},
   "outputs": [],
   "source": [
    "unrate_df=unrate_df.resample('1M').mean()"
   ]
  },
  {
   "cell_type": "code",
   "execution_count": 44,
   "id": "b5ed6327",
   "metadata": {},
   "outputs": [
    {
     "name": "stdout",
     "output_type": "stream",
     "text": [
      "                  UNRATE\n",
      "observation_date        \n",
      "2002-01-31           5.7\n",
      "2002-02-28           5.7\n",
      "2002-03-31           5.7\n",
      "2002-04-30           5.9\n",
      "2002-05-31           5.8\n",
      "...                  ...\n",
      "2021-08-31           5.2\n",
      "2021-09-30           4.7\n",
      "2021-10-31           4.6\n",
      "2021-11-30           4.2\n",
      "2021-12-31           3.9\n",
      "\n",
      "[240 rows x 1 columns]\n"
     ]
    }
   ],
   "source": [
    "print(unrate_df)"
   ]
  },
  {
   "cell_type": "code",
   "execution_count": 45,
   "id": "f164aa9f",
   "metadata": {},
   "outputs": [
    {
     "data": {
      "text/plain": [
       "'\\nhcai_df = pd.read_excel(\\'HCAI.xlsx\\', sheet_name = 0, skiprows = 3 , usecols = \"A,D\") #take only columns we need\\nhcai_df.drop(hcai_df.index[0:16],inplace=True)#inplace changes the dataframe the function is applied to and returns None so don\\'t reassign.\\n#dropping years and quarters before the 20 year period. .index returns list of row indices\\n#print(hcai_df.shape[0])#getting new total number of rows\\nnew_idx=[i for i in range(0,hcai_df.shape[0]+1)]#list of new row index numbers\\n#hcai_df=hcai_df.reindex(new_idx)\\nhcai_df.rename(index = lambda x: x - 16,inplace=True)#rename the row indices so they start from 0 instead of the offset 16 which happened on dropping the first 15 entries\\nhcai_df.rename(columns={\\'Total\\nRisk\\': \\'RISK\\'},inplace=True)\\nhcai_df.rename(columns={\\'Year\\': \\'observation_date\\'},inplace=True)\\nprint(hcai_df)\\n'"
      ]
     },
     "execution_count": 45,
     "metadata": {},
     "output_type": "execute_result"
    }
   ],
   "source": [
    "\"\"\"\n",
    "hcai_df = pd.read_excel('HCAI.xlsx', sheet_name = 0, skiprows = 3 , usecols = \"A,D\") #take only columns we need\n",
    "hcai_df.drop(hcai_df.index[0:16],inplace=True)#inplace changes the dataframe the function is applied to and returns None so don't reassign.\n",
    "#dropping years and quarters before the 20 year period. .index returns list of row indices\n",
    "#print(hcai_df.shape[0])#getting new total number of rows\n",
    "new_idx=[i for i in range(0,hcai_df.shape[0]+1)]#list of new row index numbers\n",
    "#hcai_df=hcai_df.reindex(new_idx)\n",
    "hcai_df.rename(index = lambda x: x - 16,inplace=True)#rename the row indices so they start from 0 instead of the offset 16 which happened on dropping the first 15 entries\n",
    "hcai_df.rename(columns={'Total\\nRisk': 'RISK'},inplace=True)\n",
    "hcai_df.rename(columns={'Year': 'observation_date'},inplace=True)\n",
    "print(hcai_df)\n",
    "\"\"\""
   ]
  },
  {
   "cell_type": "code",
   "execution_count": 46,
   "id": "103b4ec1",
   "metadata": {},
   "outputs": [],
   "source": [
    "#hcai_df=hcai_df.convert_dtypes()"
   ]
  },
  {
   "cell_type": "code",
   "execution_count": 47,
   "id": "564d0a37",
   "metadata": {},
   "outputs": [],
   "source": [
    "#print(hcai_df.info())"
   ]
  },
  {
   "cell_type": "code",
   "execution_count": 48,
   "id": "7215f4e9",
   "metadata": {},
   "outputs": [
    {
     "data": {
      "text/plain": [
       "\"\\nhcai_dfendD=pd.Series([hcai_df.at[hcai_df.shape[0]-4,'observation_date']+1],dtype='object',name='observation_date')\\nprint(hcai_dfendD)\\nhcai_dfendR=pd.Series([hcai_df.at[hcai_df.shape[0]-1,'RISK']],dtype='float64',name='RISK')\\nhcai_dfend=pd.concat([hcai_dfendD, hcai_dfendR],axis=1)\\nhcai_df=pd.concat([hcai_df, hcai_dfend])\\n\""
      ]
     },
     "execution_count": 48,
     "metadata": {},
     "output_type": "execute_result"
    }
   ],
   "source": [
    "\"\"\"\n",
    "hcai_dfendD=pd.Series([hcai_df.at[hcai_df.shape[0]-4,'observation_date']+1],dtype='object',name='observation_date')\n",
    "print(hcai_dfendD)\n",
    "hcai_dfendR=pd.Series([hcai_df.at[hcai_df.shape[0]-1,'RISK']],dtype='float64',name='RISK')\n",
    "hcai_dfend=pd.concat([hcai_dfendD, hcai_dfendR],axis=1)\n",
    "hcai_df=pd.concat([hcai_df, hcai_dfend])\n",
    "\"\"\""
   ]
  },
  {
   "cell_type": "code",
   "execution_count": 49,
   "id": "91fd03c7",
   "metadata": {},
   "outputs": [],
   "source": [
    "#print(hcai_df)"
   ]
  },
  {
   "cell_type": "code",
   "execution_count": 50,
   "id": "3ce8a400",
   "metadata": {},
   "outputs": [],
   "source": [
    "#hcai_dfR = hcai_df[hcai_df.columns[1]]"
   ]
  },
  {
   "cell_type": "code",
   "execution_count": 51,
   "id": "ac236250",
   "metadata": {},
   "outputs": [],
   "source": [
    "#print(hcai_dfR)"
   ]
  },
  {
   "cell_type": "code",
   "execution_count": 52,
   "id": "7185dde8",
   "metadata": {},
   "outputs": [
    {
     "data": {
      "text/plain": [
       "\"\\nhcai_df = hcai_df.replace(['2021 Q1'],'2021')\\nhcai_df = hcai_df.replace(['2021 Q2'],'2021')\\nhcai_df = hcai_df.replace(['2021 Q3'],'2021')\\n\""
      ]
     },
     "execution_count": 52,
     "metadata": {},
     "output_type": "execute_result"
    }
   ],
   "source": [
    "\"\"\"\n",
    "hcai_df = hcai_df.replace(['2021 Q1'],'2021')\n",
    "hcai_df = hcai_df.replace(['2021 Q2'],'2021')\n",
    "hcai_df = hcai_df.replace(['2021 Q3'],'2021')\n",
    "\"\"\""
   ]
  },
  {
   "cell_type": "code",
   "execution_count": 53,
   "id": "2d803145",
   "metadata": {},
   "outputs": [],
   "source": [
    "#hcai_df=pd.to_datetime(hcai_df.observation_date, format='%Y')"
   ]
  },
  {
   "cell_type": "code",
   "execution_count": 54,
   "id": "918903bb",
   "metadata": {},
   "outputs": [],
   "source": [
    "#print(hcai_df)"
   ]
  },
  {
   "cell_type": "code",
   "execution_count": 55,
   "id": "04b87c47",
   "metadata": {},
   "outputs": [],
   "source": [
    "#hcai_df=pd.concat([hcai_df, hcai_dfR],axis=1)"
   ]
  },
  {
   "cell_type": "code",
   "execution_count": 56,
   "id": "954f592a",
   "metadata": {},
   "outputs": [],
   "source": [
    "#print(hcai_df)"
   ]
  },
  {
   "cell_type": "code",
   "execution_count": 57,
   "id": "da98282a",
   "metadata": {},
   "outputs": [],
   "source": [
    "#hcai_df=pd.Series(pd.date_range(\"2021-11-30\", freq=\"M\", periods=2),dtype='datetime64[ns]',name='observation_date')\n",
    "#print(hcai_df)"
   ]
  },
  {
   "cell_type": "code",
   "execution_count": 58,
   "id": "69c0717b",
   "metadata": {},
   "outputs": [],
   "source": [
    "features_df=pd.concat([effr_df, gdp_df, hsn1f_df, mort_df, msacr_df, permit_df, pop_df, cons_df, unrate_df],axis=1)"
   ]
  },
  {
   "cell_type": "code",
   "execution_count": 59,
   "id": "d60b123f",
   "metadata": {},
   "outputs": [
    {
     "name": "stdout",
     "output_type": "stream",
     "text": [
      "                      EFFR        GDP  HSN1F  MORTGAGE30US  MSACSR  PERMIT  \\\n",
      "observation_date                                                             \n",
      "2002-01-31        1.671364  10783.500  880.0        6.9975     4.2  1665.0   \n",
      "2002-02-28        1.745500  10783.500  948.0        6.8925     4.0  1787.0   \n",
      "2002-03-31        1.726190  10783.500  923.0        7.0140     4.1  1691.0   \n",
      "2002-04-30        1.758636  10887.460  936.0        6.9850     4.3  1669.0   \n",
      "2002-05-31        1.682609  10887.460  978.0        6.8060     4.0  1716.0   \n",
      "...                    ...        ...    ...           ...     ...     ...   \n",
      "2021-08-31        0.093182  23202.344  668.0        2.8425     6.8  1721.0   \n",
      "2021-09-30        0.075455  23202.344  725.0        2.9000     6.3  1586.0   \n",
      "2021-10-31        0.075714  24008.472  667.0        3.0675     7.0  1653.0   \n",
      "2021-11-30        0.072273  24008.472  749.0        3.0675     6.3  1717.0   \n",
      "2021-12-31        0.079565  24008.472  839.0        3.0980     5.6  1885.0   \n",
      "\n",
      "                    POPTHM  TLRESCONS  UNRATE  \n",
      "observation_date                               \n",
      "2002-01-31        286739.0   382979.0     5.7  \n",
      "2002-02-28        286935.0   391434.0     5.7  \n",
      "2002-03-31        287131.0   390942.0     5.7  \n",
      "2002-04-30        287343.0   404255.0     5.9  \n",
      "2002-05-31        287571.0   399164.0     5.8  \n",
      "...                    ...        ...     ...  \n",
      "2021-08-31        332295.0   789620.0     5.2  \n",
      "2021-09-30        332403.0   800118.0     4.7  \n",
      "2021-10-31        332513.0   804575.0     4.6  \n",
      "2021-11-30        332598.0   810487.0     4.2  \n",
      "2021-12-31        332640.0   827621.0     3.9  \n",
      "\n",
      "[240 rows x 9 columns]\n"
     ]
    }
   ],
   "source": [
    "print(features_df)"
   ]
  },
  {
   "cell_type": "code",
   "execution_count": 60,
   "id": "56b088b3",
   "metadata": {},
   "outputs": [],
   "source": [
    "data=pd.concat([features_df,target_df],axis=1)"
   ]
  },
  {
   "cell_type": "code",
   "execution_count": 61,
   "id": "99137d1d",
   "metadata": {},
   "outputs": [
    {
     "name": "stdout",
     "output_type": "stream",
     "text": [
      "                      EFFR        GDP  HSN1F  MORTGAGE30US  MSACSR  PERMIT  \\\n",
      "observation_date                                                             \n",
      "2002-01-31        1.671364  10783.500  880.0        6.9975     4.2  1665.0   \n",
      "2002-02-28        1.745500  10783.500  948.0        6.8925     4.0  1787.0   \n",
      "2002-03-31        1.726190  10783.500  923.0        7.0140     4.1  1691.0   \n",
      "2002-04-30        1.758636  10887.460  936.0        6.9850     4.3  1669.0   \n",
      "2002-05-31        1.682609  10887.460  978.0        6.8060     4.0  1716.0   \n",
      "...                    ...        ...    ...           ...     ...     ...   \n",
      "2021-08-31        0.093182  23202.344  668.0        2.8425     6.8  1721.0   \n",
      "2021-09-30        0.075455  23202.344  725.0        2.9000     6.3  1586.0   \n",
      "2021-10-31        0.075714  24008.472  667.0        3.0675     7.0  1653.0   \n",
      "2021-11-30        0.072273  24008.472  749.0        3.0675     6.3  1717.0   \n",
      "2021-12-31        0.079565  24008.472  839.0        3.0980     5.6  1885.0   \n",
      "\n",
      "                    POPTHM  TLRESCONS  UNRATE  CSUSHPISA  \n",
      "observation_date                                          \n",
      "2002-01-31        286739.0   382979.0     5.7    117.142  \n",
      "2002-02-28        286935.0   391434.0     5.7    117.844  \n",
      "2002-03-31        287131.0   390942.0     5.7    118.686  \n",
      "2002-04-30        287343.0   404255.0     5.9    119.610  \n",
      "2002-05-31        287571.0   399164.0     5.8    120.723  \n",
      "...                    ...        ...     ...        ...  \n",
      "2021-08-31        332295.0   789620.0     5.2    267.183  \n",
      "2021-09-30        332403.0   800118.0     4.7    270.225  \n",
      "2021-10-31        332513.0   804575.0     4.6    272.976  \n",
      "2021-11-30        332598.0   810487.0     4.2    276.189  \n",
      "2021-12-31        332640.0   827621.0     3.9    279.801  \n",
      "\n",
      "[240 rows x 10 columns]\n"
     ]
    }
   ],
   "source": [
    "print(data)"
   ]
  },
  {
   "cell_type": "code",
   "execution_count": 62,
   "id": "59cac087",
   "metadata": {},
   "outputs": [
    {
     "data": {
      "text/plain": [
       "EFFR            0\n",
       "GDP             0\n",
       "HSN1F           0\n",
       "MORTGAGE30US    0\n",
       "MSACSR          0\n",
       "PERMIT          0\n",
       "POPTHM          0\n",
       "TLRESCONS       0\n",
       "UNRATE          0\n",
       "CSUSHPISA       0\n",
       "dtype: int64"
      ]
     },
     "execution_count": 62,
     "metadata": {},
     "output_type": "execute_result"
    }
   ],
   "source": [
    "data.isna().sum(axis='rows')"
   ]
  },
  {
   "cell_type": "code",
   "execution_count": 70,
   "id": "96797b9a",
   "metadata": {},
   "outputs": [
    {
     "data": {
      "text/plain": [
       "<AxesSubplot:>"
      ]
     },
     "execution_count": 70,
     "metadata": {},
     "output_type": "execute_result"
    },
    {
     "data": {
      "image/png": "[encoded data removed]",
      "text/plain": [
       "<Figure size 432x288 with 2 Axes>"
      ]
     },
     "metadata": {
      "needs_background": "light"
     },
     "output_type": "display_data"
    }
   ],
   "source": [
    "data_corr=data.corr()\n",
    "sns.heatmap(data_corr, annot=True)"
   ]
  },
  {
   "cell_type": "code",
   "execution_count": 1,
   "id": "3d49e5d1",
   "metadata": {},
   "outputs": [
    {
     "ename": "NameError",
     "evalue": "name 'np' is not defined",
     "output_type": "error",
     "traceback": [
      "\u001b[1;31m---------------------------------------------------------------------------\u001b[0m",
      "\u001b[1;31mNameError\u001b[0m                                 Traceback (most recent call last)",
      "\u001b[1;32m~\\AppData\\Local\\Temp/ipykernel_14192/1063817459.py\u001b[0m in \u001b[0;36m<module>\u001b[1;34m\u001b[0m\n\u001b[0;32m      1\u001b[0m \u001b[0mthreshold\u001b[0m \u001b[1;33m=\u001b[0m \u001b[1;36m0.9\u001b[0m\u001b[1;33m\u001b[0m\u001b[1;33m\u001b[0m\u001b[0m\n\u001b[1;32m----> 2\u001b[1;33m \u001b[0mcolumns\u001b[0m \u001b[1;33m=\u001b[0m \u001b[0mnp\u001b[0m\u001b[1;33m.\u001b[0m\u001b[0mfull\u001b[0m\u001b[1;33m(\u001b[0m\u001b[1;33m(\u001b[0m\u001b[0mdata_corr\u001b[0m\u001b[1;33m.\u001b[0m\u001b[0mshape\u001b[0m\u001b[1;33m[\u001b[0m\u001b[1;36m0\u001b[0m\u001b[1;33m]\u001b[0m\u001b[1;33m,\u001b[0m\u001b[1;33m)\u001b[0m\u001b[1;33m,\u001b[0m \u001b[1;32mTrue\u001b[0m\u001b[1;33m,\u001b[0m \u001b[0mdtype\u001b[0m\u001b[1;33m=\u001b[0m\u001b[0mbool\u001b[0m\u001b[1;33m)\u001b[0m\u001b[1;33m\u001b[0m\u001b[1;33m\u001b[0m\u001b[0m\n\u001b[0m\u001b[0;32m      3\u001b[0m \u001b[1;32mfor\u001b[0m \u001b[0mi\u001b[0m \u001b[1;32min\u001b[0m \u001b[0mrange\u001b[0m\u001b[1;33m(\u001b[0m\u001b[0mdata_corr\u001b[0m\u001b[1;33m.\u001b[0m\u001b[0mshape\u001b[0m\u001b[1;33m[\u001b[0m\u001b[1;36m0\u001b[0m\u001b[1;33m]\u001b[0m\u001b[1;33m)\u001b[0m\u001b[1;33m:\u001b[0m\u001b[1;33m\u001b[0m\u001b[1;33m\u001b[0m\u001b[0m\n\u001b[0;32m      4\u001b[0m     \u001b[1;32mfor\u001b[0m \u001b[0mj\u001b[0m \u001b[1;32min\u001b[0m \u001b[0mrange\u001b[0m\u001b[1;33m(\u001b[0m\u001b[0mi\u001b[0m\u001b[1;33m+\u001b[0m\u001b[1;36m1\u001b[0m\u001b[1;33m,\u001b[0m \u001b[0mdata_corr\u001b[0m\u001b[1;33m.\u001b[0m\u001b[0mshape\u001b[0m\u001b[1;33m[\u001b[0m\u001b[1;36m0\u001b[0m\u001b[1;33m]\u001b[0m\u001b[1;33m)\u001b[0m\u001b[1;33m:\u001b[0m\u001b[1;33m\u001b[0m\u001b[1;33m\u001b[0m\u001b[0m\n\u001b[0;32m      5\u001b[0m         \u001b[1;32mif\u001b[0m \u001b[0mdata_corr\u001b[0m\u001b[1;33m.\u001b[0m\u001b[0miloc\u001b[0m\u001b[1;33m[\u001b[0m\u001b[0mi\u001b[0m\u001b[1;33m,\u001b[0m\u001b[0mj\u001b[0m\u001b[1;33m]\u001b[0m \u001b[1;33m>=\u001b[0m \u001b[0mthreshold\u001b[0m\u001b[1;33m:\u001b[0m\u001b[1;33m\u001b[0m\u001b[1;33m\u001b[0m\u001b[0m\n",
      "\u001b[1;31mNameError\u001b[0m: name 'np' is not defined"
     ]
    }
   ],
   "source": [
    "threshold = 0.9\n",
    "columns = np.full((data_corr.shape[0],), True, dtype=bool)\n",
    "for i in range(data_corr.shape[0]):\n",
    "    for j in range(i+1, data_corr.shape[0]):\n",
    "        if data_corr.iloc[i,j] >= threshold:\n",
    "            if columns[j]:\n",
    "                columns[j] = False\n",
    "selected_columns = data.columns[columns]\n",
    "selected_columns\n",
    "data = data[selected_columns]"
   ]
  },
  {
   "cell_type": "code",
   "execution_count": 72,
   "id": "919bb76a",
   "metadata": {},
   "outputs": [],
   "source": [
    "train, validate, test = np.split(data.sample(frac=1, random_state=42), [int(.6*len(data)), int(.8*len(data))])"
   ]
  },
  {
   "cell_type": "code",
   "execution_count": 73,
   "id": "bb8703ac",
   "metadata": {},
   "outputs": [
    {
     "name": "stdout",
     "output_type": "stream",
     "text": [
      "                      EFFR        GDP   HSN1F  MORTGAGE30US  MSACSR  \\\n",
      "observation_date                                                      \n",
      "2004-01-31        0.909091  11923.447  1165.0        5.7125     3.8   \n",
      "2002-07-31        1.661304  10984.040   956.0        6.4850     4.2   \n",
      "2009-10-31        0.112273  14651.248   396.0        4.9520     7.4   \n",
      "2011-02-28        0.150000  15351.444   270.0        4.9525     8.1   \n",
      "2010-09-30        0.185000  15141.605   317.0        4.3460     7.6   \n",
      "...                    ...        ...     ...           ...     ...   \n",
      "2012-09-30        0.142000  16319.540   385.0        3.4975     4.5   \n",
      "2020-01-31        1.416957  21481.367   756.0        3.6240     5.1   \n",
      "2017-01-31        0.595455  19153.912   578.0        4.1500     5.3   \n",
      "2007-11-30        4.087727  14715.058   641.0        6.2080     9.4   \n",
      "2017-04-30        0.906000  19322.920   604.0        4.0450     5.3   \n",
      "\n",
      "                  TLRESCONS  UNRATE  CSUSHPISA  \n",
      "observation_date                                \n",
      "2004-01-31         503659.0     5.7    141.647  \n",
      "2002-07-31         410171.0     5.8    122.886  \n",
      "2009-10-31         263232.0    10.0    147.847  \n",
      "2011-02-28         249760.0     9.0    140.355  \n",
      "2010-09-30         249015.0     9.5    143.015  \n",
      "...                     ...     ...        ...  \n",
      "2012-09-30         292076.0     7.8    142.909  \n",
      "2020-01-31         600689.0     3.5    214.449  \n",
      "2017-01-31         517482.0     4.7    186.790  \n",
      "2007-11-30         439144.0     4.7    175.146  \n",
      "2017-04-30         540749.0     4.4    188.813  \n",
      "\n",
      "[144 rows x 8 columns]\n"
     ]
    }
   ],
   "source": [
    "print(train)"
   ]
  },
  {
   "cell_type": "code",
   "execution_count": 77,
   "id": "ec6d1aca",
   "metadata": {},
   "outputs": [
    {
     "data": {
      "text/plain": [
       "EFFR            1.582342\n",
       "GDP             0.265654\n",
       "HSN1F           0.655383\n",
       "MORTGAGE30US    0.217874\n",
       "MSACSR          1.256032\n",
       "TLRESCONS       0.401601\n",
       "UNRATE          1.127963\n",
       "CSUSHPISA       1.101514\n",
       "dtype: float64"
      ]
     },
     "execution_count": 77,
     "metadata": {},
     "output_type": "execute_result"
    }
   ],
   "source": [
    "train.skew()"
   ]
  },
  {
   "cell_type": "code",
   "execution_count": 78,
   "id": "6c802f4c",
   "metadata": {},
   "outputs": [
    {
     "data": {
      "text/plain": [
       "array([[<AxesSubplot:title={'center':'EFFR'}>,\n",
       "        <AxesSubplot:title={'center':'GDP'}>,\n",
       "        <AxesSubplot:title={'center':'HSN1F'}>],\n",
       "       [<AxesSubplot:title={'center':'MORTGAGE30US'}>,\n",
       "        <AxesSubplot:title={'center':'MSACSR'}>,\n",
       "        <AxesSubplot:title={'center':'TLRESCONS'}>],\n",
       "       [<AxesSubplot:title={'center':'UNRATE'}>,\n",
       "        <AxesSubplot:title={'center':'CSUSHPISA'}>, <AxesSubplot:>]],\n",
       "      dtype=object)"
      ]
     },
     "execution_count": 78,
     "metadata": {},
     "output_type": "execute_result"
    },
    {
     "data": {
      "image/png": "[encoded data removed]",
      "text/plain": [
       "<Figure size 720x432 with 9 Axes>"
      ]
     },
     "metadata": {
      "needs_background": "light"
     },
     "output_type": "display_data"
    }
   ],
   "source": [
    "train.hist(grid=False, figsize=(10, 6), bins=30)"
   ]
  },
  {
   "cell_type": "code",
   "execution_count": null,
   "id": "f7f7e7bb",
   "metadata": {},
   "outputs": [],
   "source": []
  }
 ],
 "metadata": {
  "kernelspec": {
   "display_name": "Python 3 (ipykernel)",
   "language": "python",
   "name": "python3"
  },
  "language_info": {
   "codemirror_mode": {
    "name": "ipython",
    "version": 3
   },
   "file_extension": ".py",
   "mimetype": "text/x-python",
   "name": "python",
   "nbconvert_exporter": "python",
   "pygments_lexer": "ipython3",
   "version": "3.9.7"
  }
 },
 "nbformat": 4,
 "nbformat_minor": 5
}
