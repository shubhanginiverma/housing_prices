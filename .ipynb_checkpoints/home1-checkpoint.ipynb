{
 "cells": [
  {
   "cell_type": "code",
   "execution_count": 1,
   "id": "0016210c",
   "metadata": {},
   "outputs": [],
   "source": [
    "import numpy as np\n",
    "import pandas as pd\n",
    "import sklearn\n",
    "import seaborn as sns \n",
    "import matplotlib.pyplot as plt\n",
    "%matplotlib inline\n"
   ]
  },
  {
   "cell_type": "code",
   "execution_count": 2,
   "id": "8625f245",
   "metadata": {},
   "outputs": [
    {
     "name": "stdout",
     "output_type": "stream",
     "text": [
      "                      HPI\n",
      "observation_date         \n",
      "2002-01-31        117.142\n",
      "2002-02-28        117.844\n",
      "2002-03-31        118.686\n",
      "2002-04-30        119.610\n",
      "2002-05-31        120.723\n",
      "...                   ...\n",
      "2021-08-31        267.183\n",
      "2021-09-30        270.225\n",
      "2021-10-31        272.976\n",
      "2021-11-30        276.189\n",
      "2021-12-31        279.801\n",
      "\n",
      "[240 rows x 1 columns]\n"
     ]
    }
   ],
   "source": [
    "# TARGET VARIABLE -- HOME PRICE INDEX\n",
    "target_df = pd.read_excel('CSUSHPISA.xls', skiprows = 10)\n",
    "target_df.set_index('observation_date', inplace = True)\n",
    "target_df.index = pd.to_datetime(target_df.index)\n",
    "target_df=target_df.resample('1M').mean()\n",
    "target_df.rename(columns = {'CSUSHPISA':'HPI'}, inplace = True)\n",
    "print(target_df)"
   ]
  },
  {
   "cell_type": "code",
   "execution_count": 3,
   "id": "c99d4409",
   "metadata": {},
   "outputs": [
    {
     "name": "stdout",
     "output_type": "stream",
     "text": [
      "                      EFFR\n",
      "observation_date          \n",
      "2002-01-31        1.671364\n",
      "2002-02-28        1.745500\n",
      "2002-03-31        1.726190\n",
      "2002-04-30        1.758636\n",
      "2002-05-31        1.682609\n",
      "...                    ...\n",
      "2021-08-31        0.093182\n",
      "2021-09-30        0.075455\n",
      "2021-10-31        0.075714\n",
      "2021-11-30        0.072273\n",
      "2021-12-31        0.079565\n",
      "\n",
      "[240 rows x 1 columns]\n"
     ]
    }
   ],
   "source": [
    "# EFFECTIVE FEDERAL FUNDS RATE --\n",
    "effr_df=pd.read_excel('EFFR.xls', skiprows = 10)\n",
    "effr_df.set_index('observation_date', inplace=True)\n",
    "effr_df.index = pd.to_datetime(effr_df.index)\n",
    "effr_df=effr_df.resample('1M').mean()\n",
    "print(effr_df)"
   ]
  },
  {
   "cell_type": "code",
   "execution_count": 4,
   "id": "5126a31a",
   "metadata": {},
   "outputs": [
    {
     "name": "stdout",
     "output_type": "stream",
     "text": [
      "                        GDP\n",
      "observation_date           \n",
      "2002-01-31        10783.500\n",
      "2002-02-28        10783.500\n",
      "2002-03-31        10783.500\n",
      "2002-04-30        10887.460\n",
      "2002-05-31        10887.460\n",
      "...                     ...\n",
      "2021-08-31        23202.344\n",
      "2021-09-30        23202.344\n",
      "2021-10-31        24008.472\n",
      "2021-11-30        24008.472\n",
      "2021-12-31        24008.472\n",
      "\n",
      "[240 rows x 1 columns]\n"
     ]
    }
   ],
   "source": [
    "# GROSS DOMESTIC PRODUCT --\n",
    "gdp_df=pd.read_excel('GDP.xls', skiprows = 10)\n",
    "gdp_enddate=pd.Series(pd.date_range(\"2021-11-30\", freq=\"M\", periods=2),dtype='datetime64[ns]',name='observation_date')\n",
    "gdp_endgdp=pd.Series([np.nan,np.nan],dtype='float64',name='GDP')\n",
    "gdp_dfend=pd.concat([gdp_enddate, gdp_endgdp],axis=1)\n",
    "gdp_df=pd.concat([gdp_df, gdp_dfend])\n",
    "gdp_df.set_index('observation_date', inplace=True)\n",
    "gdp_df.index = pd.to_datetime(gdp_df.index)\n",
    "gdp_df=gdp_df.resample('1M').fillna(method='ffill')\n",
    "gdp_df=gdp_df.fillna(method='ffill')\n",
    "print(gdp_df)"
   ]
  },
  {
   "cell_type": "code",
   "execution_count": 5,
   "id": "96c4a070",
   "metadata": {},
   "outputs": [
    {
     "name": "stdout",
     "output_type": "stream",
     "text": [
      "                  HOUSES_SOLD\n",
      "observation_date             \n",
      "2002-01-31              880.0\n",
      "2002-02-28              948.0\n",
      "2002-03-31              923.0\n",
      "2002-04-30              936.0\n",
      "2002-05-31              978.0\n",
      "...                       ...\n",
      "2021-08-31              668.0\n",
      "2021-09-30              725.0\n",
      "2021-10-31              667.0\n",
      "2021-11-30              749.0\n",
      "2021-12-31              839.0\n",
      "\n",
      "[240 rows x 1 columns]\n"
     ]
    }
   ],
   "source": [
    "# NEW ONE FAMILY HOUSES SOLD --\n",
    "hsn1f_df = pd.read_excel('HSN1F.xls', skiprows = 10)\n",
    "hsn1f_df.set_index('observation_date', inplace = True)\n",
    "hsn1f_df.index = pd.to_datetime(hsn1f_df.index)\n",
    "hsn1f_df = hsn1f_df.resample('1M').mean()\n",
    "hsn1f_df.rename(columns = {'HSN1F':'HOUSES_SOLD'}, inplace = True)\n",
    "print(hsn1f_df)"
   ]
  },
  {
   "cell_type": "code",
   "execution_count": 6,
   "id": "4c7ee466",
   "metadata": {},
   "outputs": [
    {
     "name": "stdout",
     "output_type": "stream",
     "text": [
      "                  MORTGAGE30US\n",
      "observation_date              \n",
      "2002-01-31              6.9975\n",
      "2002-02-28              6.8925\n",
      "2002-03-31              7.0140\n",
      "2002-04-30              6.9850\n",
      "2002-05-31              6.8060\n",
      "...                        ...\n",
      "2021-08-31              2.8425\n",
      "2021-09-30              2.9000\n",
      "2021-10-31              3.0675\n",
      "2021-11-30              3.0675\n",
      "2021-12-31              3.0980\n",
      "\n",
      "[240 rows x 1 columns]\n"
     ]
    }
   ],
   "source": [
    "# MORTGAGE RATE --\n",
    "mort_df = pd.read_excel('MORTGAGE30US.xls', skiprows = 10)\n",
    "mort_df.set_index('observation_date', inplace=True)\n",
    "mort_df.index = pd.to_datetime(mort_df.index)\n",
    "mort_df = mort_df.resample('1M').mean()\n",
    "print(mort_df)"
   ]
  },
  {
   "cell_type": "code",
   "execution_count": 7,
   "id": "379cc45d",
   "metadata": {},
   "outputs": [
    {
     "name": "stdout",
     "output_type": "stream",
     "text": [
      "                  SUPPLY\n",
      "observation_date        \n",
      "2002-01-31           4.2\n",
      "2002-02-28           4.0\n",
      "2002-03-31           4.1\n",
      "2002-04-30           4.3\n",
      "2002-05-31           4.0\n",
      "...                  ...\n",
      "2021-08-31           6.8\n",
      "2021-09-30           6.3\n",
      "2021-10-31           7.0\n",
      "2021-11-30           6.3\n",
      "2021-12-31           5.6\n",
      "\n",
      "[240 rows x 1 columns]\n"
     ]
    }
   ],
   "source": [
    "# MONTHLY SUPPLY OF HOUSES IN THE USA\n",
    "msacr_df = pd.read_excel('MSACSR.xls', skiprows = 10)\n",
    "msacr_df.set_index('observation_date', inplace=True)\n",
    "msacr_df.index = pd.to_datetime(msacr_df.index)\n",
    "msacr_df = msacr_df.resample('1M').mean()\n",
    "msacr_df.rename(columns = {'MSACSR':'SUPPLY'}, inplace = True)\n",
    "print(msacr_df)"
   ]
  },
  {
   "cell_type": "code",
   "execution_count": 8,
   "id": "46683e8d",
   "metadata": {},
   "outputs": [
    {
     "name": "stdout",
     "output_type": "stream",
     "text": [
      "                  PERMIT\n",
      "observation_date        \n",
      "2002-01-31        1665.0\n",
      "2002-02-28        1787.0\n",
      "2002-03-31        1691.0\n",
      "2002-04-30        1669.0\n",
      "2002-05-31        1716.0\n",
      "...                  ...\n",
      "2021-08-31        1721.0\n",
      "2021-09-30        1586.0\n",
      "2021-10-31        1653.0\n",
      "2021-11-30        1717.0\n",
      "2021-12-31        1885.0\n",
      "\n",
      "[240 rows x 1 columns]\n"
     ]
    }
   ],
   "source": [
    "# NEW PRIVATELY - OWNED HOUSING UNITS AUTHORIZED IN PERMIT ISSUSING PLACES --\n",
    "permit_df = pd.read_excel('PERMIT.xls', skiprows = 10)\n",
    "permit_df.set_index('observation_date', inplace=True)\n",
    "permit_df.index = pd.to_datetime(permit_df.index)\n",
    "permit_df = permit_df.resample('1M').mean()\n",
    "print(permit_df)"
   ]
  },
  {
   "cell_type": "code",
   "execution_count": 9,
   "id": "1f1f580f",
   "metadata": {},
   "outputs": [
    {
     "name": "stdout",
     "output_type": "stream",
     "text": [
      "                  POPULATION\n",
      "observation_date            \n",
      "2002-01-31          286739.0\n",
      "2002-02-28          286935.0\n",
      "2002-03-31          287131.0\n",
      "2002-04-30          287343.0\n",
      "2002-05-31          287571.0\n",
      "...                      ...\n",
      "2021-08-31          332295.0\n",
      "2021-09-30          332403.0\n",
      "2021-10-31          332513.0\n",
      "2021-11-30          332598.0\n",
      "2021-12-31          332640.0\n",
      "\n",
      "[240 rows x 1 columns]\n"
     ]
    }
   ],
   "source": [
    "# POPULATION IN USA --\n",
    "pop_df = pd.read_excel('POPTHM.xls', skiprows = 10)\n",
    "pop_df.set_index('observation_date', inplace=True)\n",
    "pop_df.index = pd.to_datetime(pop_df.index)\n",
    "pop_df = pop_df.resample('1M').mean()\n",
    "pop_df.rename(columns = {'POPTHM':'POPULATION'}, inplace = True)\n",
    "print(pop_df)"
   ]
  },
  {
   "cell_type": "code",
   "execution_count": 10,
   "id": "87297311",
   "metadata": {},
   "outputs": [
    {
     "name": "stdout",
     "output_type": "stream",
     "text": [
      "                  CONSTRUCTION_SPEND\n",
      "observation_date                    \n",
      "2002-01-31                  382979.0\n",
      "2002-02-28                  391434.0\n",
      "2002-03-31                  390942.0\n",
      "2002-04-30                  404255.0\n",
      "2002-05-31                  399164.0\n",
      "...                              ...\n",
      "2021-08-31                  789620.0\n",
      "2021-09-30                  800118.0\n",
      "2021-10-31                  804575.0\n",
      "2021-11-30                  810487.0\n",
      "2021-12-31                  827621.0\n",
      "\n",
      "[240 rows x 1 columns]\n"
     ]
    }
   ],
   "source": [
    "# CONSTRUCTION SPENDING (RESIDENTIAL) --\n",
    "cons_df = pd.read_excel('TLRESCONS.xls', skiprows = 10)\n",
    "cons_df.set_index('observation_date', inplace=True)\n",
    "cons_df.index = pd.to_datetime(cons_df.index)\n",
    "cons_df = cons_df.resample('1M').mean()\n",
    "cons_df.rename(columns = {'TLRESCONS':'CONSTRUCTION_SPEND'}, inplace = True)\n",
    "print(cons_df)"
   ]
  },
  {
   "cell_type": "code",
   "execution_count": 11,
   "id": "cb28c0b1",
   "metadata": {},
   "outputs": [
    {
     "name": "stdout",
     "output_type": "stream",
     "text": [
      "                  UNRATE\n",
      "observation_date        \n",
      "2002-01-31           5.7\n",
      "2002-02-28           5.7\n",
      "2002-03-31           5.7\n",
      "2002-04-30           5.9\n",
      "2002-05-31           5.8\n",
      "...                  ...\n",
      "2021-08-31           5.2\n",
      "2021-09-30           4.7\n",
      "2021-10-31           4.6\n",
      "2021-11-30           4.2\n",
      "2021-12-31           3.9\n",
      "\n",
      "[240 rows x 1 columns]\n"
     ]
    }
   ],
   "source": [
    "# UNEMPLOYEMENT RATE --\n",
    "unrate_df = pd.read_excel('UNRATE.xls', skiprows = 10)\n",
    "unrate_df.set_index('observation_date', inplace=True)\n",
    "unrate_df.index = pd.to_datetime(unrate_df.index)\n",
    "unrate_df = unrate_df.resample('1M').mean()\n",
    "print(unrate_df)"
   ]
  },
  {
   "cell_type": "code",
   "execution_count": 12,
   "id": "88971e77",
   "metadata": {},
   "outputs": [
    {
     "name": "stdout",
     "output_type": "stream",
     "text": [
      "                      CPI\n",
      "observation_date         \n",
      "2002-01-31        177.700\n",
      "2002-02-28        178.000\n",
      "2002-03-31        178.500\n",
      "2002-04-30        179.300\n",
      "2002-05-31        179.500\n",
      "...                   ...\n",
      "2021-08-31        273.092\n",
      "2021-09-30        274.214\n",
      "2021-10-31        276.590\n",
      "2021-11-30        278.524\n",
      "2021-12-31        280.126\n",
      "\n",
      "[240 rows x 1 columns]\n"
     ]
    }
   ],
   "source": [
    "# CONSUMER PRICE INDEX\n",
    "cpi_df = pd.read_excel('CPIAUCSL.xls', skiprows = 10)\n",
    "cpi_df.set_index('observation_date', inplace=True)\n",
    "cpi_df.index = pd.to_datetime(cpi_df.index)\n",
    "cpi_df=cpi_df.resample('1M').mean()\n",
    "cpi_df.rename(columns = {'CPIAUCSL':'CPI'}, inplace = True)\n",
    "print(cpi_df)"
   ]
  },
  {
   "cell_type": "code",
   "execution_count": 13,
   "id": "8c7a4f59",
   "metadata": {},
   "outputs": [],
   "source": [
    "# DATASET "
   ]
  },
  {
   "cell_type": "code",
   "execution_count": 14,
   "id": "f9f9c1c2",
   "metadata": {},
   "outputs": [
    {
     "data": {
      "text/html": [
       "<div>\n",
       "<style scoped>\n",
       "    .dataframe tbody tr th:only-of-type {\n",
       "        vertical-align: middle;\n",
       "    }\n",
       "\n",
       "    .dataframe tbody tr th {\n",
       "        vertical-align: top;\n",
       "    }\n",
       "\n",
       "    .dataframe thead th {\n",
       "        text-align: right;\n",
       "    }\n",
       "</style>\n",
       "<table border=\"1\" class=\"dataframe\">\n",
       "  <thead>\n",
       "    <tr style=\"text-align: right;\">\n",
       "      <th></th>\n",
       "      <th>EFFR</th>\n",
       "      <th>GDP</th>\n",
       "      <th>HOUSES_SOLD</th>\n",
       "      <th>MORTGAGE30US</th>\n",
       "      <th>SUPPLY</th>\n",
       "      <th>PERMIT</th>\n",
       "      <th>POPULATION</th>\n",
       "      <th>CONSTRUCTION_SPEND</th>\n",
       "      <th>UNRATE</th>\n",
       "      <th>CPI</th>\n",
       "    </tr>\n",
       "    <tr>\n",
       "      <th>observation_date</th>\n",
       "      <th></th>\n",
       "      <th></th>\n",
       "      <th></th>\n",
       "      <th></th>\n",
       "      <th></th>\n",
       "      <th></th>\n",
       "      <th></th>\n",
       "      <th></th>\n",
       "      <th></th>\n",
       "      <th></th>\n",
       "    </tr>\n",
       "  </thead>\n",
       "  <tbody>\n",
       "    <tr>\n",
       "      <th>2002-01-31</th>\n",
       "      <td>1.671364</td>\n",
       "      <td>10783.500</td>\n",
       "      <td>880.0</td>\n",
       "      <td>6.9975</td>\n",
       "      <td>4.2</td>\n",
       "      <td>1665.0</td>\n",
       "      <td>286739.0</td>\n",
       "      <td>382979.0</td>\n",
       "      <td>5.7</td>\n",
       "      <td>177.700</td>\n",
       "    </tr>\n",
       "    <tr>\n",
       "      <th>2002-02-28</th>\n",
       "      <td>1.745500</td>\n",
       "      <td>10783.500</td>\n",
       "      <td>948.0</td>\n",
       "      <td>6.8925</td>\n",
       "      <td>4.0</td>\n",
       "      <td>1787.0</td>\n",
       "      <td>286935.0</td>\n",
       "      <td>391434.0</td>\n",
       "      <td>5.7</td>\n",
       "      <td>178.000</td>\n",
       "    </tr>\n",
       "    <tr>\n",
       "      <th>2002-03-31</th>\n",
       "      <td>1.726190</td>\n",
       "      <td>10783.500</td>\n",
       "      <td>923.0</td>\n",
       "      <td>7.0140</td>\n",
       "      <td>4.1</td>\n",
       "      <td>1691.0</td>\n",
       "      <td>287131.0</td>\n",
       "      <td>390942.0</td>\n",
       "      <td>5.7</td>\n",
       "      <td>178.500</td>\n",
       "    </tr>\n",
       "    <tr>\n",
       "      <th>2002-04-30</th>\n",
       "      <td>1.758636</td>\n",
       "      <td>10887.460</td>\n",
       "      <td>936.0</td>\n",
       "      <td>6.9850</td>\n",
       "      <td>4.3</td>\n",
       "      <td>1669.0</td>\n",
       "      <td>287343.0</td>\n",
       "      <td>404255.0</td>\n",
       "      <td>5.9</td>\n",
       "      <td>179.300</td>\n",
       "    </tr>\n",
       "    <tr>\n",
       "      <th>2002-05-31</th>\n",
       "      <td>1.682609</td>\n",
       "      <td>10887.460</td>\n",
       "      <td>978.0</td>\n",
       "      <td>6.8060</td>\n",
       "      <td>4.0</td>\n",
       "      <td>1716.0</td>\n",
       "      <td>287571.0</td>\n",
       "      <td>399164.0</td>\n",
       "      <td>5.8</td>\n",
       "      <td>179.500</td>\n",
       "    </tr>\n",
       "    <tr>\n",
       "      <th>...</th>\n",
       "      <td>...</td>\n",
       "      <td>...</td>\n",
       "      <td>...</td>\n",
       "      <td>...</td>\n",
       "      <td>...</td>\n",
       "      <td>...</td>\n",
       "      <td>...</td>\n",
       "      <td>...</td>\n",
       "      <td>...</td>\n",
       "      <td>...</td>\n",
       "    </tr>\n",
       "    <tr>\n",
       "      <th>2021-08-31</th>\n",
       "      <td>0.093182</td>\n",
       "      <td>23202.344</td>\n",
       "      <td>668.0</td>\n",
       "      <td>2.8425</td>\n",
       "      <td>6.8</td>\n",
       "      <td>1721.0</td>\n",
       "      <td>332295.0</td>\n",
       "      <td>789620.0</td>\n",
       "      <td>5.2</td>\n",
       "      <td>273.092</td>\n",
       "    </tr>\n",
       "    <tr>\n",
       "      <th>2021-09-30</th>\n",
       "      <td>0.075455</td>\n",
       "      <td>23202.344</td>\n",
       "      <td>725.0</td>\n",
       "      <td>2.9000</td>\n",
       "      <td>6.3</td>\n",
       "      <td>1586.0</td>\n",
       "      <td>332403.0</td>\n",
       "      <td>800118.0</td>\n",
       "      <td>4.7</td>\n",
       "      <td>274.214</td>\n",
       "    </tr>\n",
       "    <tr>\n",
       "      <th>2021-10-31</th>\n",
       "      <td>0.075714</td>\n",
       "      <td>24008.472</td>\n",
       "      <td>667.0</td>\n",
       "      <td>3.0675</td>\n",
       "      <td>7.0</td>\n",
       "      <td>1653.0</td>\n",
       "      <td>332513.0</td>\n",
       "      <td>804575.0</td>\n",
       "      <td>4.6</td>\n",
       "      <td>276.590</td>\n",
       "    </tr>\n",
       "    <tr>\n",
       "      <th>2021-11-30</th>\n",
       "      <td>0.072273</td>\n",
       "      <td>24008.472</td>\n",
       "      <td>749.0</td>\n",
       "      <td>3.0675</td>\n",
       "      <td>6.3</td>\n",
       "      <td>1717.0</td>\n",
       "      <td>332598.0</td>\n",
       "      <td>810487.0</td>\n",
       "      <td>4.2</td>\n",
       "      <td>278.524</td>\n",
       "    </tr>\n",
       "    <tr>\n",
       "      <th>2021-12-31</th>\n",
       "      <td>0.079565</td>\n",
       "      <td>24008.472</td>\n",
       "      <td>839.0</td>\n",
       "      <td>3.0980</td>\n",
       "      <td>5.6</td>\n",
       "      <td>1885.0</td>\n",
       "      <td>332640.0</td>\n",
       "      <td>827621.0</td>\n",
       "      <td>3.9</td>\n",
       "      <td>280.126</td>\n",
       "    </tr>\n",
       "  </tbody>\n",
       "</table>\n",
       "<p>240 rows × 10 columns</p>\n",
       "</div>"
      ],
      "text/plain": [
       "                      EFFR        GDP  HOUSES_SOLD  MORTGAGE30US  SUPPLY  \\\n",
       "observation_date                                                           \n",
       "2002-01-31        1.671364  10783.500        880.0        6.9975     4.2   \n",
       "2002-02-28        1.745500  10783.500        948.0        6.8925     4.0   \n",
       "2002-03-31        1.726190  10783.500        923.0        7.0140     4.1   \n",
       "2002-04-30        1.758636  10887.460        936.0        6.9850     4.3   \n",
       "2002-05-31        1.682609  10887.460        978.0        6.8060     4.0   \n",
       "...                    ...        ...          ...           ...     ...   \n",
       "2021-08-31        0.093182  23202.344        668.0        2.8425     6.8   \n",
       "2021-09-30        0.075455  23202.344        725.0        2.9000     6.3   \n",
       "2021-10-31        0.075714  24008.472        667.0        3.0675     7.0   \n",
       "2021-11-30        0.072273  24008.472        749.0        3.0675     6.3   \n",
       "2021-12-31        0.079565  24008.472        839.0        3.0980     5.6   \n",
       "\n",
       "                  PERMIT  POPULATION  CONSTRUCTION_SPEND  UNRATE      CPI  \n",
       "observation_date                                                           \n",
       "2002-01-31        1665.0    286739.0            382979.0     5.7  177.700  \n",
       "2002-02-28        1787.0    286935.0            391434.0     5.7  178.000  \n",
       "2002-03-31        1691.0    287131.0            390942.0     5.7  178.500  \n",
       "2002-04-30        1669.0    287343.0            404255.0     5.9  179.300  \n",
       "2002-05-31        1716.0    287571.0            399164.0     5.8  179.500  \n",
       "...                  ...         ...                 ...     ...      ...  \n",
       "2021-08-31        1721.0    332295.0            789620.0     5.2  273.092  \n",
       "2021-09-30        1586.0    332403.0            800118.0     4.7  274.214  \n",
       "2021-10-31        1653.0    332513.0            804575.0     4.6  276.590  \n",
       "2021-11-30        1717.0    332598.0            810487.0     4.2  278.524  \n",
       "2021-12-31        1885.0    332640.0            827621.0     3.9  280.126  \n",
       "\n",
       "[240 rows x 10 columns]"
      ]
     },
     "execution_count": 14,
     "metadata": {},
     "output_type": "execute_result"
    }
   ],
   "source": [
    "# we have 10 features with 240 variables\n",
    "features_df=pd.concat([effr_df, gdp_df, hsn1f_df, mort_df, msacr_df, permit_df, pop_df, cons_df, unrate_df, cpi_df],axis=1)\n",
    "features_df"
   ]
  },
  {
   "cell_type": "code",
   "execution_count": 15,
   "id": "b1c95735",
   "metadata": {},
   "outputs": [
    {
     "data": {
      "text/html": [
       "<div>\n",
       "<style scoped>\n",
       "    .dataframe tbody tr th:only-of-type {\n",
       "        vertical-align: middle;\n",
       "    }\n",
       "\n",
       "    .dataframe tbody tr th {\n",
       "        vertical-align: top;\n",
       "    }\n",
       "\n",
       "    .dataframe thead th {\n",
       "        text-align: right;\n",
       "    }\n",
       "</style>\n",
       "<table border=\"1\" class=\"dataframe\">\n",
       "  <thead>\n",
       "    <tr style=\"text-align: right;\">\n",
       "      <th></th>\n",
       "      <th>EFFR</th>\n",
       "      <th>GDP</th>\n",
       "      <th>HOUSES_SOLD</th>\n",
       "      <th>MORTGAGE30US</th>\n",
       "      <th>SUPPLY</th>\n",
       "      <th>PERMIT</th>\n",
       "      <th>POPULATION</th>\n",
       "      <th>CONSTRUCTION_SPEND</th>\n",
       "      <th>UNRATE</th>\n",
       "      <th>CPI</th>\n",
       "      <th>HPI</th>\n",
       "    </tr>\n",
       "    <tr>\n",
       "      <th>observation_date</th>\n",
       "      <th></th>\n",
       "      <th></th>\n",
       "      <th></th>\n",
       "      <th></th>\n",
       "      <th></th>\n",
       "      <th></th>\n",
       "      <th></th>\n",
       "      <th></th>\n",
       "      <th></th>\n",
       "      <th></th>\n",
       "      <th></th>\n",
       "    </tr>\n",
       "  </thead>\n",
       "  <tbody>\n",
       "    <tr>\n",
       "      <th>2002-01-31</th>\n",
       "      <td>1.671364</td>\n",
       "      <td>10783.500</td>\n",
       "      <td>880.0</td>\n",
       "      <td>6.9975</td>\n",
       "      <td>4.2</td>\n",
       "      <td>1665.0</td>\n",
       "      <td>286739.0</td>\n",
       "      <td>382979.0</td>\n",
       "      <td>5.7</td>\n",
       "      <td>177.700</td>\n",
       "      <td>117.142</td>\n",
       "    </tr>\n",
       "    <tr>\n",
       "      <th>2002-02-28</th>\n",
       "      <td>1.745500</td>\n",
       "      <td>10783.500</td>\n",
       "      <td>948.0</td>\n",
       "      <td>6.8925</td>\n",
       "      <td>4.0</td>\n",
       "      <td>1787.0</td>\n",
       "      <td>286935.0</td>\n",
       "      <td>391434.0</td>\n",
       "      <td>5.7</td>\n",
       "      <td>178.000</td>\n",
       "      <td>117.844</td>\n",
       "    </tr>\n",
       "    <tr>\n",
       "      <th>2002-03-31</th>\n",
       "      <td>1.726190</td>\n",
       "      <td>10783.500</td>\n",
       "      <td>923.0</td>\n",
       "      <td>7.0140</td>\n",
       "      <td>4.1</td>\n",
       "      <td>1691.0</td>\n",
       "      <td>287131.0</td>\n",
       "      <td>390942.0</td>\n",
       "      <td>5.7</td>\n",
       "      <td>178.500</td>\n",
       "      <td>118.686</td>\n",
       "    </tr>\n",
       "    <tr>\n",
       "      <th>2002-04-30</th>\n",
       "      <td>1.758636</td>\n",
       "      <td>10887.460</td>\n",
       "      <td>936.0</td>\n",
       "      <td>6.9850</td>\n",
       "      <td>4.3</td>\n",
       "      <td>1669.0</td>\n",
       "      <td>287343.0</td>\n",
       "      <td>404255.0</td>\n",
       "      <td>5.9</td>\n",
       "      <td>179.300</td>\n",
       "      <td>119.610</td>\n",
       "    </tr>\n",
       "    <tr>\n",
       "      <th>2002-05-31</th>\n",
       "      <td>1.682609</td>\n",
       "      <td>10887.460</td>\n",
       "      <td>978.0</td>\n",
       "      <td>6.8060</td>\n",
       "      <td>4.0</td>\n",
       "      <td>1716.0</td>\n",
       "      <td>287571.0</td>\n",
       "      <td>399164.0</td>\n",
       "      <td>5.8</td>\n",
       "      <td>179.500</td>\n",
       "      <td>120.723</td>\n",
       "    </tr>\n",
       "    <tr>\n",
       "      <th>...</th>\n",
       "      <td>...</td>\n",
       "      <td>...</td>\n",
       "      <td>...</td>\n",
       "      <td>...</td>\n",
       "      <td>...</td>\n",
       "      <td>...</td>\n",
       "      <td>...</td>\n",
       "      <td>...</td>\n",
       "      <td>...</td>\n",
       "      <td>...</td>\n",
       "      <td>...</td>\n",
       "    </tr>\n",
       "    <tr>\n",
       "      <th>2021-08-31</th>\n",
       "      <td>0.093182</td>\n",
       "      <td>23202.344</td>\n",
       "      <td>668.0</td>\n",
       "      <td>2.8425</td>\n",
       "      <td>6.8</td>\n",
       "      <td>1721.0</td>\n",
       "      <td>332295.0</td>\n",
       "      <td>789620.0</td>\n",
       "      <td>5.2</td>\n",
       "      <td>273.092</td>\n",
       "      <td>267.183</td>\n",
       "    </tr>\n",
       "    <tr>\n",
       "      <th>2021-09-30</th>\n",
       "      <td>0.075455</td>\n",
       "      <td>23202.344</td>\n",
       "      <td>725.0</td>\n",
       "      <td>2.9000</td>\n",
       "      <td>6.3</td>\n",
       "      <td>1586.0</td>\n",
       "      <td>332403.0</td>\n",
       "      <td>800118.0</td>\n",
       "      <td>4.7</td>\n",
       "      <td>274.214</td>\n",
       "      <td>270.225</td>\n",
       "    </tr>\n",
       "    <tr>\n",
       "      <th>2021-10-31</th>\n",
       "      <td>0.075714</td>\n",
       "      <td>24008.472</td>\n",
       "      <td>667.0</td>\n",
       "      <td>3.0675</td>\n",
       "      <td>7.0</td>\n",
       "      <td>1653.0</td>\n",
       "      <td>332513.0</td>\n",
       "      <td>804575.0</td>\n",
       "      <td>4.6</td>\n",
       "      <td>276.590</td>\n",
       "      <td>272.976</td>\n",
       "    </tr>\n",
       "    <tr>\n",
       "      <th>2021-11-30</th>\n",
       "      <td>0.072273</td>\n",
       "      <td>24008.472</td>\n",
       "      <td>749.0</td>\n",
       "      <td>3.0675</td>\n",
       "      <td>6.3</td>\n",
       "      <td>1717.0</td>\n",
       "      <td>332598.0</td>\n",
       "      <td>810487.0</td>\n",
       "      <td>4.2</td>\n",
       "      <td>278.524</td>\n",
       "      <td>276.189</td>\n",
       "    </tr>\n",
       "    <tr>\n",
       "      <th>2021-12-31</th>\n",
       "      <td>0.079565</td>\n",
       "      <td>24008.472</td>\n",
       "      <td>839.0</td>\n",
       "      <td>3.0980</td>\n",
       "      <td>5.6</td>\n",
       "      <td>1885.0</td>\n",
       "      <td>332640.0</td>\n",
       "      <td>827621.0</td>\n",
       "      <td>3.9</td>\n",
       "      <td>280.126</td>\n",
       "      <td>279.801</td>\n",
       "    </tr>\n",
       "  </tbody>\n",
       "</table>\n",
       "<p>240 rows × 11 columns</p>\n",
       "</div>"
      ],
      "text/plain": [
       "                      EFFR        GDP  HOUSES_SOLD  MORTGAGE30US  SUPPLY  \\\n",
       "observation_date                                                           \n",
       "2002-01-31        1.671364  10783.500        880.0        6.9975     4.2   \n",
       "2002-02-28        1.745500  10783.500        948.0        6.8925     4.0   \n",
       "2002-03-31        1.726190  10783.500        923.0        7.0140     4.1   \n",
       "2002-04-30        1.758636  10887.460        936.0        6.9850     4.3   \n",
       "2002-05-31        1.682609  10887.460        978.0        6.8060     4.0   \n",
       "...                    ...        ...          ...           ...     ...   \n",
       "2021-08-31        0.093182  23202.344        668.0        2.8425     6.8   \n",
       "2021-09-30        0.075455  23202.344        725.0        2.9000     6.3   \n",
       "2021-10-31        0.075714  24008.472        667.0        3.0675     7.0   \n",
       "2021-11-30        0.072273  24008.472        749.0        3.0675     6.3   \n",
       "2021-12-31        0.079565  24008.472        839.0        3.0980     5.6   \n",
       "\n",
       "                  PERMIT  POPULATION  CONSTRUCTION_SPEND  UNRATE      CPI  \\\n",
       "observation_date                                                            \n",
       "2002-01-31        1665.0    286739.0            382979.0     5.7  177.700   \n",
       "2002-02-28        1787.0    286935.0            391434.0     5.7  178.000   \n",
       "2002-03-31        1691.0    287131.0            390942.0     5.7  178.500   \n",
       "2002-04-30        1669.0    287343.0            404255.0     5.9  179.300   \n",
       "2002-05-31        1716.0    287571.0            399164.0     5.8  179.500   \n",
       "...                  ...         ...                 ...     ...      ...   \n",
       "2021-08-31        1721.0    332295.0            789620.0     5.2  273.092   \n",
       "2021-09-30        1586.0    332403.0            800118.0     4.7  274.214   \n",
       "2021-10-31        1653.0    332513.0            804575.0     4.6  276.590   \n",
       "2021-11-30        1717.0    332598.0            810487.0     4.2  278.524   \n",
       "2021-12-31        1885.0    332640.0            827621.0     3.9  280.126   \n",
       "\n",
       "                      HPI  \n",
       "observation_date           \n",
       "2002-01-31        117.142  \n",
       "2002-02-28        117.844  \n",
       "2002-03-31        118.686  \n",
       "2002-04-30        119.610  \n",
       "2002-05-31        120.723  \n",
       "...                   ...  \n",
       "2021-08-31        267.183  \n",
       "2021-09-30        270.225  \n",
       "2021-10-31        272.976  \n",
       "2021-11-30        276.189  \n",
       "2021-12-31        279.801  \n",
       "\n",
       "[240 rows x 11 columns]"
      ]
     },
     "execution_count": 15,
     "metadata": {},
     "output_type": "execute_result"
    }
   ],
   "source": [
    "# combining target variable with the features\n",
    "data = pd.concat([features_df, target_df], axis = 1)\n",
    "data"
   ]
  },
  {
   "cell_type": "code",
   "execution_count": 16,
   "id": "04b350fb",
   "metadata": {},
   "outputs": [
    {
     "data": {
      "text/plain": [
       "EFFR                  0\n",
       "GDP                   0\n",
       "HOUSES_SOLD           0\n",
       "MORTGAGE30US          0\n",
       "SUPPLY                0\n",
       "PERMIT                0\n",
       "POPULATION            0\n",
       "CONSTRUCTION_SPEND    0\n",
       "UNRATE                0\n",
       "CPI                   0\n",
       "HPI                   0\n",
       "dtype: int64"
      ]
     },
     "execution_count": 16,
     "metadata": {},
     "output_type": "execute_result"
    }
   ],
   "source": [
    "# CHECKING FOR MISSING VALUES IN THE DATASET\n",
    "data.isna().sum(axis='rows')"
   ]
  },
  {
   "cell_type": "code",
   "execution_count": 17,
   "id": "a0b8c371",
   "metadata": {
    "scrolled": false
   },
   "outputs": [
    {
     "data": {
      "text/plain": [
       "<AxesSubplot:>"
      ]
     },
     "execution_count": 17,
     "metadata": {},
     "output_type": "execute_result"
    },
    {
     "data": {
      "image/png": "[encoded data removed]",
      "text/plain": [
       "<Figure size 1008x504 with 2 Axes>"
      ]
     },
     "metadata": {
      "needs_background": "light"
     },
     "output_type": "display_data"
    }
   ],
   "source": [
    "# CHECKING COLLINEARITY\n",
    "data_corr=data.corr()\n",
    "plt.figure(figsize=(14,7))\n",
    "sns.heatmap(data_corr, annot = True)"
   ]
  },
  {
   "cell_type": "code",
   "execution_count": 18,
   "id": "4153e64f",
   "metadata": {},
   "outputs": [],
   "source": [
    "# from the heatmap we see \n",
    "threshold = 0.9\n",
    "columns = np.full((data_corr.shape[0],), True, dtype=bool)\n",
    "for i in range(data_corr.shape[0]):\n",
    "    for j in range(i+1, data_corr.shape[0]):\n",
    "        if data_corr.iloc[i,j] >= threshold:\n",
    "            if columns[j]:\n",
    "                columns[j] = False\n",
    "selected_columns = data.columns[columns]\n",
    "selected_columns\n",
    "data = data[selected_columns]"
   ]
  },
  {
   "cell_type": "code",
   "execution_count": 19,
   "id": "a9facb45",
   "metadata": {
    "scrolled": true
   },
   "outputs": [
    {
     "data": {
      "text/plain": [
       "['EFFR', 'SUPPLY', 'UNRATE']"
      ]
     },
     "execution_count": 19,
     "metadata": {},
     "output_type": "execute_result"
    }
   ],
   "source": [
    "# SKEWNESS \n",
    "skewed_list = []\n",
    "for i in data:\n",
    "    if abs(data[i].skew()) > 1:\n",
    "        skewed_list.append(i)\n",
    "skewed_list"
   ]
  },
  {
   "cell_type": "code",
   "execution_count": 20,
   "id": "a90a092c",
   "metadata": {},
   "outputs": [
    {
     "data": {
      "text/plain": [
       "EFFR                  1.366661\n",
       "GDP                   0.236308\n",
       "HOUSES_SOLD           0.586496\n",
       "MORTGAGE30US          0.200521\n",
       "SUPPLY                1.211121\n",
       "CONSTRUCTION_SPEND    0.235550\n",
       "UNRATE                1.086206\n",
       "HPI                   0.923303\n",
       "dtype: float64"
      ]
     },
     "execution_count": 20,
     "metadata": {},
     "output_type": "execute_result"
    }
   ],
   "source": [
    "data.skew()"
   ]
  },
  {
   "cell_type": "code",
   "execution_count": 21,
   "id": "c9b8b6ea",
   "metadata": {},
   "outputs": [
    {
     "name": "stderr",
     "output_type": "stream",
     "text": [
      "C:\\Users\\hp\\anaconda3\\lib\\site-packages\\pandas\\core\\frame.py:3641: SettingWithCopyWarning: \n",
      "A value is trying to be set on a copy of a slice from a DataFrame.\n",
      "Try using .loc[row_indexer,col_indexer] = value instead\n",
      "\n",
      "See the caveats in the documentation: https://pandas.pydata.org/pandas-docs/stable/user_guide/indexing.html#returning-a-view-versus-a-copy\n",
      "  self[k1] = value[k2]\n"
     ]
    },
    {
     "data": {
      "text/plain": [
       "EFFR                  0.656394\n",
       "GDP                   0.236308\n",
       "HOUSES_SOLD           0.586496\n",
       "MORTGAGE30US          0.200521\n",
       "SUPPLY                0.674109\n",
       "CONSTRUCTION_SPEND    0.235550\n",
       "UNRATE                0.528821\n",
       "HPI                   0.923303\n",
       "dtype: float64"
      ]
     },
     "execution_count": 21,
     "metadata": {},
     "output_type": "execute_result"
    }
   ],
   "source": [
    "data[skewed_list] = data[skewed_list].apply(lambda i: np.log1p(i))\n",
    "data.skew()"
   ]
  },
  {
   "cell_type": "code",
   "execution_count": 22,
   "id": "4469e791",
   "metadata": {},
   "outputs": [],
   "source": [
    "#train, valid, test = np.split(data.sample(frac=1, random_state=42), [int(.6*len(data)), int(.8*len(data))])"
   ]
  },
  {
   "cell_type": "code",
   "execution_count": 23,
   "id": "a6e736af",
   "metadata": {
    "scrolled": true
   },
   "outputs": [
    {
     "name": "stdout",
     "output_type": "stream",
     "text": [
      "(192, 7)\n",
      "(192, 1)\n",
      "(48, 7)\n",
      "(48, 1)\n"
     ]
    },
    {
     "data": {
      "text/plain": [
       "(None, None)"
      ]
     },
     "execution_count": 23,
     "metadata": {},
     "output_type": "execute_result"
    }
   ],
   "source": [
    "from sklearn.model_selection import train_test_split\n",
    "#X = data.iloc[:,:-1]\n",
    "X = data.drop('HPI', axis = 1)\n",
    "y = data['HPI']\n",
    "y = y.to_frame()\n",
    "\n",
    "X_train, X_test, y_train, y_test = train_test_split(X, y, test_size=0.2)\n",
    "\n",
    "print(X_train.shape), print(y_train.shape)\n",
    "print(X_test.shape), print(y_test.shape)"
   ]
  },
  {
   "cell_type": "code",
   "execution_count": 24,
   "id": "54422fcf",
   "metadata": {},
   "outputs": [
    {
     "data": {
      "text/plain": [
       "'\\nimport xgboost as xgb\\n\\ndata_dmatrix = xgb.DMatrix(data=X,label=y)\\nparams = {\"objective\":\"reg:linear\",\\'colsample_bytree\\': 0.3,\\'learning_rate\\': 0.1,\\n                \\'max_depth\\': 5, \\'alpha\\': 10}\\n\\ncv_results = xgb.cv(dtrain=data_dmatrix, params=params, nfold=3,\\n                    num_boost_round=50,early_stopping_rounds=10,metrics=\"rmse\", as_pandas=True, seed=123)\\nprint((cv_results[\"test-rmse-mean\"]).tail(1))\\nxg_reg = xgb.train(params=params, dtrain=data_dmatrix, num_boost_round=10)\\n\\nxgb.plot_importance(xg_reg)\\nplt.rcParams[\\'figure.figsize\\'] = [5, 5]\\nplt.show()\\n'"
      ]
     },
     "execution_count": 24,
     "metadata": {},
     "output_type": "execute_result"
    }
   ],
   "source": [
    "\"\"\"\n",
    "import xgboost as xgb\n",
    "\n",
    "data_dmatrix = xgb.DMatrix(data=X,label=y)\n",
    "params = {\"objective\":\"reg:linear\",'colsample_bytree': 0.3,'learning_rate': 0.1,\n",
    "                'max_depth': 5, 'alpha': 10}\n",
    "\n",
    "cv_results = xgb.cv(dtrain=data_dmatrix, params=params, nfold=3,\n",
    "                    num_boost_round=50,early_stopping_rounds=10,metrics=\"rmse\", as_pandas=True, seed=123)\n",
    "print((cv_results[\"test-rmse-mean\"]).tail(1))\n",
    "xg_reg = xgb.train(params=params, dtrain=data_dmatrix, num_boost_round=10)\n",
    "\n",
    "xgb.plot_importance(xg_reg)\n",
    "plt.rcParams['figure.figsize'] = [5, 5]\n",
    "plt.show()\n",
    "\"\"\""
   ]
  },
  {
   "cell_type": "code",
   "execution_count": null,
   "id": "4e9c1c78",
   "metadata": {},
   "outputs": [],
   "source": []
  },
  {
   "cell_type": "code",
   "execution_count": 25,
   "id": "b16a4836",
   "metadata": {},
   "outputs": [],
   "source": [
    "from sklearn.model_selection import cross_val_score\n",
    "from sklearn.model_selection import RepeatedStratifiedKFold\n",
    "from sklearn.neighbors import KNeighborsClassifier\n",
    "from sklearn.preprocessing import LabelEncoder\n",
    "from sklearn.preprocessing import PowerTransformer\n",
    "from sklearn.preprocessing import MinMaxScaler\n",
    "from sklearn.pipeline import Pipeline\n",
    "from pandas import DataFrame\n",
    "from matplotlib import pyplot\n",
    "from sklearn.svm import SVC, LinearSVC\n",
    "from sklearn.ensemble import RandomForestClassifier\n",
    "from sklearn.linear_model import LogisticRegression\n",
    "from sklearn.linear_model import LinearRegression\n",
    "from sklearn.neighbors import KNeighborsRegressor\n",
    "from sklearn.naive_bayes import GaussianNB\n",
    "from sklearn.tree import DecisionTreeClassifier\n",
    "#from xgboost import XGBRegressor\n",
    "from sklearn.metrics import mean_squared_error\n",
    "from sklearn.model_selection import KFold\n",
    "\n",
    "from numpy import mean\n",
    "from numpy import absolute\n",
    "from numpy import sqrt"
   ]
  },
  {
   "cell_type": "code",
   "execution_count": 26,
   "id": "f77b5af1",
   "metadata": {},
   "outputs": [
    {
     "name": "stdout",
     "output_type": "stream",
     "text": [
      "RMSE: 14.643482\n"
     ]
    }
   ],
   "source": [
    "# KNN\n",
    "knn_reg = KNeighborsRegressor()\n",
    "knn_reg.fit(X_train, y_train)\n",
    "pred_knn = knn_reg.predict(X_test)\n",
    "#acc_knn = accuracy_score(y_test, pred_knn)\n",
    "rmse = np.sqrt(mean_squared_error(y_test, pred_knn))\n",
    "print(\"RMSE: %f\" % (rmse))"
   ]
  },
  {
   "cell_type": "code",
   "execution_count": null,
   "id": "30011fb6",
   "metadata": {},
   "outputs": [],
   "source": [
    "#define cross-validation method to use\n",
    "cv = KFold(n_splits=10, random_state=1, shuffle=True) \n",
    "\n",
    "#build multiple linear regression model\n",
    "model = KNeighborsRegressor()\n",
    "\n",
    "#use LOOCV to evaluate model\n",
    "scores = cross_val_score(model, X, y, scoring='neg_mean_squared_error', cv=cv, n_jobs=-1)\n",
    "\n",
    "rmse=sqrt(mean(absolute(scores)))\n",
    "#rmse = np.sqrt(mean_squared_error(y_test, preds))\n",
    "print(\"RMSE: %f\" % (rmse))"
   ]
  },
  {
   "cell_type": "code",
   "execution_count": null,
   "id": "0996c687",
   "metadata": {},
   "outputs": [],
   "source": [
    "# LINEAR REGRESSION \n",
    "linreg = LinearRegression()\n",
    "linreg.fit(X_train, y_train)\n",
    "pred_linreg = linreg.predict(X_test)\n",
    "#print(regr.score(X_test, y_test))\n",
    "rmse_linreg = np.sqrt(mean_squared_error(y_test, pred_linreg))\n",
    "print(\"RMSE: %f\" % (rmse_linreg))"
   ]
  },
  {
   "cell_type": "code",
   "execution_count": null,
   "id": "fade1d1c",
   "metadata": {},
   "outputs": [],
   "source": []
  },
  {
   "cell_type": "code",
   "execution_count": null,
   "id": "4bd5cac1",
   "metadata": {},
   "outputs": [],
   "source": []
  },
  {
   "cell_type": "code",
   "execution_count": null,
   "id": "27e71549",
   "metadata": {},
   "outputs": [],
   "source": [
    "# XG BOOST REGRESSOR\n",
    "xgb_r = xg.XGBRegressor(objective ='reg:squarederror', n_estimators = 1000, seed = 123, learning_rate=0.1)\n",
    "  \n",
    "# Fitting the model\n",
    "xgb_r.fit(X_train, y_train)\n",
    "  \n",
    "# Predict the model\n",
    "pred = xgb_r.predict(X_test)\n",
    "  \n",
    "# RMSE Computation\n",
    "rmse = np.sqrt(mean_squared_error(y_test, pred))\n",
    "print(\"RMSE : % f\" %(rmse))"
   ]
  },
  {
   "cell_type": "code",
   "execution_count": null,
   "id": "4b6f0d01",
   "metadata": {},
   "outputs": [],
   "source": []
  },
  {
   "cell_type": "code",
   "execution_count": null,
   "id": "8f6b4278",
   "metadata": {},
   "outputs": [],
   "source": []
  },
  {
   "cell_type": "code",
   "execution_count": null,
   "id": "f24b2c87",
   "metadata": {},
   "outputs": [],
   "source": []
  },
  {
   "cell_type": "code",
   "execution_count": null,
   "id": "d7ccfec4",
   "metadata": {},
   "outputs": [],
   "source": []
  },
  {
   "cell_type": "code",
   "execution_count": null,
   "id": "74dc7b1f",
   "metadata": {},
   "outputs": [],
   "source": []
  },
  {
   "cell_type": "code",
   "execution_count": null,
   "id": "9df56506",
   "metadata": {},
   "outputs": [],
   "source": []
  },
  {
   "cell_type": "code",
   "execution_count": null,
   "id": "57dfe11e",
   "metadata": {},
   "outputs": [],
   "source": [
    "\n"
   ]
  },
  {
   "cell_type": "code",
   "execution_count": null,
   "id": "c61aad67",
   "metadata": {},
   "outputs": [],
   "source": []
  },
  {
   "cell_type": "code",
   "execution_count": null,
   "id": "b84c255f",
   "metadata": {},
   "outputs": [],
   "source": []
  },
  {
   "cell_type": "code",
   "execution_count": null,
   "id": "9f4344cc",
   "metadata": {},
   "outputs": [],
   "source": []
  },
  {
   "cell_type": "code",
   "execution_count": null,
   "id": "4a0d7b28",
   "metadata": {},
   "outputs": [],
   "source": [
    "\n"
   ]
  },
  {
   "cell_type": "code",
   "execution_count": null,
   "id": "2bb75d46",
   "metadata": {},
   "outputs": [],
   "source": []
  },
  {
   "cell_type": "code",
   "execution_count": null,
   "id": "2e38783f",
   "metadata": {},
   "outputs": [],
   "source": []
  },
  {
   "cell_type": "code",
   "execution_count": null,
   "id": "f1048eaa",
   "metadata": {},
   "outputs": [],
   "source": []
  },
  {
   "cell_type": "code",
   "execution_count": null,
   "id": "cb9d4fd9",
   "metadata": {},
   "outputs": [],
   "source": []
  },
  {
   "cell_type": "code",
   "execution_count": null,
   "id": "38e9b579",
   "metadata": {},
   "outputs": [],
   "source": []
  },
  {
   "cell_type": "code",
   "execution_count": null,
   "id": "2c5228b1",
   "metadata": {},
   "outputs": [],
   "source": []
  },
  {
   "cell_type": "code",
   "execution_count": null,
   "id": "b5ed6327",
   "metadata": {},
   "outputs": [],
   "source": []
  },
  {
   "cell_type": "code",
   "execution_count": null,
   "id": "f164aa9f",
   "metadata": {
    "scrolled": true
   },
   "outputs": [],
   "source": []
  },
  {
   "cell_type": "code",
   "execution_count": null,
   "id": "16b73d0f",
   "metadata": {},
   "outputs": [],
   "source": []
  },
  {
   "cell_type": "code",
   "execution_count": null,
   "id": "87d3b806",
   "metadata": {},
   "outputs": [],
   "source": []
  },
  {
   "cell_type": "code",
   "execution_count": null,
   "id": "703995eb",
   "metadata": {},
   "outputs": [],
   "source": []
  },
  {
   "cell_type": "code",
   "execution_count": null,
   "id": "26c0ad41",
   "metadata": {},
   "outputs": [],
   "source": []
  }
 ],
 "metadata": {
  "kernelspec": {
   "display_name": "Python 3 (ipykernel)",
   "language": "python",
   "name": "python3"
  },
  "language_info": {
   "codemirror_mode": {
    "name": "ipython",
    "version": 3
   },
   "file_extension": ".py",
   "mimetype": "text/x-python",
   "name": "python",
   "nbconvert_exporter": "python",
   "pygments_lexer": "ipython3",
   "version": "3.9.7"
  }
 },
 "nbformat": 4,
 "nbformat_minor": 5
}
